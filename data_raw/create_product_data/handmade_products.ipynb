{
 "cells": [
  {
   "cell_type": "markdown",
   "metadata": {},
   "source": [
    "## Code pour prendre des revues de différents produits\n",
    "* Importer les données\n",
    "    * Appliances\n",
    "    * Automotive\n",
    "    * CDs_and_Vinyl\n",
    "    * Digital_Music\n",
    "    * Gift_Cards\n",
    "    * Handmade_Products\n",
    "    * Musical_Instruments\n",
    "    * Video_Games\n",
    "* Filtrer celles que je souhaite conserver (quantité, équilibre des notes, présence d'informations pour xgboost [ex : prix, ...])\n",
    "    * Ne pas oublier le set.seed\n",
    "* Enregistrer les données"
   ]
  },
  {
   "cell_type": "markdown",
   "metadata": {},
   "source": [
    "## Pipeline de données\n"
   ]
  },
  {
   "cell_type": "code",
   "execution_count": 1,
   "metadata": {},
   "outputs": [],
   "source": [
    "### Packages de base\n",
    "import numpy as np\n",
    "import pandas as pd\n",
    "from datasets import load_dataset"
   ]
  },
  {
   "cell_type": "markdown",
   "metadata": {},
   "source": [
    "### Handmade Products\n",
    "#### Importation"
   ]
  },
  {
   "cell_type": "code",
   "execution_count": 2,
   "metadata": {},
   "outputs": [
    {
     "data": {
      "application/vnd.jupyter.widget-view+json": {
       "model_id": "bba5df328bea489dac10b8c9139fe1f9",
       "version_major": 2,
       "version_minor": 0
      },
      "text/plain": [
       "Handmade_Products.jsonl:   0%|          | 0.00/289M [00:00<?, ?B/s]"
      ]
     },
     "metadata": {},
     "output_type": "display_data"
    },
    {
     "name": "stderr",
     "output_type": "stream",
     "text": [
      "C:\\Users\\natha\\AppData\\Local\\Packages\\PythonSoftwareFoundation.Python.3.10_qbz5n2kfra8p0\\LocalCache\\local-packages\\Python310\\site-packages\\huggingface_hub\\file_download.py:139: UserWarning: `huggingface_hub` cache-system uses symlinks by default to efficiently store duplicated files but your machine does not support them in C:\\Users\\natha\\.cache\\huggingface\\hub\\datasets--McAuley-Lab--Amazon-Reviews-2023. Caching files will still work but in a degraded version that might require more space on your disk. This warning can be disabled by setting the `HF_HUB_DISABLE_SYMLINKS_WARNING` environment variable. For more details, see https://huggingface.co/docs/huggingface_hub/how-to-cache#limitations.\n",
      "To support symlinks on Windows, you either need to activate Developer Mode or to run Python as an administrator. In order to activate developer mode, see this article: https://docs.microsoft.com/en-us/windows/apps/get-started/enable-your-device-for-development\n",
      "  warnings.warn(message)\n"
     ]
    },
    {
     "data": {
      "application/vnd.jupyter.widget-view+json": {
       "model_id": "cd0f5804bde54bdaad4a185729619b14",
       "version_major": 2,
       "version_minor": 0
      },
      "text/plain": [
       "Generating full split: 0 examples [00:00, ? examples/s]"
      ]
     },
     "metadata": {},
     "output_type": "display_data"
    },
    {
     "data": {
      "application/vnd.jupyter.widget-view+json": {
       "model_id": "88b5d3b84fa443b6afa84587ae69a693",
       "version_major": 2,
       "version_minor": 0
      },
      "text/plain": [
       "meta_Handmade_Products.jsonl:   0%|          | 0.00/399M [00:00<?, ?B/s]"
      ]
     },
     "metadata": {},
     "output_type": "display_data"
    },
    {
     "data": {
      "application/vnd.jupyter.widget-view+json": {
       "model_id": "830075e57e8b4dd381d934193ba31a62",
       "version_major": 2,
       "version_minor": 0
      },
      "text/plain": [
       "Generating full split: 0 examples [00:00, ? examples/s]"
      ]
     },
     "metadata": {},
     "output_type": "display_data"
    }
   ],
   "source": [
    "## Load User Reviews\n",
    "dataset_reviews = load_dataset(\"McAuley-Lab/Amazon-Reviews-2023\", \"raw_review_Handmade_Products\", split=\"full\", trust_remote_code=True)\n",
    "\n",
    "## Load Item Metadata - Test avec All_Beauty\n",
    "dataset_items = load_dataset(\"McAuley-Lab/Amazon-Reviews-2023\", \"raw_meta_Handmade_Products\", split=\"full\", trust_remote_code=True)\n"
   ]
  },
  {
   "cell_type": "markdown",
   "metadata": {},
   "source": [
    "#### Reviews"
   ]
  },
  {
   "cell_type": "code",
   "execution_count": 3,
   "metadata": {},
   "outputs": [],
   "source": [
    "## Convert to df (plus à l'aise pour certaines manip et EDA)\n",
    "df_reviews = pd.DataFrame(dataset_reviews)"
   ]
  },
  {
   "cell_type": "code",
   "execution_count": 4,
   "metadata": {},
   "outputs": [],
   "source": [
    "### Data manipulation\n",
    "## Concat title and text\n",
    "df_reviews['full_text'] = \"Title : \" + df_reviews['title'].astype(str) + \"\\n Review : \" + df_reviews['text'].astype(str)\n",
    "\n",
    "## Create variable as_image\n",
    "df_reviews['as_image'] = np.where(df_reviews['images'].str.len() == 0, 0, 1)\n",
    "\n",
    "## Create variable as_helpful_vote\n",
    "df_reviews['as_helpful_vote'] = np.where(df_reviews['helpful_vote'] == 0, 0, 1)"
   ]
  },
  {
   "cell_type": "markdown",
   "metadata": {},
   "source": [
    "#### Items"
   ]
  },
  {
   "cell_type": "code",
   "execution_count": 5,
   "metadata": {},
   "outputs": [],
   "source": [
    "## Convert to pandas df\n",
    "df_items = pd.DataFrame(dataset_items)"
   ]
  },
  {
   "cell_type": "code",
   "execution_count": 7,
   "metadata": {},
   "outputs": [
    {
     "name": "stdout",
     "output_type": "stream",
     "text": [
      "Handmade                  164765\n",
      "Amazon Home                   11\n",
      "AMAZON FASHION                 9\n",
      "Office Products                6\n",
      "Health & Personal Care         3\n",
      "Pet Supplies                   3\n",
      "All Beauty                     2\n",
      "All Electronics                2\n",
      "Arts, Crafts & Sewing          1\n",
      "Amazon Devices                 1\n",
      "Name: main_category, dtype: int64\n",
      "Handmade    164765\n",
      "Name: main_category, dtype: int64\n"
     ]
    }
   ],
   "source": [
    "## Main category (filtrer pour conserver seulement \"Appliances\")\n",
    "print(df_items['main_category'].value_counts())\n",
    "df_items_cat = df_items[df_items['main_category'] == \"Handmade\"]\n",
    "print(df_items_cat['main_category'].value_counts())"
   ]
  },
  {
   "cell_type": "code",
   "execution_count": 8,
   "metadata": {},
   "outputs": [
    {
     "name": "stdout",
     "output_type": "stream",
     "text": [
      "164765\n",
      "97617\n"
     ]
    },
    {
     "data": {
      "text/plain": [
       "count     97617.000000\n",
       "mean         35.136140\n",
       "std         329.921911\n",
       "min           0.010000\n",
       "25%          13.000000\n",
       "50%          19.990000\n",
       "75%          33.900000\n",
       "max      100000.000000\n",
       "Name: price, dtype: float64"
      ]
     },
     "execution_count": 8,
     "metadata": {},
     "output_type": "execute_result"
    }
   ],
   "source": [
    "## Filtrer pour conserver seulement les produits avec un prix\n",
    "print(df_items_cat['price'].count())\n",
    "print(df_items_cat[df_items_cat['price'] != 'None']['price'].count())\n",
    "df_items_price = df_items_cat[df_items_cat['price'] != 'None']\n",
    "df_items_price['price'].astype(float).describe()"
   ]
  },
  {
   "cell_type": "code",
   "execution_count": 9,
   "metadata": {},
   "outputs": [
    {
     "name": "stdout",
     "output_type": "stream",
     "text": [
      "[Handmade Products, Home & Kitchen, Artwork, Prints]                                  13731\n",
      "[Handmade Products, Jewelry, Necklaces, Pendant]                                       6870\n",
      "[Handmade Products, Jewelry, Earrings, Drop & Dangle]                                  4324\n",
      "[Handmade Products, Home & Kitchen, Home Décor, Decorative Accessories, Ornaments]     3465\n",
      "[Handmade Products, Home & Kitchen, Home Décor, Signs & Plaques]                       3003\n",
      "                                                                                      ...  \n",
      "[Handmade Products, Handmade Small Business Promotion, Midwest FBA]                       1\n",
      "[Handmade Products, Beauty & Grooming, Shaving & Hair Removal]                            1\n",
      "[Handmade Products, Southeast States, Florida]                                            1\n",
      "[Handmade Products, Handmade Small Business Promotion, Rocky Mountain FBA]                1\n",
      "[Handmade Products, Clothing]                                                             1\n",
      "Name: categories, Length: 654, dtype: int64\n"
     ]
    }
   ],
   "source": [
    "## Aperçu des catégories\n",
    "print(df_items_price['categories'].value_counts())\n"
   ]
  },
  {
   "cell_type": "code",
   "execution_count": 10,
   "metadata": {},
   "outputs": [
    {
     "name": "stdout",
     "output_type": "stream",
     "text": [
      "Home & Kitchen                                 40395\n",
      "Jewelry                                        29962\n",
      "Clothing, Shoes & Accessories                   9557\n",
      "Stationery & Party Supplies                     7789\n",
      "Beauty & Grooming                               2603\n",
      "Sports & Outdoors                               1475\n",
      "Last minute gifts                               1353\n",
      "Electronics Accessories                         1160\n",
      "Pet Supplies                                     923\n",
      "Toys & Games                                     760\n",
      "Baby                                             689\n",
      "Health & Personal Care                           531\n",
      "Handmade Gift Shop                                50\n",
      "Handmade Small Business Promotion - Jewelry       49\n",
      "Handmade_Prime_Test                               44\n",
      "Handmade Small Business Promotion                 10\n",
      "Prime-eligible products                           10\n",
      "Southeast States                                   7\n",
      "Midwest States                                     5\n",
      "Northeast States                                   4\n",
      "Handmade: Last Minute Gifts 2-7 days               3\n",
      "Southwest States                                   3\n",
      "Accessories                                        2\n",
      "Valentine's Day Gifts                              2\n",
      "Made in Texas                                      2\n",
      "Holiday ASINs                                      1\n",
      "Handmade Shop Local                                1\n",
      "Pacific States                                     1\n",
      "Rocky Mountain States                              1\n",
      "Wedding                                            1\n",
      "Anniversary                                        1\n",
      "Birthday                                           1\n",
      "Clothing                                           1\n",
      "Name: categories_single, dtype: int64\n"
     ]
    },
    {
     "name": "stderr",
     "output_type": "stream",
     "text": [
      "C:\\Users\\natha\\AppData\\Local\\Temp\\ipykernel_24688\\3939727900.py:3: SettingWithCopyWarning: \n",
      "A value is trying to be set on a copy of a slice from a DataFrame.\n",
      "Try using .loc[row_indexer,col_indexer] = value instead\n",
      "\n",
      "See the caveats in the documentation: https://pandas.pydata.org/pandas-docs/stable/user_guide/indexing.html#returning-a-view-versus-a-copy\n",
      "  df_items_price['categories_single'] = df_items_price['categories'].apply(lambda x : (x or [None, None])[1])\n"
     ]
    }
   ],
   "source": [
    "## Isoler les catégories importantes\n",
    "#df_items_price['categories_single'] = df_items_price['categories'].apply(lambda x : (x or [None])[-1])\n",
    "df_items_price['categories_single'] = df_items_price['categories'].apply(lambda x : (x or [None, None])[1])\n",
    "\n",
    "## Aperçu des options\n",
    "print(df_items_price['categories_single'].value_counts())\n",
    "\n",
    "## À grouper\n",
    "# Parts & Accessories\n",
    "# Other\n"
   ]
  },
  {
   "cell_type": "code",
   "execution_count": 11,
   "metadata": {},
   "outputs": [
    {
     "name": "stderr",
     "output_type": "stream",
     "text": [
      "C:\\Users\\natha\\AppData\\Local\\Temp\\ipykernel_24688\\2265326548.py:2: SettingWithCopyWarning: \n",
      "A value is trying to be set on a copy of a slice from a DataFrame.\n",
      "Try using .loc[row_indexer,col_indexer] = value instead\n",
      "\n",
      "See the caveats in the documentation: https://pandas.pydata.org/pandas-docs/stable/user_guide/indexing.html#returning-a-view-versus-a-copy\n",
      "  df_items_price['categories_grp'] = np.where(\n"
     ]
    },
    {
     "data": {
      "text/plain": [
       "Looks             42122\n",
       "Home & Kitchen    40395\n",
       "Other             15100\n",
       "Name: categories_grp, dtype: int64"
      ]
     },
     "execution_count": 11,
     "metadata": {},
     "output_type": "execute_result"
    }
   ],
   "source": [
    "## Grouper les catégories\n",
    "df_items_price['categories_grp'] = np.where(\n",
    "    df_items_price['categories_single'] == \"Home & Kitchen\", \"Home & Kitchen\", \n",
    "    np.where(\n",
    "        np.isin(df_items_price['categories_single'], [\"Jewelry\", \"Clothing, Shoes & Accessories\", \"Beauty & Grooming\"]), \"Looks\",\n",
    "    \"Other\"\n",
    "    ))\n",
    "\n",
    "df_items_price['categories_grp'].value_counts()"
   ]
  },
  {
   "cell_type": "code",
   "execution_count": 11,
   "metadata": {},
   "outputs": [],
   "source": [
    "### Potentiel pour XGBoost\n",
    "## Reviews\n",
    "# Création variable presence_image (as_image)\n",
    "# verified_purchase\n",
    "# helpful_vote (as_helpful_votes)\n",
    "\n",
    "## Items\n",
    "# Sure : main_category, average_rating, rating_number, price\n",
    "# catgories_grp\n",
    "# Potentiel : \n",
    "#   XTitle? De quoi à faire avec ça?\n",
    "#   *store name? dequoi à faire avec ça?\n",
    "#   **categories (potentiellement qqch à faire avec ça!) (extraire du dictionnaire!)\n",
    "# rating_number (number of ratings for average)\n"
   ]
  },
  {
   "cell_type": "markdown",
   "metadata": {},
   "source": [
    "#### Merge Items to Reviews"
   ]
  },
  {
   "cell_type": "code",
   "execution_count": 12,
   "metadata": {},
   "outputs": [],
   "source": [
    "# Keep only necessary variables before mergeing\n",
    "df_reviews_f = df_reviews[['rating', 'full_text', 'as_image', 'parent_asin', 'as_helpful_vote', 'helpful_vote', 'verified_purchase']]\n",
    "df_items_f = df_items_price[['main_category', 'average_rating', 'rating_number', 'price', 'parent_asin', 'categories_grp']]\n",
    "\n",
    "# Merge Items on Reviews\n",
    "df_full = df_reviews_f.merge(df_items_f, on='parent_asin', how='left')\n",
    "\n",
    "# Filter Price\n",
    "df_full_price = df_full[df_full['price'] != 'None']\n",
    "\n",
    "# Keep only necessary variables\n",
    "df_final = df_full_price[['parent_asin', # both\n",
    "               'rating', 'full_text', 'as_image', 'helpful_vote', 'as_helpful_vote', 'verified_purchase', # reviews\n",
    "               'main_category', 'average_rating', 'rating_number', 'price', 'categories_grp']] # items\n",
    "\n",
    "# Filter main_categoy and price\n",
    "df_final = df_final.dropna()"
   ]
  },
  {
   "cell_type": "code",
   "execution_count": 13,
   "metadata": {},
   "outputs": [
    {
     "data": {
      "text/html": [
       "<div>\n",
       "<style scoped>\n",
       "    .dataframe tbody tr th:only-of-type {\n",
       "        vertical-align: middle;\n",
       "    }\n",
       "\n",
       "    .dataframe tbody tr th {\n",
       "        vertical-align: top;\n",
       "    }\n",
       "\n",
       "    .dataframe thead th {\n",
       "        text-align: right;\n",
       "    }\n",
       "</style>\n",
       "<table border=\"1\" class=\"dataframe\">\n",
       "  <thead>\n",
       "    <tr style=\"text-align: right;\">\n",
       "      <th></th>\n",
       "      <th>parent_asin</th>\n",
       "      <th>rating</th>\n",
       "      <th>full_text</th>\n",
       "      <th>as_image</th>\n",
       "      <th>helpful_vote</th>\n",
       "      <th>as_helpful_vote</th>\n",
       "      <th>verified_purchase</th>\n",
       "      <th>main_category</th>\n",
       "      <th>average_rating</th>\n",
       "      <th>rating_number</th>\n",
       "      <th>price</th>\n",
       "      <th>categories_grp</th>\n",
       "    </tr>\n",
       "  </thead>\n",
       "  <tbody>\n",
       "    <tr>\n",
       "      <th>0</th>\n",
       "      <td>B08GPJ1MSN</td>\n",
       "      <td>5.0</td>\n",
       "      <td>Title : Beautiful colors\\n Review : I bought o...</td>\n",
       "      <td>0</td>\n",
       "      <td>1</td>\n",
       "      <td>1</td>\n",
       "      <td>True</td>\n",
       "      <td>Handmade</td>\n",
       "      <td>4.3</td>\n",
       "      <td>1194.0</td>\n",
       "      <td>17.99</td>\n",
       "      <td>Looks</td>\n",
       "    </tr>\n",
       "    <tr>\n",
       "      <th>1</th>\n",
       "      <td>B084TWHS7W</td>\n",
       "      <td>5.0</td>\n",
       "      <td>Title : You simply must order order more than ...</td>\n",
       "      <td>0</td>\n",
       "      <td>0</td>\n",
       "      <td>0</td>\n",
       "      <td>True</td>\n",
       "      <td>Handmade</td>\n",
       "      <td>5.0</td>\n",
       "      <td>4.0</td>\n",
       "      <td>13.49</td>\n",
       "      <td>Home &amp; Kitchen</td>\n",
       "    </tr>\n",
       "    <tr>\n",
       "      <th>2</th>\n",
       "      <td>B07V3NRQC4</td>\n",
       "      <td>5.0</td>\n",
       "      <td>Title : Great\\n Review : As pictured. Used a f...</td>\n",
       "      <td>0</td>\n",
       "      <td>0</td>\n",
       "      <td>0</td>\n",
       "      <td>True</td>\n",
       "      <td>Handmade</td>\n",
       "      <td>4.3</td>\n",
       "      <td>21.0</td>\n",
       "      <td>14.95</td>\n",
       "      <td>Home &amp; Kitchen</td>\n",
       "    </tr>\n",
       "    <tr>\n",
       "      <th>3</th>\n",
       "      <td>B071ZMDK26</td>\n",
       "      <td>5.0</td>\n",
       "      <td>Title : Well made and so beautiful\\n Review : ...</td>\n",
       "      <td>0</td>\n",
       "      <td>2</td>\n",
       "      <td>1</td>\n",
       "      <td>True</td>\n",
       "      <td>Handmade</td>\n",
       "      <td>4.7</td>\n",
       "      <td>1214.0</td>\n",
       "      <td>24.0</td>\n",
       "      <td>Looks</td>\n",
       "    </tr>\n",
       "    <tr>\n",
       "      <th>5</th>\n",
       "      <td>B09ZXTLVWP</td>\n",
       "      <td>5.0</td>\n",
       "      <td>Title : These are beautiful\\n Review : I have ...</td>\n",
       "      <td>0</td>\n",
       "      <td>29</td>\n",
       "      <td>1</td>\n",
       "      <td>False</td>\n",
       "      <td>Handmade</td>\n",
       "      <td>4.3</td>\n",
       "      <td>21.0</td>\n",
       "      <td>18.99</td>\n",
       "      <td>Home &amp; Kitchen</td>\n",
       "    </tr>\n",
       "    <tr>\n",
       "      <th>...</th>\n",
       "      <td>...</td>\n",
       "      <td>...</td>\n",
       "      <td>...</td>\n",
       "      <td>...</td>\n",
       "      <td>...</td>\n",
       "      <td>...</td>\n",
       "      <td>...</td>\n",
       "      <td>...</td>\n",
       "      <td>...</td>\n",
       "      <td>...</td>\n",
       "      <td>...</td>\n",
       "      <td>...</td>\n",
       "    </tr>\n",
       "    <tr>\n",
       "      <th>664157</th>\n",
       "      <td>B0BPYCKN76</td>\n",
       "      <td>1.0</td>\n",
       "      <td>Title : This can't be the real thing! GROSS!\\n...</td>\n",
       "      <td>0</td>\n",
       "      <td>0</td>\n",
       "      <td>0</td>\n",
       "      <td>True</td>\n",
       "      <td>Handmade</td>\n",
       "      <td>4.1</td>\n",
       "      <td>284.0</td>\n",
       "      <td>11.99</td>\n",
       "      <td>Home &amp; Kitchen</td>\n",
       "    </tr>\n",
       "    <tr>\n",
       "      <th>664158</th>\n",
       "      <td>B0843SG3C6</td>\n",
       "      <td>5.0</td>\n",
       "      <td>Title : Great scrubby\\n Review : Great quality...</td>\n",
       "      <td>0</td>\n",
       "      <td>2</td>\n",
       "      <td>1</td>\n",
       "      <td>True</td>\n",
       "      <td>Handmade</td>\n",
       "      <td>4.4</td>\n",
       "      <td>208.0</td>\n",
       "      <td>15.95</td>\n",
       "      <td>Home &amp; Kitchen</td>\n",
       "    </tr>\n",
       "    <tr>\n",
       "      <th>664159</th>\n",
       "      <td>B01DTEP09O</td>\n",
       "      <td>5.0</td>\n",
       "      <td>Title : Five Stars\\n Review : Beautiful notebo...</td>\n",
       "      <td>0</td>\n",
       "      <td>0</td>\n",
       "      <td>0</td>\n",
       "      <td>True</td>\n",
       "      <td>Handmade</td>\n",
       "      <td>4.6</td>\n",
       "      <td>111.0</td>\n",
       "      <td>29.0</td>\n",
       "      <td>Other</td>\n",
       "    </tr>\n",
       "    <tr>\n",
       "      <th>664160</th>\n",
       "      <td>B07GJ554VV</td>\n",
       "      <td>5.0</td>\n",
       "      <td>Title : This is a beautiful picture\\n Review :...</td>\n",
       "      <td>0</td>\n",
       "      <td>0</td>\n",
       "      <td>0</td>\n",
       "      <td>True</td>\n",
       "      <td>Handmade</td>\n",
       "      <td>4.5</td>\n",
       "      <td>514.0</td>\n",
       "      <td>12.99</td>\n",
       "      <td>Home &amp; Kitchen</td>\n",
       "    </tr>\n",
       "    <tr>\n",
       "      <th>664161</th>\n",
       "      <td>B01M1E3QIR</td>\n",
       "      <td>5.0</td>\n",
       "      <td>Title : Woodwork is perfect, identical and str...</td>\n",
       "      <td>0</td>\n",
       "      <td>1</td>\n",
       "      <td>1</td>\n",
       "      <td>True</td>\n",
       "      <td>Handmade</td>\n",
       "      <td>4.3</td>\n",
       "      <td>14.0</td>\n",
       "      <td>45.9</td>\n",
       "      <td>Home &amp; Kitchen</td>\n",
       "    </tr>\n",
       "  </tbody>\n",
       "</table>\n",
       "<p>496372 rows × 12 columns</p>\n",
       "</div>"
      ],
      "text/plain": [
       "       parent_asin  rating                                          full_text  \\\n",
       "0       B08GPJ1MSN     5.0  Title : Beautiful colors\\n Review : I bought o...   \n",
       "1       B084TWHS7W     5.0  Title : You simply must order order more than ...   \n",
       "2       B07V3NRQC4     5.0  Title : Great\\n Review : As pictured. Used a f...   \n",
       "3       B071ZMDK26     5.0  Title : Well made and so beautiful\\n Review : ...   \n",
       "5       B09ZXTLVWP     5.0  Title : These are beautiful\\n Review : I have ...   \n",
       "...            ...     ...                                                ...   \n",
       "664157  B0BPYCKN76     1.0  Title : This can't be the real thing! GROSS!\\n...   \n",
       "664158  B0843SG3C6     5.0  Title : Great scrubby\\n Review : Great quality...   \n",
       "664159  B01DTEP09O     5.0  Title : Five Stars\\n Review : Beautiful notebo...   \n",
       "664160  B07GJ554VV     5.0  Title : This is a beautiful picture\\n Review :...   \n",
       "664161  B01M1E3QIR     5.0  Title : Woodwork is perfect, identical and str...   \n",
       "\n",
       "        as_image  helpful_vote  as_helpful_vote  verified_purchase  \\\n",
       "0              0             1                1               True   \n",
       "1              0             0                0               True   \n",
       "2              0             0                0               True   \n",
       "3              0             2                1               True   \n",
       "5              0            29                1              False   \n",
       "...          ...           ...              ...                ...   \n",
       "664157         0             0                0               True   \n",
       "664158         0             2                1               True   \n",
       "664159         0             0                0               True   \n",
       "664160         0             0                0               True   \n",
       "664161         0             1                1               True   \n",
       "\n",
       "       main_category  average_rating  rating_number  price  categories_grp  \n",
       "0           Handmade             4.3         1194.0  17.99           Looks  \n",
       "1           Handmade             5.0            4.0  13.49  Home & Kitchen  \n",
       "2           Handmade             4.3           21.0  14.95  Home & Kitchen  \n",
       "3           Handmade             4.7         1214.0   24.0           Looks  \n",
       "5           Handmade             4.3           21.0  18.99  Home & Kitchen  \n",
       "...              ...             ...            ...    ...             ...  \n",
       "664157      Handmade             4.1          284.0  11.99  Home & Kitchen  \n",
       "664158      Handmade             4.4          208.0  15.95  Home & Kitchen  \n",
       "664159      Handmade             4.6          111.0   29.0           Other  \n",
       "664160      Handmade             4.5          514.0  12.99  Home & Kitchen  \n",
       "664161      Handmade             4.3           14.0   45.9  Home & Kitchen  \n",
       "\n",
       "[496372 rows x 12 columns]"
      ]
     },
     "execution_count": 13,
     "metadata": {},
     "output_type": "execute_result"
    }
   ],
   "source": [
    "df_final"
   ]
  },
  {
   "cell_type": "code",
   "execution_count": 14,
   "metadata": {},
   "outputs": [],
   "source": [
    "#df_final.iloc[1]['full_text']"
   ]
  },
  {
   "cell_type": "markdown",
   "metadata": {},
   "source": [
    "### Save\n"
   ]
  },
  {
   "cell_type": "code",
   "execution_count": null,
   "metadata": {},
   "outputs": [],
   "source": [
    "#df_final = df_final.drop(df_final.index[[]])"
   ]
  },
  {
   "cell_type": "code",
   "execution_count": 14,
   "metadata": {},
   "outputs": [],
   "source": [
    "## Save data\n",
    "df_final.to_csv('./../data/handmade_products.csv')"
   ]
  },
  {
   "cell_type": "code",
   "execution_count": null,
   "metadata": {},
   "outputs": [
    {
     "data": {
      "text/plain": [
       "\"Title : Horrible\\n Review : Horrible! Didn't look anything like the picture. Dull gold and look<br />like the gold was coming off. Looked pitted and black in spots.<br />Wouldn't tell anyone to buy from them.\""
      ]
     },
     "execution_count": 18,
     "metadata": {},
     "output_type": "execute_result"
    }
   ],
   "source": [
    "#df_final.iloc[456879]['full_text']"
   ]
  }
 ],
 "metadata": {
  "kernelspec": {
   "display_name": "Python 3",
   "language": "python",
   "name": "python3"
  },
  "language_info": {
   "codemirror_mode": {
    "name": "ipython",
    "version": 3
   },
   "file_extension": ".py",
   "mimetype": "text/x-python",
   "name": "python",
   "nbconvert_exporter": "python",
   "pygments_lexer": "ipython3",
   "version": "3.10.11"
  }
 },
 "nbformat": 4,
 "nbformat_minor": 2
}
