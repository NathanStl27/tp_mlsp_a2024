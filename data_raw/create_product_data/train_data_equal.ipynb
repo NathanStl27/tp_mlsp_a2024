{
 "cells": [
  {
   "cell_type": "markdown",
   "metadata": {},
   "source": [
    "## Code pour préparer les train/valid/test sets (poids égaux par classe de rating)\n",
    "* Importer et buncher tous les produits\n",
    "* Séparer en train/valid/test avec strate (sur rating, main_category ou sur categories??)\n",
    "* Filtrer les valeurs aberrantes\n",
    "* Enregistrer les données en 3 fichiers séparés"
   ]
  },
  {
   "cell_type": "code",
   "execution_count": 2,
   "metadata": {},
   "outputs": [],
   "source": [
    "### Packages de base\n",
    "import numpy as np\n",
    "import pandas as pd\n",
    "from sklearn.model_selection import train_test_split"
   ]
  },
  {
   "cell_type": "markdown",
   "metadata": {},
   "source": [
    "### Importer et buncher tous les produits\n"
   ]
  },
  {
   "cell_type": "code",
   "execution_count": 3,
   "metadata": {},
   "outputs": [],
   "source": [
    "## Loader les données\n",
    "appliances = pd.read_csv('./../data/appliances.csv', )\n",
    "cds_and_vinyl = pd.read_csv('./../data/cds_and_vinyl.csv')\n",
    "#digital_music = pd.read_csv('./../data/digital_music.csv')\n",
    "gift_cards = pd.read_csv('./../data/gift_cards.csv')\n",
    "handmade_products = pd.read_csv('./../data/handmade_products.csv')\n",
    "musical_instruments = pd.read_csv('./../data/musical_instruments.csv')\n",
    "video_games = pd.read_csv('./../data/video_games.csv')\n"
   ]
  },
  {
   "cell_type": "code",
   "execution_count": 4,
   "metadata": {},
   "outputs": [],
   "source": [
    "## Buncher ensemble\n",
    "df_full = pd.concat([appliances, cds_and_vinyl, gift_cards, handmade_products, musical_instruments, video_games]) #, digital_music"
   ]
  },
  {
   "cell_type": "code",
   "execution_count": 5,
   "metadata": {},
   "outputs": [],
   "source": [
    "## Ajouter cvolonne ID\n",
    "df_full = df_full.drop(df_full.columns[0], axis=1)\n",
    "df_full['ID'] = range(1, len(df_full)+1)"
   ]
  },
  {
   "cell_type": "code",
   "execution_count": 36,
   "metadata": {},
   "outputs": [
    {
     "name": "stdout",
     "output_type": "stream",
     "text": [
      "(9676194, 13)\n",
      "Index(['parent_asin', 'rating', 'full_text', 'as_image', 'helpful_vote',\n",
      "       'as_helpful_vote', 'verified_purchase', 'main_category',\n",
      "       'average_rating', 'rating_number', 'price', 'categories_grp', 'ID'],\n",
      "      dtype='object')\n"
     ]
    }
   ],
   "source": [
    "print(df_full.shape)\n",
    "print(df_full.columns)"
   ]
  },
  {
   "cell_type": "markdown",
   "metadata": {},
   "source": [
    "### Créer jeu de train\n",
    "1 échantillon par modèle\n",
    "\n",
    "#### Répliquer les splits précédent pour s'assurer que les données utilisées pour le train ne soient pas dans le test final"
   ]
  },
  {
   "cell_type": "code",
   "execution_count": 7,
   "metadata": {},
   "outputs": [],
   "source": [
    "## Test set\n",
    "train_temp, test = train_test_split(df_full, test_size=250000, random_state=3355, stratify=df_full['rating'])"
   ]
  },
  {
   "cell_type": "code",
   "execution_count": 9,
   "metadata": {},
   "outputs": [],
   "source": [
    "## Valid sets\n",
    "train, valid_temp = train_test_split(train_temp, test_size=300000, random_state=9999, stratify=train_temp['rating'])"
   ]
  },
  {
   "cell_type": "markdown",
   "metadata": {},
   "source": [
    "#### Créer 5 jeux (1 par classe)"
   ]
  },
  {
   "cell_type": "code",
   "execution_count": null,
   "metadata": {},
   "outputs": [],
   "source": [
    "## Séparer par rating\n",
    "train_1 = train[train['rating'] == 1]\n",
    "train_2 = train[train['rating'] == 2]\n",
    "train_3 = train[train['rating'] == 3]\n",
    "train_4 = train[train['rating'] == 4]\n",
    "train_5 = train[train['rating'] == 5]"
   ]
  },
  {
   "cell_type": "code",
   "execution_count": null,
   "metadata": {},
   "outputs": [],
   "source": [
    "## Séparer en XGBoost et Llama\n",
    "train_1_xgb, train_1_llama = train_test_split(train_1, test_size=1000, random_state=1111, stratify=train_1['categories_grp'])\n",
    "train_2_xgb, train_2_llama = train_test_split(train_2, test_size=1000, random_state=2222, stratify=train_2['categories_grp'])\n",
    "train_3_xgb, train_3_llama = train_test_split(train_3, test_size=1000, random_state=3333, stratify=train_3['categories_grp'])\n",
    "train_4_xgb, train_4_llama = train_test_split(train_4, test_size=1000, random_state=4444, stratify=train_4['categories_grp'])\n",
    "train_5_xgb, train_5_llama = train_test_split(train_5, test_size=1000, random_state=5555, stratify=train_5['categories_grp'])"
   ]
  },
  {
   "cell_type": "code",
   "execution_count": 32,
   "metadata": {},
   "outputs": [],
   "source": [
    "## 1 jeu par modèle\n",
    "train_xgb = pd.concat([train_1_xgb, train_2_xgb, train_3_xgb, train_4_xgb, train_5_xgb])\n",
    "train_xgb = train_xgb.sample(n=500000, replace=False, random_state=12345)\n",
    "\n",
    "train_llama = pd.concat([train_1_llama, train_2_llama, train_3_llama, train_4_llama, train_5_llama])"
   ]
  },
  {
   "cell_type": "code",
   "execution_count": 33,
   "metadata": {},
   "outputs": [
    {
     "name": "stdout",
     "output_type": "stream",
     "text": [
      "(500000, 13)\n",
      "Index(['parent_asin', 'rating', 'full_text', 'as_image', 'helpful_vote',\n",
      "       'as_helpful_vote', 'verified_purchase', 'main_category',\n",
      "       'average_rating', 'rating_number', 'price', 'categories_grp', 'ID'],\n",
      "      dtype='object')\n",
      "-- rating --\n",
      "count    500000.000000\n",
      "mean          4.354076\n",
      "std           1.198334\n",
      "min           1.000000\n",
      "25%           4.000000\n",
      "50%           5.000000\n",
      "75%           5.000000\n",
      "max           5.000000\n",
      "Name: rating, dtype: float64\n",
      "-- average_rating --\n",
      "count    500000.000000\n",
      "mean          4.513341\n",
      "std           0.337004\n",
      "min           1.000000\n",
      "25%           4.400000\n",
      "50%           4.600000\n",
      "75%           4.700000\n",
      "max           5.000000\n",
      "Name: average_rating, dtype: float64\n",
      "-- rating_number --\n",
      "count    500000.000000\n",
      "mean       3807.663646\n",
      "std       15297.826360\n",
      "min           1.000000\n",
      "25%          84.000000\n",
      "50%         417.000000\n",
      "75%        1700.000000\n",
      "max      261278.000000\n",
      "Name: rating_number, dtype: float64\n",
      "-- as_image --\n",
      "count    500000.000000\n",
      "mean          0.031200\n",
      "std           0.173858\n",
      "min           0.000000\n",
      "25%           0.000000\n",
      "50%           0.000000\n",
      "75%           0.000000\n",
      "max           1.000000\n",
      "Name: as_image, dtype: float64\n",
      "-- as_helpful_vote --\n",
      "count    500000.000000\n",
      "mean          0.333186\n",
      "std           0.471353\n",
      "min           0.000000\n",
      "25%           0.000000\n",
      "50%           0.000000\n",
      "75%           1.000000\n",
      "max           1.000000\n",
      "Name: as_helpful_vote, dtype: float64\n",
      "-- price --\n",
      "count    500000.000000\n",
      "mean         47.413895\n",
      "std         108.302511\n",
      "min           0.000000\n",
      "25%          11.890000\n",
      "50%          19.950000\n",
      "75%          39.990000\n",
      "max        6399.000000\n",
      "Name: price, dtype: float64\n",
      "-- main_category --\n",
      "Digital Music               217749\n",
      "Video Games                 107015\n",
      "Musical Instruments          92547\n",
      "Tools & Home Improvement     31802\n",
      "Handmade                     25706\n",
      "Appliances                   21113\n",
      "Gift Cards                    4068\n",
      "Name: main_category, dtype: int64\n",
      "-- categories_grp --\n",
      "Other                     183132\n",
      "Games                      58578\n",
      "Pop                        49565\n",
      "Accessories                48437\n",
      "Instrument Accessories     40152\n",
      "Country                    33611\n",
      "Rock                       33555\n",
      "Classical                  24785\n",
      "Looks                      11276\n",
      "Home & Kitchen             10698\n",
      "Parts & Accessories         4548\n",
      "Clothing                     653\n",
      "Restaurants                  557\n",
      "Specialty Cards              281\n",
      "Office-Gaming                172\n",
      "Name: categories_grp, dtype: int64\n",
      "-- verified_purchase --\n",
      "True     399626\n",
      "False    100374\n",
      "Name: verified_purchase, dtype: int64\n",
      "(5000, 13)\n",
      "Index(['parent_asin', 'rating', 'full_text', 'as_image', 'helpful_vote',\n",
      "       'as_helpful_vote', 'verified_purchase', 'main_category',\n",
      "       'average_rating', 'rating_number', 'price', 'categories_grp', 'ID'],\n",
      "      dtype='object')\n",
      "-- rating --\n",
      "count    5000.000000\n",
      "mean        3.000000\n",
      "std         1.414355\n",
      "min         1.000000\n",
      "25%         2.000000\n",
      "50%         3.000000\n",
      "75%         4.000000\n",
      "max         5.000000\n",
      "Name: rating, dtype: float64\n"
     ]
    }
   ],
   "source": [
    "### Assurance qualité\n",
    "## XGB\n",
    "print(train_xgb.shape)\n",
    "print(train_xgb.columns)\n",
    "\n",
    "print(\"-- rating --\")\n",
    "print(train_xgb['rating'].describe())\n",
    "print(\"-- average_rating --\")\n",
    "print(train_xgb['average_rating'].describe())\n",
    "print(\"-- rating_number --\")\n",
    "print(train_xgb['rating_number'].describe())\n",
    "\n",
    "print(\"-- as_image --\")\n",
    "print(train_xgb['as_image'].describe())\n",
    "print(\"-- as_helpful_vote --\")\n",
    "print(train_xgb['as_helpful_vote'].describe())\n",
    "\n",
    "print(\"-- price --\")\n",
    "print(train_xgb['price'].describe())\n",
    "\n",
    "print(\"-- main_category --\")\n",
    "print(train_xgb['main_category'].value_counts())\n",
    "print(\"-- categories_grp --\")\n",
    "print(train_xgb['categories_grp'].value_counts())\n",
    "print(\"-- verified_purchase --\")\n",
    "print(train_xgb['verified_purchase'].value_counts())\n",
    "\n",
    "## Llama\n",
    "print(train_llama.shape)\n",
    "print(train_llama.columns)\n",
    "\n",
    "print(\"-- rating --\")\n",
    "print(train_llama['rating'].describe())"
   ]
  },
  {
   "cell_type": "code",
   "execution_count": 37,
   "metadata": {},
   "outputs": [],
   "source": [
    "## Conserver les variables importantes\n",
    "train_llama_final = train_llama[['ID', 'rating', 'full_text']]\n",
    "train_xgb_final = train_xgb[['ID', 'parent_asin', 'rating', 'full_text', 'as_image', 'helpful_vote',\n",
    "                             'as_helpful_vote', 'verified_purchase', 'main_category',\n",
    "                             'average_rating', 'rating_number', 'price', 'categories_grp']]"
   ]
  },
  {
   "cell_type": "code",
   "execution_count": 40,
   "metadata": {},
   "outputs": [],
   "source": [
    "## Filtrer avant de saver\n",
    "train_xgb_final = train_xgb_final[train_xgb_final['rating_number'] <= 25000]\n",
    "train_xgb_final = train_xgb_final[train_xgb_final['helpful_vote'] <= 10]\n",
    "train_xgb_final = train_xgb_final[train_xgb_final['price'] <= 500]"
   ]
  },
  {
   "cell_type": "code",
   "execution_count": 41,
   "metadata": {},
   "outputs": [
    {
     "data": {
      "text/plain": [
       "(468416, 13)"
      ]
     },
     "execution_count": 41,
     "metadata": {},
     "output_type": "execute_result"
    }
   ],
   "source": [
    "train_xgb_final.shape"
   ]
  },
  {
   "cell_type": "code",
   "execution_count": 42,
   "metadata": {},
   "outputs": [],
   "source": [
    "## Enregistrer les échantillons de train (rating égaux en poids)\n",
    "#train_llama_final.to_csv('./../data/train_llama_equal_weights.csv', index=False)\n",
    "train_xgb_final.to_csv('./../data/train_xgb_equal_weights.csv', index=False)"
   ]
  }
 ],
 "metadata": {
  "kernelspec": {
   "display_name": "Python 3",
   "language": "python",
   "name": "python3"
  },
  "language_info": {
   "codemirror_mode": {
    "name": "ipython",
    "version": 3
   },
   "file_extension": ".py",
   "mimetype": "text/x-python",
   "name": "python",
   "nbconvert_exporter": "python",
   "pygments_lexer": "ipython3",
   "version": "3.10.11"
  }
 },
 "nbformat": 4,
 "nbformat_minor": 2
}
