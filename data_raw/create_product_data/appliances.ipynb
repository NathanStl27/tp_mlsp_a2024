{
 "cells": [
  {
   "cell_type": "markdown",
   "metadata": {},
   "source": [
    "## Code pour prendre des revues de différents produits\n",
    "* Importer les données\n",
    "    * Appliances\n",
    "    * Automotive\n",
    "    * CDs_and_Vinyl\n",
    "    * Digital_Music\n",
    "    * Gift_Cards\n",
    "    * Handmade_Products\n",
    "    * Musical_Instruments\n",
    "    * Video_Games\n",
    "* Filtrer celles que je souhaite conserver (quantité, équilibre des notes, présence d'informations pour xgboost [ex : prix, ...])\n",
    "    * Ne pas oublier le set.seed\n",
    "* Enregistrer les données"
   ]
  },
  {
   "cell_type": "markdown",
   "metadata": {},
   "source": [
    "## Pipeline de données\n"
   ]
  },
  {
   "cell_type": "code",
   "execution_count": 1,
   "metadata": {},
   "outputs": [],
   "source": [
    "### Packages de base\n",
    "import numpy as np\n",
    "import pandas as pd\n",
    "from datasets import load_dataset"
   ]
  },
  {
   "cell_type": "markdown",
   "metadata": {},
   "source": [
    "### Appliances\n",
    "#### Importation"
   ]
  },
  {
   "cell_type": "code",
   "execution_count": 2,
   "metadata": {},
   "outputs": [
    {
     "data": {
      "application/vnd.jupyter.widget-view+json": {
       "model_id": "a658bd4da7cb4e6d99a58c8eea3e3b72",
       "version_major": 2,
       "version_minor": 0
      },
      "text/plain": [
       "Appliances.jsonl:   0%|          | 0.00/929M [00:00<?, ?B/s]"
      ]
     },
     "metadata": {},
     "output_type": "display_data"
    },
    {
     "name": "stderr",
     "output_type": "stream",
     "text": [
      "C:\\Users\\natha\\AppData\\Local\\Packages\\PythonSoftwareFoundation.Python.3.10_qbz5n2kfra8p0\\LocalCache\\local-packages\\Python310\\site-packages\\huggingface_hub\\file_download.py:139: UserWarning: `huggingface_hub` cache-system uses symlinks by default to efficiently store duplicated files but your machine does not support them in C:\\Users\\natha\\.cache\\huggingface\\hub\\datasets--McAuley-Lab--Amazon-Reviews-2023. Caching files will still work but in a degraded version that might require more space on your disk. This warning can be disabled by setting the `HF_HUB_DISABLE_SYMLINKS_WARNING` environment variable. For more details, see https://huggingface.co/docs/huggingface_hub/how-to-cache#limitations.\n",
      "To support symlinks on Windows, you either need to activate Developer Mode or to run Python as an administrator. In order to activate developer mode, see this article: https://docs.microsoft.com/en-us/windows/apps/get-started/enable-your-device-for-development\n",
      "  warnings.warn(message)\n"
     ]
    },
    {
     "data": {
      "application/vnd.jupyter.widget-view+json": {
       "model_id": "25c31a8c9bd7424e97bcdb286ccff1bb",
       "version_major": 2,
       "version_minor": 0
      },
      "text/plain": [
       "Generating full split: 0 examples [00:00, ? examples/s]"
      ]
     },
     "metadata": {},
     "output_type": "display_data"
    },
    {
     "data": {
      "application/vnd.jupyter.widget-view+json": {
       "model_id": "d8271a8b2f2640198d28bb88e7bbb957",
       "version_major": 2,
       "version_minor": 0
      },
      "text/plain": [
       "meta_Appliances.jsonl:   0%|          | 0.00/285M [00:00<?, ?B/s]"
      ]
     },
     "metadata": {},
     "output_type": "display_data"
    },
    {
     "data": {
      "application/vnd.jupyter.widget-view+json": {
       "model_id": "88d073bdf5ea47eca7cb0059430af1eb",
       "version_major": 2,
       "version_minor": 0
      },
      "text/plain": [
       "Generating full split: 0 examples [00:00, ? examples/s]"
      ]
     },
     "metadata": {},
     "output_type": "display_data"
    }
   ],
   "source": [
    "## Load User Reviews\n",
    "dataset_reviews = load_dataset(\"McAuley-Lab/Amazon-Reviews-2023\", \"raw_review_Appliances\", split=\"full\", trust_remote_code=True)\n",
    "\n",
    "## Load Item Metadata - Test avec All_Beauty\n",
    "dataset_items = load_dataset(\"McAuley-Lab/Amazon-Reviews-2023\", \"raw_meta_Appliances\", split=\"full\", trust_remote_code=True)\n"
   ]
  },
  {
   "cell_type": "markdown",
   "metadata": {},
   "source": [
    "#### Reviews"
   ]
  },
  {
   "cell_type": "code",
   "execution_count": 3,
   "metadata": {},
   "outputs": [],
   "source": [
    "## Convert to df (plus à l'aise pour certaines manip et EDA)\n",
    "df_reviews = pd.DataFrame(dataset_reviews)"
   ]
  },
  {
   "cell_type": "code",
   "execution_count": 4,
   "metadata": {},
   "outputs": [],
   "source": [
    "### Data manipulation\n",
    "## Concat title and text\n",
    "df_reviews['full_text'] = \"Title : \" + df_reviews['title'].astype(str) + \"\\n Review : \" + df_reviews['text'].astype(str)\n",
    "\n",
    "## Create variable as_image\n",
    "df_reviews['as_image'] = np.where(df_reviews['images'].str.len() == 0, 0, 1)\n",
    "\n",
    "## Create variable as_helpful_vote\n",
    "df_reviews['as_helpful_vote'] = np.where(df_reviews['helpful_vote'] == 0, 0, 1)"
   ]
  },
  {
   "cell_type": "markdown",
   "metadata": {},
   "source": [
    "#### Items"
   ]
  },
  {
   "cell_type": "code",
   "execution_count": 5,
   "metadata": {},
   "outputs": [],
   "source": [
    "## Convert to pandas df\n",
    "df_items = pd.DataFrame(dataset_items)"
   ]
  },
  {
   "cell_type": "code",
   "execution_count": null,
   "metadata": {},
   "outputs": [
    {
     "name": "stdout",
     "output_type": "stream",
     "text": [
      "Tools & Home Improvement    42694\n",
      "Appliances                  25572\n",
      "Name: main_category, dtype: int64\n"
     ]
    }
   ],
   "source": [
    "## Main category (filtrer pour conserver seulement \"Appliances\")\n",
    "print(df_items_c['main_category'].value_counts())\n",
    "df_items_cat = df_items[np.isin(df_items['main_category'], [\"Appliances\", \"Tools & Home Improvement\"])]\n",
    "print(df_items_cat['main_category'].value_counts())"
   ]
  },
  {
   "cell_type": "code",
   "execution_count": 10,
   "metadata": {},
   "outputs": [
    {
     "name": "stdout",
     "output_type": "stream",
     "text": [
      "68266\n",
      "34431\n"
     ]
    },
    {
     "data": {
      "text/plain": [
       "count    34431.000000\n",
       "mean        95.358969\n",
       "std        349.050875\n",
       "min          0.190000\n",
       "25%         15.990000\n",
       "50%         29.310000\n",
       "75%         64.555000\n",
       "max      21095.620000\n",
       "Name: price, dtype: float64"
      ]
     },
     "execution_count": 10,
     "metadata": {},
     "output_type": "execute_result"
    }
   ],
   "source": [
    "## Filtrer pour conserver seulement les produits avec un prix\n",
    "print(df_items_cat['price'].count())\n",
    "print(df_items_cat[df_items_cat['price'] != 'None']['price'].count())\n",
    "df_items_price = df_items_cat[df_items_cat['price'] != 'None']\n",
    "df_items_price['price'].astype(float).describe()"
   ]
  },
  {
   "cell_type": "code",
   "execution_count": 11,
   "metadata": {},
   "outputs": [
    {
     "name": "stdout",
     "output_type": "stream",
     "text": [
      "[Appliances, Parts & Accessories]                                                                                                                      7511\n",
      "[Appliances, Parts & Accessories, Dryer Parts & Accessories, Replacement Parts]                                                                        7062\n",
      "[Appliances, Parts & Accessories, Refrigerator Parts & Accessories, Water Filters]                                                                     1840\n",
      "[Appliances, Parts & Accessories, Washer Parts & Accessories]                                                                                          1418\n",
      "[Appliances, Parts & Accessories, Cooktop Parts & Accessories]                                                                                         1005\n",
      "                                                                                                                                                       ... \n",
      "[Appliances, Parts & Accessories, Kegerator Replacement Parts]                                                                                            1\n",
      "[Appliances, LG Styler Steam Closets]                                                                                                                     1\n",
      "[Appliances, Ranges, Ovens & Cooktops, Ranges]                                                                                                            1\n",
      "[Small Appliance Parts & Accessories, Coffee & Espresso Machine Parts & Accessories, Coffee Machine Accessories, Coffee Filters, Permanent Filters]       1\n",
      "[Appliances, Ranges, Ovens & Cooktops, Warming Drawers]                                                                                                   1\n",
      "Name: categories, Length: 85, dtype: int64\n"
     ]
    }
   ],
   "source": [
    "## Aperçu des catégories\n",
    "print(df_items_price['categories'].value_counts())\n"
   ]
  },
  {
   "cell_type": "code",
   "execution_count": null,
   "metadata": {},
   "outputs": [
    {
     "name": "stdout",
     "output_type": "stream",
     "text": [
      "Parts & Accessories            7511\n",
      "Replacement Parts              7062\n",
      "Water Filters                  1840\n",
      "Washer Parts & Accessories     1418\n",
      "Cooktop Parts & Accessories    1005\n",
      "                               ... \n",
      "LG Styler Steam Closets           1\n",
      "Kegerator Replacement Parts       1\n",
      "Ranges                            1\n",
      "Permanent Filters                 1\n",
      "Warming Drawers                   1\n",
      "Name: categories_single, Length: 82, dtype: int64\n",
      "Parts & Accessories                              30697\n",
      "Refrigerators, Freezers & Ice Makers              1164\n",
      "Ranges, Ovens & Cooktops                          1058\n",
      "Laundry Appliances                                 598\n",
      "Dishwashers                                        113\n",
      "Coffee & Espresso Machine Parts & Accessories       26\n",
      "Commercial Food Preparation Equipment               10\n",
      "LG Styler Steam Closets                              1\n",
      "Name: categories_single_2, dtype: int64\n"
     ]
    },
    {
     "name": "stderr",
     "output_type": "stream",
     "text": [
      "C:\\Users\\natha\\AppData\\Local\\Temp\\ipykernel_11672\\3743182336.py:2: SettingWithCopyWarning: \n",
      "A value is trying to be set on a copy of a slice from a DataFrame.\n",
      "Try using .loc[row_indexer,col_indexer] = value instead\n",
      "\n",
      "See the caveats in the documentation: https://pandas.pydata.org/pandas-docs/stable/user_guide/indexing.html#returning-a-view-versus-a-copy\n",
      "  df_items_price['categories_single'] = df_items_price['categories'].apply(lambda x : (x or [None])[-1])\n",
      "C:\\Users\\natha\\AppData\\Local\\Temp\\ipykernel_11672\\3743182336.py:3: SettingWithCopyWarning: \n",
      "A value is trying to be set on a copy of a slice from a DataFrame.\n",
      "Try using .loc[row_indexer,col_indexer] = value instead\n",
      "\n",
      "See the caveats in the documentation: https://pandas.pydata.org/pandas-docs/stable/user_guide/indexing.html#returning-a-view-versus-a-copy\n",
      "  df_items_price['categories_single_2'] = df_items_price['categories'].apply(lambda x : (x or [None, None])[1])\n"
     ]
    }
   ],
   "source": [
    "## Isoler les catégories importantes\n",
    "#df_items_price['categories_single'] = df_items_price['categories'].apply(lambda x : (x or [None])[-1])\n",
    "df_items_price['categories_single'] = df_items_price['categories'].apply(lambda x : (x or [None, None])[1])\n",
    "\n",
    "## Aperçu des options\n",
    "print(df_items_price['categories_single'].value_counts())\n",
    "\n",
    "## À grouper\n",
    "# Parts & Accessories\n",
    "# Other\n"
   ]
  },
  {
   "cell_type": "code",
   "execution_count": 15,
   "metadata": {},
   "outputs": [
    {
     "name": "stderr",
     "output_type": "stream",
     "text": [
      "C:\\Users\\natha\\AppData\\Local\\Temp\\ipykernel_11672\\1598757567.py:2: SettingWithCopyWarning: \n",
      "A value is trying to be set on a copy of a slice from a DataFrame.\n",
      "Try using .loc[row_indexer,col_indexer] = value instead\n",
      "\n",
      "See the caveats in the documentation: https://pandas.pydata.org/pandas-docs/stable/user_guide/indexing.html#returning-a-view-versus-a-copy\n",
      "  df_items_price['categories_grp'] = np.where(df_items_price['categories_single'] == \"Parts & Accessories\", \"Parts & Accessories\", \"Other\")\n"
     ]
    },
    {
     "data": {
      "text/plain": [
       "Other                  26920\n",
       "Parts & Accessories     7511\n",
       "Name: categories_grp, dtype: int64"
      ]
     },
     "execution_count": 15,
     "metadata": {},
     "output_type": "execute_result"
    }
   ],
   "source": [
    "## Grouper les catégories\n",
    "df_items_price['categories_grp'] = np.where(df_items_price['categories_single'] == \"Parts & Accessories\", \"Parts & Accessories\", \"Other\")\n",
    "\n",
    "df_items_price['categories_grp'].value_counts()"
   ]
  },
  {
   "cell_type": "code",
   "execution_count": 11,
   "metadata": {},
   "outputs": [],
   "source": [
    "### Potentiel pour XGBoost\n",
    "## Reviews\n",
    "# Création variable presence_image (as_image)\n",
    "# verified_purchase\n",
    "# helpful_vote (as_helpful_votes)\n",
    "\n",
    "## Items\n",
    "# Sure : main_category, average_rating, rating_number, price\n",
    "# catgories_grp\n",
    "# Potentiel : \n",
    "#   XTitle? De quoi à faire avec ça?\n",
    "#   *store name? dequoi à faire avec ça?\n",
    "#   **categories (potentiellement qqch à faire avec ça!) (extraire du dictionnaire!)\n",
    "# rating_number (number of ratings for average)\n"
   ]
  },
  {
   "cell_type": "markdown",
   "metadata": {},
   "source": [
    "#### Merge Items to Reviews"
   ]
  },
  {
   "cell_type": "code",
   "execution_count": 16,
   "metadata": {},
   "outputs": [],
   "source": [
    "# Keep only necessary variables before mergeing\n",
    "df_reviews_f = df_reviews[['rating', 'full_text', 'as_image', 'parent_asin', 'as_helpful_vote', 'helpful_vote', 'verified_purchase']]\n",
    "df_items_f = df_items_price[['main_category', 'average_rating', 'rating_number', 'price', 'parent_asin', 'categories_grp']]\n",
    "\n",
    "# Merge Items on Reviews\n",
    "df_full = df_reviews_f.merge(df_items_f, on='parent_asin', how='left')\n",
    "\n",
    "# Filter Price\n",
    "df_full_price = df_full[df_full['price'] != 'None']\n",
    "\n",
    "# Keep only necessary variables\n",
    "df_final = df_full_price[['parent_asin', # both\n",
    "               'rating', 'full_text', 'as_image', 'helpful_vote', 'as_helpful_vote', 'verified_purchase', # reviews\n",
    "               'main_category', 'average_rating', 'rating_number', 'price', 'categories_grp']] # items\n",
    "\n",
    "# Filter main_categoy and price\n",
    "df_final = df_final.dropna()"
   ]
  },
  {
   "cell_type": "code",
   "execution_count": 17,
   "metadata": {},
   "outputs": [
    {
     "data": {
      "text/html": [
       "<div>\n",
       "<style scoped>\n",
       "    .dataframe tbody tr th:only-of-type {\n",
       "        vertical-align: middle;\n",
       "    }\n",
       "\n",
       "    .dataframe tbody tr th {\n",
       "        vertical-align: top;\n",
       "    }\n",
       "\n",
       "    .dataframe thead th {\n",
       "        text-align: right;\n",
       "    }\n",
       "</style>\n",
       "<table border=\"1\" class=\"dataframe\">\n",
       "  <thead>\n",
       "    <tr style=\"text-align: right;\">\n",
       "      <th></th>\n",
       "      <th>parent_asin</th>\n",
       "      <th>rating</th>\n",
       "      <th>full_text</th>\n",
       "      <th>as_image</th>\n",
       "      <th>helpful_vote</th>\n",
       "      <th>as_helpful_vote</th>\n",
       "      <th>verified_purchase</th>\n",
       "      <th>main_category</th>\n",
       "      <th>average_rating</th>\n",
       "      <th>rating_number</th>\n",
       "      <th>price</th>\n",
       "      <th>categories_grp</th>\n",
       "    </tr>\n",
       "  </thead>\n",
       "  <tbody>\n",
       "    <tr>\n",
       "      <th>0</th>\n",
       "      <td>B01N0TQ0OH</td>\n",
       "      <td>5.0</td>\n",
       "      <td>Title : Work great\\n Review : work great. use ...</td>\n",
       "      <td>0</td>\n",
       "      <td>0</td>\n",
       "      <td>0</td>\n",
       "      <td>True</td>\n",
       "      <td>Tools &amp; Home Improvement</td>\n",
       "      <td>4.7</td>\n",
       "      <td>4939.0</td>\n",
       "      <td>9.99</td>\n",
       "      <td>Other</td>\n",
       "    </tr>\n",
       "    <tr>\n",
       "      <th>1</th>\n",
       "      <td>B07DD37QPZ</td>\n",
       "      <td>5.0</td>\n",
       "      <td>Title : excellent product\\n Review : Little on...</td>\n",
       "      <td>0</td>\n",
       "      <td>0</td>\n",
       "      <td>0</td>\n",
       "      <td>True</td>\n",
       "      <td>Tools &amp; Home Improvement</td>\n",
       "      <td>4.4</td>\n",
       "      <td>3186.0</td>\n",
       "      <td>22.99</td>\n",
       "      <td>Other</td>\n",
       "    </tr>\n",
       "    <tr>\n",
       "      <th>7</th>\n",
       "      <td>B00AF7WZTM</td>\n",
       "      <td>5.0</td>\n",
       "      <td>Title : Five Stars\\n Review : Part came quickl...</td>\n",
       "      <td>0</td>\n",
       "      <td>0</td>\n",
       "      <td>0</td>\n",
       "      <td>True</td>\n",
       "      <td>Appliances</td>\n",
       "      <td>4.6</td>\n",
       "      <td>129.0</td>\n",
       "      <td>46.27</td>\n",
       "      <td>Other</td>\n",
       "    </tr>\n",
       "    <tr>\n",
       "      <th>11</th>\n",
       "      <td>B09W5PMK5X</td>\n",
       "      <td>5.0</td>\n",
       "      <td>Title : so far so good\\n Review : but i havent...</td>\n",
       "      <td>0</td>\n",
       "      <td>2</td>\n",
       "      <td>1</td>\n",
       "      <td>True</td>\n",
       "      <td>Appliances</td>\n",
       "      <td>3.5</td>\n",
       "      <td>35.0</td>\n",
       "      <td>399.0</td>\n",
       "      <td>Other</td>\n",
       "    </tr>\n",
       "    <tr>\n",
       "      <th>15</th>\n",
       "      <td>B08FDB6W59</td>\n",
       "      <td>5.0</td>\n",
       "      <td>Title : great\\n Review : worked great</td>\n",
       "      <td>0</td>\n",
       "      <td>0</td>\n",
       "      <td>0</td>\n",
       "      <td>True</td>\n",
       "      <td>Tools &amp; Home Improvement</td>\n",
       "      <td>4.2</td>\n",
       "      <td>5428.0</td>\n",
       "      <td>18.0</td>\n",
       "      <td>Other</td>\n",
       "    </tr>\n",
       "    <tr>\n",
       "      <th>...</th>\n",
       "      <td>...</td>\n",
       "      <td>...</td>\n",
       "      <td>...</td>\n",
       "      <td>...</td>\n",
       "      <td>...</td>\n",
       "      <td>...</td>\n",
       "      <td>...</td>\n",
       "      <td>...</td>\n",
       "      <td>...</td>\n",
       "      <td>...</td>\n",
       "      <td>...</td>\n",
       "      <td>...</td>\n",
       "    </tr>\n",
       "    <tr>\n",
       "      <th>2128582</th>\n",
       "      <td>B0BVM8Z4JM</td>\n",
       "      <td>5.0</td>\n",
       "      <td>Title : Great value. Easy to install. Water ta...</td>\n",
       "      <td>0</td>\n",
       "      <td>0</td>\n",
       "      <td>0</td>\n",
       "      <td>True</td>\n",
       "      <td>Tools &amp; Home Improvement</td>\n",
       "      <td>4.7</td>\n",
       "      <td>1582.0</td>\n",
       "      <td>21.99</td>\n",
       "      <td>Other</td>\n",
       "    </tr>\n",
       "    <tr>\n",
       "      <th>2128583</th>\n",
       "      <td>B08JVKQNT4</td>\n",
       "      <td>5.0</td>\n",
       "      <td>Title : Good\\n Review : Good</td>\n",
       "      <td>0</td>\n",
       "      <td>0</td>\n",
       "      <td>0</td>\n",
       "      <td>True</td>\n",
       "      <td>Tools &amp; Home Improvement</td>\n",
       "      <td>4.6</td>\n",
       "      <td>112.0</td>\n",
       "      <td>16.94</td>\n",
       "      <td>Other</td>\n",
       "    </tr>\n",
       "    <tr>\n",
       "      <th>2128596</th>\n",
       "      <td>B07R4RHC4H</td>\n",
       "      <td>1.0</td>\n",
       "      <td>Title : Junk, doesn’t last.\\n Review : Purchas...</td>\n",
       "      <td>0</td>\n",
       "      <td>0</td>\n",
       "      <td>0</td>\n",
       "      <td>True</td>\n",
       "      <td>Tools &amp; Home Improvement</td>\n",
       "      <td>4.4</td>\n",
       "      <td>9518.0</td>\n",
       "      <td>35.99</td>\n",
       "      <td>Other</td>\n",
       "    </tr>\n",
       "    <tr>\n",
       "      <th>2128597</th>\n",
       "      <td>B07H7G4WB2</td>\n",
       "      <td>5.0</td>\n",
       "      <td>Title : Broan Nutone 41000 Models S99110437 99...</td>\n",
       "      <td>0</td>\n",
       "      <td>0</td>\n",
       "      <td>0</td>\n",
       "      <td>True</td>\n",
       "      <td>Appliances</td>\n",
       "      <td>4.8</td>\n",
       "      <td>612.0</td>\n",
       "      <td>10.98</td>\n",
       "      <td>Other</td>\n",
       "    </tr>\n",
       "    <tr>\n",
       "      <th>2128602</th>\n",
       "      <td>B07QKBMPG2</td>\n",
       "      <td>5.0</td>\n",
       "      <td>Title : Works with Sears Kenmore model 3627558...</td>\n",
       "      <td>0</td>\n",
       "      <td>1</td>\n",
       "      <td>1</td>\n",
       "      <td>True</td>\n",
       "      <td>Tools &amp; Home Improvement</td>\n",
       "      <td>4.5</td>\n",
       "      <td>65.0</td>\n",
       "      <td>36.65</td>\n",
       "      <td>Parts &amp; Accessories</td>\n",
       "    </tr>\n",
       "  </tbody>\n",
       "</table>\n",
       "<p>1024319 rows × 12 columns</p>\n",
       "</div>"
      ],
      "text/plain": [
       "        parent_asin  rating  \\\n",
       "0        B01N0TQ0OH     5.0   \n",
       "1        B07DD37QPZ     5.0   \n",
       "7        B00AF7WZTM     5.0   \n",
       "11       B09W5PMK5X     5.0   \n",
       "15       B08FDB6W59     5.0   \n",
       "...             ...     ...   \n",
       "2128582  B0BVM8Z4JM     5.0   \n",
       "2128583  B08JVKQNT4     5.0   \n",
       "2128596  B07R4RHC4H     1.0   \n",
       "2128597  B07H7G4WB2     5.0   \n",
       "2128602  B07QKBMPG2     5.0   \n",
       "\n",
       "                                                 full_text  as_image  \\\n",
       "0        Title : Work great\\n Review : work great. use ...         0   \n",
       "1        Title : excellent product\\n Review : Little on...         0   \n",
       "7        Title : Five Stars\\n Review : Part came quickl...         0   \n",
       "11       Title : so far so good\\n Review : but i havent...         0   \n",
       "15                   Title : great\\n Review : worked great         0   \n",
       "...                                                    ...       ...   \n",
       "2128582  Title : Great value. Easy to install. Water ta...         0   \n",
       "2128583                       Title : Good\\n Review : Good         0   \n",
       "2128596  Title : Junk, doesn’t last.\\n Review : Purchas...         0   \n",
       "2128597  Title : Broan Nutone 41000 Models S99110437 99...         0   \n",
       "2128602  Title : Works with Sears Kenmore model 3627558...         0   \n",
       "\n",
       "         helpful_vote  as_helpful_vote  verified_purchase  \\\n",
       "0                   0                0               True   \n",
       "1                   0                0               True   \n",
       "7                   0                0               True   \n",
       "11                  2                1               True   \n",
       "15                  0                0               True   \n",
       "...               ...              ...                ...   \n",
       "2128582             0                0               True   \n",
       "2128583             0                0               True   \n",
       "2128596             0                0               True   \n",
       "2128597             0                0               True   \n",
       "2128602             1                1               True   \n",
       "\n",
       "                    main_category  average_rating  rating_number  price  \\\n",
       "0        Tools & Home Improvement             4.7         4939.0   9.99   \n",
       "1        Tools & Home Improvement             4.4         3186.0  22.99   \n",
       "7                      Appliances             4.6          129.0  46.27   \n",
       "11                     Appliances             3.5           35.0  399.0   \n",
       "15       Tools & Home Improvement             4.2         5428.0   18.0   \n",
       "...                           ...             ...            ...    ...   \n",
       "2128582  Tools & Home Improvement             4.7         1582.0  21.99   \n",
       "2128583  Tools & Home Improvement             4.6          112.0  16.94   \n",
       "2128596  Tools & Home Improvement             4.4         9518.0  35.99   \n",
       "2128597                Appliances             4.8          612.0  10.98   \n",
       "2128602  Tools & Home Improvement             4.5           65.0  36.65   \n",
       "\n",
       "              categories_grp  \n",
       "0                      Other  \n",
       "1                      Other  \n",
       "7                      Other  \n",
       "11                     Other  \n",
       "15                     Other  \n",
       "...                      ...  \n",
       "2128582                Other  \n",
       "2128583                Other  \n",
       "2128596                Other  \n",
       "2128597                Other  \n",
       "2128602  Parts & Accessories  \n",
       "\n",
       "[1024319 rows x 12 columns]"
      ]
     },
     "execution_count": 17,
     "metadata": {},
     "output_type": "execute_result"
    }
   ],
   "source": [
    "df_final"
   ]
  },
  {
   "cell_type": "code",
   "execution_count": 14,
   "metadata": {},
   "outputs": [],
   "source": [
    "#df_final.iloc[1]['full_text']"
   ]
  },
  {
   "cell_type": "markdown",
   "metadata": {},
   "source": [
    "### Save\n"
   ]
  },
  {
   "cell_type": "code",
   "execution_count": null,
   "metadata": {},
   "outputs": [],
   "source": [
    "## Save data\n",
    "df_final.to_csv('./../data/appliances.csv')"
   ]
  }
 ],
 "metadata": {
  "kernelspec": {
   "display_name": "Python 3",
   "language": "python",
   "name": "python3"
  },
  "language_info": {
   "codemirror_mode": {
    "name": "ipython",
    "version": 3
   },
   "file_extension": ".py",
   "mimetype": "text/x-python",
   "name": "python",
   "nbconvert_exporter": "python",
   "pygments_lexer": "ipython3",
   "version": "3.10.11"
  }
 },
 "nbformat": 4,
 "nbformat_minor": 2
}
