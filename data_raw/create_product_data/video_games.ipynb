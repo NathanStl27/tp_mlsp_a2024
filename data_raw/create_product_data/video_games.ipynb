{
 "cells": [
  {
   "cell_type": "markdown",
   "metadata": {},
   "source": [
    "## Code pour prendre des revues de différents produits\n",
    "* Importer les données\n",
    "    * Appliances\n",
    "    * Automotive\n",
    "    * CDs_and_Vinyl\n",
    "    * Digital_Music\n",
    "    * Gift_Cards\n",
    "    * Handmade_Products\n",
    "    * Musical_Instruments\n",
    "    * Video_Games\n",
    "* Filtrer celles que je souhaite conserver (quantité, équilibre des notes, présence d'informations pour xgboost [ex : prix, ...])\n",
    "    * Ne pas oublier le set.seed\n",
    "* Enregistrer les données"
   ]
  },
  {
   "cell_type": "markdown",
   "metadata": {},
   "source": [
    "## Pipeline de données\n"
   ]
  },
  {
   "cell_type": "code",
   "execution_count": 2,
   "metadata": {},
   "outputs": [],
   "source": [
    "### Packages de base\n",
    "import numpy as np\n",
    "import pandas as pd\n",
    "from datasets import load_dataset"
   ]
  },
  {
   "cell_type": "markdown",
   "metadata": {},
   "source": [
    "### Video Games\n",
    "#### Importation"
   ]
  },
  {
   "cell_type": "code",
   "execution_count": 3,
   "metadata": {},
   "outputs": [],
   "source": [
    "## Load User Reviews\n",
    "dataset_reviews = load_dataset(\"McAuley-Lab/Amazon-Reviews-2023\", \"raw_review_Video_Games\", split=\"full\", trust_remote_code=True)\n",
    "\n",
    "## Load Item Metadata - Test avec All_Beauty\n",
    "dataset_items = load_dataset(\"McAuley-Lab/Amazon-Reviews-2023\", \"raw_meta_Video_Games\", split=\"full\", trust_remote_code=True)\n"
   ]
  },
  {
   "cell_type": "markdown",
   "metadata": {},
   "source": [
    "#### Reviews"
   ]
  },
  {
   "cell_type": "code",
   "execution_count": 4,
   "metadata": {},
   "outputs": [],
   "source": [
    "## Convert to df (plus à l'aise pour certaines manip et EDA)\n",
    "df_reviews = pd.DataFrame(dataset_reviews)"
   ]
  },
  {
   "cell_type": "code",
   "execution_count": 5,
   "metadata": {},
   "outputs": [],
   "source": [
    "### Data manipulation\n",
    "## Concat title and text\n",
    "df_reviews['full_text'] = \"Title : \" + df_reviews['title'].astype(str) + \"\\n Review : \" + df_reviews['text'].astype(str)\n",
    "\n",
    "## Create variable as_image\n",
    "df_reviews['as_image'] = np.where(df_reviews['images'].str.len() == 0, 0, 1)\n",
    "\n",
    "## Create variable as_helpful_vote\n",
    "df_reviews['as_helpful_vote'] = np.where(df_reviews['helpful_vote'] == 0, 0, 1)"
   ]
  },
  {
   "cell_type": "markdown",
   "metadata": {},
   "source": [
    "#### Items"
   ]
  },
  {
   "cell_type": "code",
   "execution_count": 6,
   "metadata": {},
   "outputs": [],
   "source": [
    "## Convert to pandas df\n",
    "df_items = pd.DataFrame(dataset_items)"
   ]
  },
  {
   "cell_type": "code",
   "execution_count": 8,
   "metadata": {},
   "outputs": [
    {
     "name": "stdout",
     "output_type": "stream",
     "text": [
      "Video Games                     81255\n",
      "Computers                       17235\n",
      "All Electronics                 14816\n",
      "Cell Phones & Accessories        3884\n",
      "Toys & Games                     2733\n",
      "Software                         1511\n",
      "Industrial & Scientific          1079\n",
      "Amazon Home                       737\n",
      "Home Audio & Theater              443\n",
      "Tools & Home Improvement          369\n",
      "Office Products                   295\n",
      "Sports & Outdoors                 244\n",
      "Buy a Kindle                      220\n",
      "Movies & TV                       197\n",
      "Books                             196\n",
      "Musical Instruments               154\n",
      "All Beauty                        126\n",
      "Camera & Photo                    117\n",
      "Portable Audio & Accessories      112\n",
      "Digital Music                     104\n",
      "Health & Personal Care             95\n",
      "Automotive                         85\n",
      "AMAZON FASHION                     54\n",
      "Pet Supplies                       38\n",
      "Grocery                            36\n",
      "Baby                               26\n",
      "Arts, Crafts & Sewing              22\n",
      "Car Electronics                    14\n",
      "GPS & Navigation                   13\n",
      "Appliances                         11\n",
      "Amazon Devices                      4\n",
      "Audible Audiobooks                  3\n",
      "Collectible Coins                   3\n",
      "Gift Cards                          1\n",
      "Handmade                            1\n",
      "                                    1\n",
      "Name: main_category, dtype: int64\n",
      "Video Games    81255\n",
      "Name: main_category, dtype: int64\n"
     ]
    }
   ],
   "source": [
    "## Main category (filtrer pour conserver seulement \"Appliances\")\n",
    "print(df_items['main_category'].value_counts())\n",
    "df_items_cat = df_items[df_items['main_category'] == \"Video Games\"]\n",
    "print(df_items_cat['main_category'].value_counts())"
   ]
  },
  {
   "cell_type": "code",
   "execution_count": 9,
   "metadata": {},
   "outputs": [
    {
     "name": "stdout",
     "output_type": "stream",
     "text": [
      "81255\n",
      "38580\n"
     ]
    },
    {
     "data": {
      "text/plain": [
       "count    38580.000000\n",
       "mean        51.174594\n",
       "std         89.392353\n",
       "min          0.000000\n",
       "25%         14.950000\n",
       "50%         28.000000\n",
       "75%         50.090000\n",
       "max       3359.990000\n",
       "Name: price, dtype: float64"
      ]
     },
     "execution_count": 9,
     "metadata": {},
     "output_type": "execute_result"
    }
   ],
   "source": [
    "## Filtrer pour conserver seulement les produits avec un prix\n",
    "print(df_items_cat['price'].count())\n",
    "print(df_items_cat[df_items_cat['price'] != 'None']['price'].count())\n",
    "df_items_price = df_items_cat[df_items_cat['price'] != 'None']\n",
    "df_items_price['price'].astype(float).describe()"
   ]
  },
  {
   "cell_type": "code",
   "execution_count": 10,
   "metadata": {},
   "outputs": [
    {
     "name": "stdout",
     "output_type": "stream",
     "text": [
      "[Video Games, PC, Games]                                                                             5994\n",
      "[]                                                                                                   2904\n",
      "[Video Games, PlayStation 4, Games]                                                                  2015\n",
      "[Video Games, Legacy Systems, PlayStation Systems, PlayStation 2, Games]                             1700\n",
      "[Video Games, Nintendo Switch, Games]                                                                1516\n",
      "                                                                                                     ... \n",
      "[Video Games, Legacy Systems, Xbox Systems, Xbox 360, Accessories, Thumb Grips]                         1\n",
      "[Video Games, Legacy Systems, Nintendo Systems, Wii, Accessories, Cooling Systems]                      1\n",
      "[Video Games, Legacy Systems, PlayStation Systems, Sony PSP, Accessories, Cables & Adapters]            1\n",
      "[Video Games, Legacy Systems, PlayStation Systems, PlayStation 3, Accessories, Cables & Adapters]       1\n",
      "[Video Games, Legacy Systems, Commodore Systems, Commodore 64]                                          1\n",
      "Name: categories, Length: 432, dtype: int64\n"
     ]
    }
   ],
   "source": [
    "## Aperçu des catégories\n",
    "print(df_items_price['categories'].value_counts())\n"
   ]
  },
  {
   "cell_type": "code",
   "execution_count": 11,
   "metadata": {},
   "outputs": [
    {
     "name": "stdout",
     "output_type": "stream",
     "text": [
      "Games                                         24465\n",
      "Accessories                                    2293\n",
      "Consoles                                        983\n",
      "Cases & Storage                                 715\n",
      "Controllers                                     616\n",
      "                                              ...  \n",
      "2023 Most Anticipated                             1\n",
      "Deals on Nominations 12/18/2022-12/23/2022        1\n",
      "Bonus Offers - Up to $20 Credit                   1\n",
      "Music Controllers                                 1\n",
      "Commodore 64                                      1\n",
      "Name: categories_single, Length: 136, dtype: int64\n"
     ]
    },
    {
     "name": "stderr",
     "output_type": "stream",
     "text": [
      "C:\\Users\\natha\\AppData\\Local\\Temp\\ipykernel_27900\\2537429207.py:2: SettingWithCopyWarning: \n",
      "A value is trying to be set on a copy of a slice from a DataFrame.\n",
      "Try using .loc[row_indexer,col_indexer] = value instead\n",
      "\n",
      "See the caveats in the documentation: https://pandas.pydata.org/pandas-docs/stable/user_guide/indexing.html#returning-a-view-versus-a-copy\n",
      "  df_items_price['categories_single'] = df_items_price['categories'].apply(lambda x : (x or [None])[-1])\n"
     ]
    }
   ],
   "source": [
    "## Isoler les catégories importantes\n",
    "df_items_price['categories_single'] = df_items_price['categories'].apply(lambda x : (x or [None])[-1])\n",
    "#df_items_price['categories_single'] = df_items_price['categories'].apply(lambda x : (x or [None, None])[1])\n",
    "\n",
    "## Aperçu des options\n",
    "print(df_items_price['categories_single'].value_counts())\n",
    "\n",
    "## À grouper\n",
    "# Parts & Accessories\n",
    "# Other\n"
   ]
  },
  {
   "cell_type": "code",
   "execution_count": 12,
   "metadata": {},
   "outputs": [
    {
     "name": "stderr",
     "output_type": "stream",
     "text": [
      "C:\\Users\\natha\\AppData\\Local\\Temp\\ipykernel_27900\\1310332286.py:2: SettingWithCopyWarning: \n",
      "A value is trying to be set on a copy of a slice from a DataFrame.\n",
      "Try using .loc[row_indexer,col_indexer] = value instead\n",
      "\n",
      "See the caveats in the documentation: https://pandas.pydata.org/pandas-docs/stable/user_guide/indexing.html#returning-a-view-versus-a-copy\n",
      "  df_items_price['categories_grp'] = np.where(df_items_price['categories_single'] == \"Games\", \"Games\", \"Accessories\")\n"
     ]
    },
    {
     "data": {
      "text/plain": [
       "Games          24465\n",
       "Accessories    14115\n",
       "Name: categories_grp, dtype: int64"
      ]
     },
     "execution_count": 12,
     "metadata": {},
     "output_type": "execute_result"
    }
   ],
   "source": [
    "## Grouper les catégories\n",
    "df_items_price['categories_grp'] = np.where(df_items_price['categories_single'] == \"Games\", \"Games\", \"Accessories\")\n",
    "\n",
    "df_items_price['categories_grp'].value_counts()"
   ]
  },
  {
   "cell_type": "code",
   "execution_count": 11,
   "metadata": {},
   "outputs": [],
   "source": [
    "### Potentiel pour XGBoost\n",
    "## Reviews\n",
    "# Création variable presence_image (as_image)\n",
    "# verified_purchase\n",
    "# helpful_vote (as_helpful_votes)\n",
    "\n",
    "## Items\n",
    "# Sure : main_category, average_rating, rating_number, price\n",
    "# catgories_grp\n",
    "# Potentiel : \n",
    "#   XTitle? De quoi à faire avec ça?\n",
    "#   *store name? dequoi à faire avec ça?\n",
    "#   **categories (potentiellement qqch à faire avec ça!) (extraire du dictionnaire!)\n",
    "# rating_number (number of ratings for average)\n"
   ]
  },
  {
   "cell_type": "markdown",
   "metadata": {},
   "source": [
    "#### Merge Items to Reviews"
   ]
  },
  {
   "cell_type": "code",
   "execution_count": 13,
   "metadata": {},
   "outputs": [],
   "source": [
    "# Keep only necessary variables before mergeing\n",
    "df_reviews_f = df_reviews[['rating', 'full_text', 'as_image', 'parent_asin', 'as_helpful_vote', 'helpful_vote', 'verified_purchase']]\n",
    "df_items_f = df_items_price[['main_category', 'average_rating', 'rating_number', 'price', 'parent_asin', 'categories_grp']]\n",
    "\n",
    "# Merge Items on Reviews\n",
    "df_full = df_reviews_f.merge(df_items_f, on='parent_asin', how='left')\n",
    "\n",
    "# Filter Price\n",
    "df_full_price = df_full[df_full['price'] != 'None']\n",
    "\n",
    "# Keep only necessary variables\n",
    "df_final = df_full_price[['parent_asin', # both\n",
    "               'rating', 'full_text', 'as_image', 'helpful_vote', 'as_helpful_vote', 'verified_purchase', # reviews\n",
    "               'main_category', 'average_rating', 'rating_number', 'price', 'categories_grp']] # items\n",
    "\n",
    "# Filter main_categoy and price\n",
    "df_final = df_final.dropna()"
   ]
  },
  {
   "cell_type": "code",
   "execution_count": 14,
   "metadata": {},
   "outputs": [
    {
     "data": {
      "text/html": [
       "<div>\n",
       "<style scoped>\n",
       "    .dataframe tbody tr th:only-of-type {\n",
       "        vertical-align: middle;\n",
       "    }\n",
       "\n",
       "    .dataframe tbody tr th {\n",
       "        vertical-align: top;\n",
       "    }\n",
       "\n",
       "    .dataframe thead th {\n",
       "        text-align: right;\n",
       "    }\n",
       "</style>\n",
       "<table border=\"1\" class=\"dataframe\">\n",
       "  <thead>\n",
       "    <tr style=\"text-align: right;\">\n",
       "      <th></th>\n",
       "      <th>parent_asin</th>\n",
       "      <th>rating</th>\n",
       "      <th>full_text</th>\n",
       "      <th>as_image</th>\n",
       "      <th>helpful_vote</th>\n",
       "      <th>as_helpful_vote</th>\n",
       "      <th>verified_purchase</th>\n",
       "      <th>main_category</th>\n",
       "      <th>average_rating</th>\n",
       "      <th>rating_number</th>\n",
       "      <th>price</th>\n",
       "      <th>categories_grp</th>\n",
       "    </tr>\n",
       "  </thead>\n",
       "  <tbody>\n",
       "    <tr>\n",
       "      <th>1</th>\n",
       "      <td>B07SRWRH5D</td>\n",
       "      <td>5.0</td>\n",
       "      <td>Title : Good. A bit slow\\n Review : Nostalgic ...</td>\n",
       "      <td>0</td>\n",
       "      <td>1</td>\n",
       "      <td>1</td>\n",
       "      <td>False</td>\n",
       "      <td>Video Games</td>\n",
       "      <td>4.8</td>\n",
       "      <td>9097.0</td>\n",
       "      <td>25.95</td>\n",
       "      <td>Games</td>\n",
       "    </tr>\n",
       "    <tr>\n",
       "      <th>2</th>\n",
       "      <td>B07MFMFW34</td>\n",
       "      <td>5.0</td>\n",
       "      <td>Title : ... an order for my kids &amp; they have r...</td>\n",
       "      <td>0</td>\n",
       "      <td>0</td>\n",
       "      <td>0</td>\n",
       "      <td>True</td>\n",
       "      <td>Video Games</td>\n",
       "      <td>3.0</td>\n",
       "      <td>31.0</td>\n",
       "      <td>29.99</td>\n",
       "      <td>Games</td>\n",
       "    </tr>\n",
       "    <tr>\n",
       "      <th>3</th>\n",
       "      <td>B0BCHWZX95</td>\n",
       "      <td>5.0</td>\n",
       "      <td>Title : Great alt to pro controller\\n Review :...</td>\n",
       "      <td>0</td>\n",
       "      <td>0</td>\n",
       "      <td>0</td>\n",
       "      <td>True</td>\n",
       "      <td>Video Games</td>\n",
       "      <td>4.6</td>\n",
       "      <td>19492.0</td>\n",
       "      <td>67.61</td>\n",
       "      <td>Accessories</td>\n",
       "    </tr>\n",
       "    <tr>\n",
       "      <th>19</th>\n",
       "      <td>B07GJ5W7HV</td>\n",
       "      <td>1.0</td>\n",
       "      <td>Title : DONT BUY\\n Review : NOT RECCOMENDED, B...</td>\n",
       "      <td>0</td>\n",
       "      <td>0</td>\n",
       "      <td>0</td>\n",
       "      <td>True</td>\n",
       "      <td>Video Games</td>\n",
       "      <td>4.6</td>\n",
       "      <td>3874.0</td>\n",
       "      <td>98.9</td>\n",
       "      <td>Accessories</td>\n",
       "    </tr>\n",
       "    <tr>\n",
       "      <th>20</th>\n",
       "      <td>B00T76ZD78</td>\n",
       "      <td>5.0</td>\n",
       "      <td>Title : Great set at a fantastic price\\n Revie...</td>\n",
       "      <td>0</td>\n",
       "      <td>0</td>\n",
       "      <td>0</td>\n",
       "      <td>True</td>\n",
       "      <td>Video Games</td>\n",
       "      <td>4.2</td>\n",
       "      <td>251.0</td>\n",
       "      <td>7.32</td>\n",
       "      <td>Accessories</td>\n",
       "    </tr>\n",
       "    <tr>\n",
       "      <th>...</th>\n",
       "      <td>...</td>\n",
       "      <td>...</td>\n",
       "      <td>...</td>\n",
       "      <td>...</td>\n",
       "      <td>...</td>\n",
       "      <td>...</td>\n",
       "      <td>...</td>\n",
       "      <td>...</td>\n",
       "      <td>...</td>\n",
       "      <td>...</td>\n",
       "      <td>...</td>\n",
       "      <td>...</td>\n",
       "    </tr>\n",
       "    <tr>\n",
       "      <th>4624604</th>\n",
       "      <td>B015NHBBOS</td>\n",
       "      <td>5.0</td>\n",
       "      <td>Title : I love it\\n Review : Thank you for gre...</td>\n",
       "      <td>0</td>\n",
       "      <td>0</td>\n",
       "      <td>0</td>\n",
       "      <td>True</td>\n",
       "      <td>Video Games</td>\n",
       "      <td>4.4</td>\n",
       "      <td>387.0</td>\n",
       "      <td>158.9</td>\n",
       "      <td>Accessories</td>\n",
       "    </tr>\n",
       "    <tr>\n",
       "      <th>4624605</th>\n",
       "      <td>B015NHBBOS</td>\n",
       "      <td>5.0</td>\n",
       "      <td>Title : Five Stars\\n Review : Expectations met</td>\n",
       "      <td>0</td>\n",
       "      <td>0</td>\n",
       "      <td>0</td>\n",
       "      <td>True</td>\n",
       "      <td>Video Games</td>\n",
       "      <td>4.4</td>\n",
       "      <td>387.0</td>\n",
       "      <td>158.9</td>\n",
       "      <td>Accessories</td>\n",
       "    </tr>\n",
       "    <tr>\n",
       "      <th>4624606</th>\n",
       "      <td>B015NHBBOS</td>\n",
       "      <td>5.0</td>\n",
       "      <td>Title : Five Stars\\n Review : The controller i...</td>\n",
       "      <td>0</td>\n",
       "      <td>0</td>\n",
       "      <td>0</td>\n",
       "      <td>True</td>\n",
       "      <td>Video Games</td>\n",
       "      <td>4.4</td>\n",
       "      <td>387.0</td>\n",
       "      <td>158.9</td>\n",
       "      <td>Accessories</td>\n",
       "    </tr>\n",
       "    <tr>\n",
       "      <th>4624607</th>\n",
       "      <td>B015NHBBOS</td>\n",
       "      <td>5.0</td>\n",
       "      <td>Title : Good seller\\n Review : Works great</td>\n",
       "      <td>0</td>\n",
       "      <td>0</td>\n",
       "      <td>0</td>\n",
       "      <td>True</td>\n",
       "      <td>Video Games</td>\n",
       "      <td>4.4</td>\n",
       "      <td>387.0</td>\n",
       "      <td>158.9</td>\n",
       "      <td>Accessories</td>\n",
       "    </tr>\n",
       "    <tr>\n",
       "      <th>4624608</th>\n",
       "      <td>B0001AO01Y</td>\n",
       "      <td>1.0</td>\n",
       "      <td>Title : DON'T WASTE YOUR MONEY!!!!\\n Review : ...</td>\n",
       "      <td>0</td>\n",
       "      <td>4</td>\n",
       "      <td>1</td>\n",
       "      <td>False</td>\n",
       "      <td>Video Games</td>\n",
       "      <td>3.6</td>\n",
       "      <td>240.0</td>\n",
       "      <td>44.99</td>\n",
       "      <td>Games</td>\n",
       "    </tr>\n",
       "  </tbody>\n",
       "</table>\n",
       "<p>2078246 rows × 12 columns</p>\n",
       "</div>"
      ],
      "text/plain": [
       "        parent_asin  rating  \\\n",
       "1        B07SRWRH5D     5.0   \n",
       "2        B07MFMFW34     5.0   \n",
       "3        B0BCHWZX95     5.0   \n",
       "19       B07GJ5W7HV     1.0   \n",
       "20       B00T76ZD78     5.0   \n",
       "...             ...     ...   \n",
       "4624604  B015NHBBOS     5.0   \n",
       "4624605  B015NHBBOS     5.0   \n",
       "4624606  B015NHBBOS     5.0   \n",
       "4624607  B015NHBBOS     5.0   \n",
       "4624608  B0001AO01Y     1.0   \n",
       "\n",
       "                                                 full_text  as_image  \\\n",
       "1        Title : Good. A bit slow\\n Review : Nostalgic ...         0   \n",
       "2        Title : ... an order for my kids & they have r...         0   \n",
       "3        Title : Great alt to pro controller\\n Review :...         0   \n",
       "19       Title : DONT BUY\\n Review : NOT RECCOMENDED, B...         0   \n",
       "20       Title : Great set at a fantastic price\\n Revie...         0   \n",
       "...                                                    ...       ...   \n",
       "4624604  Title : I love it\\n Review : Thank you for gre...         0   \n",
       "4624605     Title : Five Stars\\n Review : Expectations met         0   \n",
       "4624606  Title : Five Stars\\n Review : The controller i...         0   \n",
       "4624607         Title : Good seller\\n Review : Works great         0   \n",
       "4624608  Title : DON'T WASTE YOUR MONEY!!!!\\n Review : ...         0   \n",
       "\n",
       "         helpful_vote  as_helpful_vote  verified_purchase main_category  \\\n",
       "1                   1                1              False   Video Games   \n",
       "2                   0                0               True   Video Games   \n",
       "3                   0                0               True   Video Games   \n",
       "19                  0                0               True   Video Games   \n",
       "20                  0                0               True   Video Games   \n",
       "...               ...              ...                ...           ...   \n",
       "4624604             0                0               True   Video Games   \n",
       "4624605             0                0               True   Video Games   \n",
       "4624606             0                0               True   Video Games   \n",
       "4624607             0                0               True   Video Games   \n",
       "4624608             4                1              False   Video Games   \n",
       "\n",
       "         average_rating  rating_number  price categories_grp  \n",
       "1                   4.8         9097.0  25.95          Games  \n",
       "2                   3.0           31.0  29.99          Games  \n",
       "3                   4.6        19492.0  67.61    Accessories  \n",
       "19                  4.6         3874.0   98.9    Accessories  \n",
       "20                  4.2          251.0   7.32    Accessories  \n",
       "...                 ...            ...    ...            ...  \n",
       "4624604             4.4          387.0  158.9    Accessories  \n",
       "4624605             4.4          387.0  158.9    Accessories  \n",
       "4624606             4.4          387.0  158.9    Accessories  \n",
       "4624607             4.4          387.0  158.9    Accessories  \n",
       "4624608             3.6          240.0  44.99          Games  \n",
       "\n",
       "[2078246 rows x 12 columns]"
      ]
     },
     "execution_count": 14,
     "metadata": {},
     "output_type": "execute_result"
    }
   ],
   "source": [
    "df_final"
   ]
  },
  {
   "cell_type": "code",
   "execution_count": 14,
   "metadata": {},
   "outputs": [],
   "source": [
    "#df_final.iloc[1]['full_text']"
   ]
  },
  {
   "cell_type": "markdown",
   "metadata": {},
   "source": [
    "### Save\n"
   ]
  },
  {
   "cell_type": "code",
   "execution_count": 15,
   "metadata": {},
   "outputs": [],
   "source": [
    "## Save data\n",
    "df_final.to_csv('./../data/video_games.csv')"
   ]
  }
 ],
 "metadata": {
  "kernelspec": {
   "display_name": "Python 3",
   "language": "python",
   "name": "python3"
  },
  "language_info": {
   "codemirror_mode": {
    "name": "ipython",
    "version": 3
   },
   "file_extension": ".py",
   "mimetype": "text/x-python",
   "name": "python",
   "nbconvert_exporter": "python",
   "pygments_lexer": "ipython3",
   "version": "3.10.11"
  }
 },
 "nbformat": 4,
 "nbformat_minor": 2
}
