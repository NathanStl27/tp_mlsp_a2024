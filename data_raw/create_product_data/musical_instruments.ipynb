{
 "cells": [
  {
   "cell_type": "markdown",
   "metadata": {},
   "source": [
    "## Code pour prendre des revues de différents produits\n",
    "* Importer les données\n",
    "    * Appliances\n",
    "    * Automotive\n",
    "    * CDs_and_Vinyl\n",
    "    * Digital_Music\n",
    "    * Gift_Cards\n",
    "    * Handmade_Products\n",
    "    * Musical_Instruments\n",
    "    * Video_Games\n",
    "* Filtrer celles que je souhaite conserver (quantité, équilibre des notes, présence d'informations pour xgboost [ex : prix, ...])\n",
    "    * Ne pas oublier le set.seed\n",
    "* Enregistrer les données"
   ]
  },
  {
   "cell_type": "markdown",
   "metadata": {},
   "source": [
    "## Pipeline de données\n"
   ]
  },
  {
   "cell_type": "code",
   "execution_count": 1,
   "metadata": {},
   "outputs": [],
   "source": [
    "### Packages de base\n",
    "import numpy as np\n",
    "import pandas as pd\n",
    "from datasets import load_dataset"
   ]
  },
  {
   "cell_type": "markdown",
   "metadata": {},
   "source": [
    "### Automotive\n",
    "#### Importation"
   ]
  },
  {
   "cell_type": "code",
   "execution_count": 2,
   "metadata": {},
   "outputs": [
    {
     "data": {
      "application/vnd.jupyter.widget-view+json": {
       "model_id": "3cdac7a5c73e4d9d8edb548c4d7bfff6",
       "version_major": 2,
       "version_minor": 0
      },
      "text/plain": [
       "Musical_Instruments.jsonl:   0%|          | 0.00/1.56G [00:00<?, ?B/s]"
      ]
     },
     "metadata": {},
     "output_type": "display_data"
    },
    {
     "name": "stderr",
     "output_type": "stream",
     "text": [
      "C:\\Users\\natha\\AppData\\Local\\Packages\\PythonSoftwareFoundation.Python.3.10_qbz5n2kfra8p0\\LocalCache\\local-packages\\Python310\\site-packages\\huggingface_hub\\file_download.py:139: UserWarning: `huggingface_hub` cache-system uses symlinks by default to efficiently store duplicated files but your machine does not support them in C:\\Users\\natha\\.cache\\huggingface\\hub\\datasets--McAuley-Lab--Amazon-Reviews-2023. Caching files will still work but in a degraded version that might require more space on your disk. This warning can be disabled by setting the `HF_HUB_DISABLE_SYMLINKS_WARNING` environment variable. For more details, see https://huggingface.co/docs/huggingface_hub/how-to-cache#limitations.\n",
      "To support symlinks on Windows, you either need to activate Developer Mode or to run Python as an administrator. In order to activate developer mode, see this article: https://docs.microsoft.com/en-us/windows/apps/get-started/enable-your-device-for-development\n",
      "  warnings.warn(message)\n"
     ]
    },
    {
     "data": {
      "application/vnd.jupyter.widget-view+json": {
       "model_id": "c8f8200c08134af188f9ee744c1933ff",
       "version_major": 2,
       "version_minor": 0
      },
      "text/plain": [
       "Generating full split: 0 examples [00:00, ? examples/s]"
      ]
     },
     "metadata": {},
     "output_type": "display_data"
    },
    {
     "data": {
      "application/vnd.jupyter.widget-view+json": {
       "model_id": "33eaba3cabac4ec59fd76825704c6a5a",
       "version_major": 2,
       "version_minor": 0
      },
      "text/plain": [
       "meta_Musical_Instruments.jsonl:   0%|          | 0.00/632M [00:00<?, ?B/s]"
      ]
     },
     "metadata": {},
     "output_type": "display_data"
    },
    {
     "data": {
      "application/vnd.jupyter.widget-view+json": {
       "model_id": "7807d8fdad7544c5b4b7b72f46682bdf",
       "version_major": 2,
       "version_minor": 0
      },
      "text/plain": [
       "Generating full split: 0 examples [00:00, ? examples/s]"
      ]
     },
     "metadata": {},
     "output_type": "display_data"
    }
   ],
   "source": [
    "## Load User Reviews\n",
    "dataset_reviews = load_dataset(\"McAuley-Lab/Amazon-Reviews-2023\", \"raw_review_Musical_Instruments\", split=\"full\", trust_remote_code=True)\n",
    "\n",
    "## Load Item Metadata - Test avec All_Beauty\n",
    "dataset_items = load_dataset(\"McAuley-Lab/Amazon-Reviews-2023\", \"raw_meta_Musical_Instruments\", split=\"full\", trust_remote_code=True)\n"
   ]
  },
  {
   "cell_type": "markdown",
   "metadata": {},
   "source": [
    "#### Reviews"
   ]
  },
  {
   "cell_type": "code",
   "execution_count": 3,
   "metadata": {},
   "outputs": [],
   "source": [
    "## Convert to df (plus à l'aise pour certaines manip et EDA)\n",
    "df_reviews = pd.DataFrame(dataset_reviews)"
   ]
  },
  {
   "cell_type": "code",
   "execution_count": 5,
   "metadata": {},
   "outputs": [],
   "source": [
    "### Data manipulation\n",
    "## Concat title and text\n",
    "df_reviews['full_text'] = \"Title : \" + df_reviews['title'].astype(str) + \"\\n Review : \" + df_reviews['text'].astype(str)\n",
    "\n",
    "## Create variable as_image\n",
    "df_reviews['as_image'] = np.where(df_reviews['images'].str.len() == 0, 0, 1)\n",
    "\n",
    "## Create variable as_helpful_vote\n",
    "df_reviews['as_helpful_vote'] = np.where(df_reviews['helpful_vote'] == 0, 0, 1)"
   ]
  },
  {
   "cell_type": "markdown",
   "metadata": {},
   "source": [
    "#### Items"
   ]
  },
  {
   "cell_type": "code",
   "execution_count": 4,
   "metadata": {},
   "outputs": [],
   "source": [
    "## Convert to pandas df\n",
    "df_items = pd.DataFrame(dataset_items)"
   ]
  },
  {
   "cell_type": "code",
   "execution_count": 7,
   "metadata": {},
   "outputs": [
    {
     "name": "stdout",
     "output_type": "stream",
     "text": [
      "Musical Instruments             183052\n",
      "All Electronics                   6003\n",
      "Industrial & Scientific           3930\n",
      "Tools & Home Improvement          3265\n",
      "Amazon Home                       2988\n",
      "Home Audio & Theater              2099\n",
      "AMAZON FASHION                    1689\n",
      "Sports & Outdoors                 1123\n",
      "Toys & Games                      1061\n",
      "Computers                          746\n",
      "Cell Phones & Accessories          715\n",
      "Software                           641\n",
      "Camera & Photo                     527\n",
      "Office Products                    410\n",
      "Health & Personal Care             402\n",
      "Books                              382\n",
      "Automotive                         363\n",
      "Arts, Crafts & Sewing              195\n",
      "All Beauty                         174\n",
      "Car Electronics                    117\n",
      "Pet Supplies                       100\n",
      "Portable Audio & Accessories        56\n",
      "Baby                                44\n",
      "Video Games                         43\n",
      "Grocery                             24\n",
      "Appliances                          13\n",
      "Buy a Kindle                         9\n",
      "Handmade                             6\n",
      "GPS & Navigation                     6\n",
      "Amazon Devices                       4\n",
      "Entertainment                        4\n",
      "Digital Music                        3\n",
      "Movies & TV                          3\n",
      "Audible Audiobooks                   2\n",
      "Collectible Coins                    2\n",
      "Name: main_category, dtype: int64\n",
      "Musical Instruments    183052\n",
      "Name: main_category, dtype: int64\n"
     ]
    }
   ],
   "source": [
    "## Main category (filtrer pour conserver seulement \"Appliances\")\n",
    "print(df_items['main_category'].value_counts())\n",
    "df_items_cat = df_items[df_items['main_category'] == \"Musical Instruments\"]\n",
    "print(df_items_cat['main_category'].value_counts())"
   ]
  },
  {
   "cell_type": "code",
   "execution_count": 8,
   "metadata": {},
   "outputs": [
    {
     "name": "stdout",
     "output_type": "stream",
     "text": [
      "183052\n",
      "69492\n"
     ]
    },
    {
     "data": {
      "text/plain": [
       "count    69492.000000\n",
       "mean       136.649016\n",
       "std        325.308437\n",
       "min          0.010000\n",
       "25%         15.290000\n",
       "50%         37.865000\n",
       "75%        129.000000\n",
       "max      15499.950000\n",
       "Name: price, dtype: float64"
      ]
     },
     "execution_count": 8,
     "metadata": {},
     "output_type": "execute_result"
    }
   ],
   "source": [
    "## Filtrer pour conserver seulement les produits avec un prix\n",
    "print(df_items_cat['price'].count())\n",
    "print(df_items_cat[df_items_cat['price'] != 'None']['price'].count())\n",
    "df_items_price = df_items_cat[df_items_cat['price'] != 'None']\n",
    "df_items_price['price'].astype(float).describe()"
   ]
  },
  {
   "cell_type": "code",
   "execution_count": 9,
   "metadata": {},
   "outputs": [
    {
     "name": "stdout",
     "output_type": "stream",
     "text": [
      "[]                                                                                                                              3572\n",
      "[Musical Instruments, Instrument Accessories, Guitar & Bass Accessories, Picks & Pick Holders, Picks]                           1804\n",
      "[Musical Instruments, Instrument Accessories, Guitar & Bass Accessories, Electric Guitar Parts, Pickups & Pickup Covers]        1425\n",
      "[Musical Instruments, Microphones & Accessories, Microphones, Wireless Microphones & Systems, Wireless Lavalier Microphones]    1144\n",
      "[Musical Instruments, Instrument Accessories, Guitar & Bass Accessories, Straps & Strap Locks, Straps]                          1102\n",
      "                                                                                                                                ... \n",
      "[Musical Instruments, Wind & Woodwind Instruments, Folk & World, Shenais]                                                          1\n",
      "[Musical Instruments, Electronic Music, DJ & Karaoke, Karaoke Equipment, Stands & Hardware]                                        1\n",
      "[Musical Instruments, Band & Orchestra, Orchestral Strings, Violas]                                                                1\n",
      "[Musical Instruments, Pre-Owned Musical Instruments & Accessories, Pre-Owned Recording Equipment]                                  1\n",
      "[Musical Instruments, Instrument Accessories, Brass Accessories, Mutes, Tuba]                                                      1\n",
      "Name: categories, Length: 654, dtype: int64\n"
     ]
    }
   ],
   "source": [
    "## Aperçu des catégories\n",
    "print(df_items_price['categories'].value_counts())\n"
   ]
  },
  {
   "cell_type": "code",
   "execution_count": 10,
   "metadata": {},
   "outputs": [
    {
     "name": "stdout",
     "output_type": "stream",
     "text": [
      "Instrument Accessories                         32146\n",
      "Microphones & Accessories                       6007\n",
      "Drums & Percussion                              5555\n",
      "Live Sound & Stage                              4189\n",
      "Guitars                                         3001\n",
      "Amplifiers & Effects                            2977\n",
      "Studio Recording Equipment                      2886\n",
      "Electronic Music, DJ & Karaoke                  2326\n",
      "Wind & Woodwind Instruments                     1932\n",
      "Band & Orchestra                                1546\n",
      "Keyboards & MIDI                                1245\n",
      "Ukuleles, Mandolins & Banjos                    1144\n",
      "Bass Guitars                                     376\n",
      "Stringed Instruments                             276\n",
      "Drum & Percussion Accessories                    227\n",
      "Prime Card Bonus                                  39\n",
      "Musical Instruments Outlet                         9\n",
      "Musical Instruments Savings                        7\n",
      "Musical Instruments Beginner Store                 5\n",
      "Presidents Day Savings                             5\n",
      "Pro & DJ Headphones                                5\n",
      "Vintage Musical Instruments                        5\n",
      "Pre-Owned Musical Instruments & Accessories        3\n",
      "20% back on select brands                          3\n",
      "Musical Instruments Low Return Rate Alert          2\n",
      "20% off select Musical Instruments                 1\n",
      "Learn Piano with Skoove                            1\n",
      "Musicians Gift Guide                               1\n",
      "Halloween Effects & Speakers                       1\n",
      "Name: categories_single, dtype: int64\n"
     ]
    },
    {
     "name": "stderr",
     "output_type": "stream",
     "text": [
      "C:\\Users\\natha\\AppData\\Local\\Temp\\ipykernel_25152\\3939727900.py:3: SettingWithCopyWarning: \n",
      "A value is trying to be set on a copy of a slice from a DataFrame.\n",
      "Try using .loc[row_indexer,col_indexer] = value instead\n",
      "\n",
      "See the caveats in the documentation: https://pandas.pydata.org/pandas-docs/stable/user_guide/indexing.html#returning-a-view-versus-a-copy\n",
      "  df_items_price['categories_single'] = df_items_price['categories'].apply(lambda x : (x or [None, None])[1])\n"
     ]
    }
   ],
   "source": [
    "## Isoler les catégories importantes\n",
    "#df_items_price['categories_single'] = df_items_price['categories'].apply(lambda x : (x or [None])[-1])\n",
    "df_items_price['categories_single'] = df_items_price['categories'].apply(lambda x : (x or [None, None])[1])\n",
    "\n",
    "## Aperçu des options\n",
    "print(df_items_price['categories_single'].value_counts())\n",
    "\n",
    "## À grouper\n",
    "# Parts & Accessories\n",
    "# Other\n"
   ]
  },
  {
   "cell_type": "code",
   "execution_count": 11,
   "metadata": {},
   "outputs": [
    {
     "name": "stderr",
     "output_type": "stream",
     "text": [
      "C:\\Users\\natha\\AppData\\Local\\Temp\\ipykernel_25152\\1813414590.py:2: SettingWithCopyWarning: \n",
      "A value is trying to be set on a copy of a slice from a DataFrame.\n",
      "Try using .loc[row_indexer,col_indexer] = value instead\n",
      "\n",
      "See the caveats in the documentation: https://pandas.pydata.org/pandas-docs/stable/user_guide/indexing.html#returning-a-view-versus-a-copy\n",
      "  df_items_price['categories_grp'] = np.where(df_items_price['categories_single'] == \"Instrument Accessories\", \"Instrument Accessories\", \"Other\")\n"
     ]
    },
    {
     "data": {
      "text/plain": [
       "Other                     37346\n",
       "Instrument Accessories    32146\n",
       "Name: categories_grp, dtype: int64"
      ]
     },
     "execution_count": 11,
     "metadata": {},
     "output_type": "execute_result"
    }
   ],
   "source": [
    "## Grouper les catégories\n",
    "df_items_price['categories_grp'] = np.where(df_items_price['categories_single'] == \"Instrument Accessories\", \"Instrument Accessories\", \"Other\")\n",
    "\n",
    "df_items_price['categories_grp'].value_counts()"
   ]
  },
  {
   "cell_type": "code",
   "execution_count": 11,
   "metadata": {},
   "outputs": [],
   "source": [
    "### Potentiel pour XGBoost\n",
    "## Reviews\n",
    "# Création variable presence_image (as_image)\n",
    "# verified_purchase\n",
    "# helpful_vote (as_helpful_votes)\n",
    "\n",
    "## Items\n",
    "# Sure : main_category, average_rating, rating_number, price\n",
    "# catgories_grp\n",
    "# Potentiel : \n",
    "#   XTitle? De quoi à faire avec ça?\n",
    "#   *store name? dequoi à faire avec ça?\n",
    "#   **categories (potentiellement qqch à faire avec ça!) (extraire du dictionnaire!)\n",
    "# rating_number (number of ratings for average)\n"
   ]
  },
  {
   "cell_type": "markdown",
   "metadata": {},
   "source": [
    "#### Merge Items to Reviews"
   ]
  },
  {
   "cell_type": "code",
   "execution_count": 59,
   "metadata": {},
   "outputs": [],
   "source": [
    "# Keep only necessary variables before mergeing\n",
    "df_reviews_f = df_reviews[['rating', 'full_text', 'as_image', 'parent_asin', 'as_helpful_vote', 'helpful_vote', 'verified_purchase']]\n",
    "df_items_f = df_items_price[['main_category', 'average_rating', 'rating_number', 'price', 'parent_asin', 'categories_grp']]\n",
    "\n",
    "# Merge Items on Reviews\n",
    "df_full = df_reviews_f.merge(df_items_f, on='parent_asin', how='left')\n",
    "\n",
    "# Filter Price\n",
    "df_full_price = df_full[df_full['price'] != 'None']\n",
    "\n",
    "# Keep only necessary variables\n",
    "df_final = df_full_price[['parent_asin', # both\n",
    "               'rating', 'full_text', 'as_image', 'helpful_vote', 'as_helpful_vote', 'verified_purchase', # reviews\n",
    "               'main_category', 'average_rating', 'rating_number', 'price', 'categories_grp']] # items\n",
    "\n",
    "# Filter main_categoy and price\n",
    "df_final = df_final.dropna()"
   ]
  },
  {
   "cell_type": "code",
   "execution_count": 13,
   "metadata": {},
   "outputs": [
    {
     "data": {
      "text/html": [
       "<div>\n",
       "<style scoped>\n",
       "    .dataframe tbody tr th:only-of-type {\n",
       "        vertical-align: middle;\n",
       "    }\n",
       "\n",
       "    .dataframe tbody tr th {\n",
       "        vertical-align: top;\n",
       "    }\n",
       "\n",
       "    .dataframe thead th {\n",
       "        text-align: right;\n",
       "    }\n",
       "</style>\n",
       "<table border=\"1\" class=\"dataframe\">\n",
       "  <thead>\n",
       "    <tr style=\"text-align: right;\">\n",
       "      <th></th>\n",
       "      <th>parent_asin</th>\n",
       "      <th>rating</th>\n",
       "      <th>full_text</th>\n",
       "      <th>as_image</th>\n",
       "      <th>helpful_vote</th>\n",
       "      <th>as_helpful_vote</th>\n",
       "      <th>verified_purchase</th>\n",
       "      <th>main_category</th>\n",
       "      <th>average_rating</th>\n",
       "      <th>rating_number</th>\n",
       "      <th>price</th>\n",
       "      <th>categories_grp</th>\n",
       "    </tr>\n",
       "  </thead>\n",
       "  <tbody>\n",
       "    <tr>\n",
       "      <th>2</th>\n",
       "      <td>B0040FJ27S</td>\n",
       "      <td>4.0</td>\n",
       "      <td>Title : okay\\n Review : pretty good overall.  ...</td>\n",
       "      <td>0</td>\n",
       "      <td>0</td>\n",
       "      <td>0</td>\n",
       "      <td>True</td>\n",
       "      <td>Musical Instruments</td>\n",
       "      <td>4.5</td>\n",
       "      <td>1763.0</td>\n",
       "      <td>28.99</td>\n",
       "      <td>Other</td>\n",
       "    </tr>\n",
       "    <tr>\n",
       "      <th>3</th>\n",
       "      <td>B00WJ3HL5I</td>\n",
       "      <td>3.0</td>\n",
       "      <td>Title : Easy to return.\\n Review : Too bad it ...</td>\n",
       "      <td>0</td>\n",
       "      <td>0</td>\n",
       "      <td>0</td>\n",
       "      <td>True</td>\n",
       "      <td>Musical Instruments</td>\n",
       "      <td>4.6</td>\n",
       "      <td>15012.0</td>\n",
       "      <td>10.99</td>\n",
       "      <td>Instrument Accessories</td>\n",
       "    </tr>\n",
       "    <tr>\n",
       "      <th>4</th>\n",
       "      <td>B07T9NM5QR</td>\n",
       "      <td>5.0</td>\n",
       "      <td>Title : Good product despite tight bolt.\\n Rev...</td>\n",
       "      <td>0</td>\n",
       "      <td>0</td>\n",
       "      <td>0</td>\n",
       "      <td>False</td>\n",
       "      <td>Musical Instruments</td>\n",
       "      <td>4.7</td>\n",
       "      <td>2032.0</td>\n",
       "      <td>48.39</td>\n",
       "      <td>Other</td>\n",
       "    </tr>\n",
       "    <tr>\n",
       "      <th>7</th>\n",
       "      <td>B0C5D8X3JT</td>\n",
       "      <td>5.0</td>\n",
       "      <td>Title : Xlnt product\\n Review : Easy to use. G...</td>\n",
       "      <td>0</td>\n",
       "      <td>0</td>\n",
       "      <td>0</td>\n",
       "      <td>True</td>\n",
       "      <td>Musical Instruments</td>\n",
       "      <td>4.6</td>\n",
       "      <td>6408.0</td>\n",
       "      <td>26.99</td>\n",
       "      <td>Instrument Accessories</td>\n",
       "    </tr>\n",
       "    <tr>\n",
       "      <th>8</th>\n",
       "      <td>B074VB2D2K</td>\n",
       "      <td>5.0</td>\n",
       "      <td>Title : Nice Karaoke machine\\n Review : My gra...</td>\n",
       "      <td>0</td>\n",
       "      <td>3</td>\n",
       "      <td>1</td>\n",
       "      <td>True</td>\n",
       "      <td>Musical Instruments</td>\n",
       "      <td>4.5</td>\n",
       "      <td>861.0</td>\n",
       "      <td>44.88</td>\n",
       "      <td>Other</td>\n",
       "    </tr>\n",
       "    <tr>\n",
       "      <th>...</th>\n",
       "      <td>...</td>\n",
       "      <td>...</td>\n",
       "      <td>...</td>\n",
       "      <td>...</td>\n",
       "      <td>...</td>\n",
       "      <td>...</td>\n",
       "      <td>...</td>\n",
       "      <td>...</td>\n",
       "      <td>...</td>\n",
       "      <td>...</td>\n",
       "      <td>...</td>\n",
       "      <td>...</td>\n",
       "    </tr>\n",
       "    <tr>\n",
       "      <th>3017430</th>\n",
       "      <td>B0017T7XCG</td>\n",
       "      <td>4.0</td>\n",
       "      <td>Title : Four Stars\\n Review : Thanks</td>\n",
       "      <td>0</td>\n",
       "      <td>0</td>\n",
       "      <td>0</td>\n",
       "      <td>True</td>\n",
       "      <td>Musical Instruments</td>\n",
       "      <td>4.6</td>\n",
       "      <td>321.0</td>\n",
       "      <td>219.28</td>\n",
       "      <td>Other</td>\n",
       "    </tr>\n",
       "    <tr>\n",
       "      <th>3017431</th>\n",
       "      <td>B0B4SHB5T3</td>\n",
       "      <td>3.0</td>\n",
       "      <td>Title : Good harps, but\\n Review : Good harps,...</td>\n",
       "      <td>0</td>\n",
       "      <td>3</td>\n",
       "      <td>1</td>\n",
       "      <td>True</td>\n",
       "      <td>Musical Instruments</td>\n",
       "      <td>4.4</td>\n",
       "      <td>687.0</td>\n",
       "      <td>53.39</td>\n",
       "      <td>Other</td>\n",
       "    </tr>\n",
       "    <tr>\n",
       "      <th>3017432</th>\n",
       "      <td>B0017T7XCG</td>\n",
       "      <td>5.0</td>\n",
       "      <td>Title : Five Stars\\n Review : Great price for ...</td>\n",
       "      <td>0</td>\n",
       "      <td>0</td>\n",
       "      <td>0</td>\n",
       "      <td>True</td>\n",
       "      <td>Musical Instruments</td>\n",
       "      <td>4.6</td>\n",
       "      <td>321.0</td>\n",
       "      <td>219.28</td>\n",
       "      <td>Other</td>\n",
       "    </tr>\n",
       "    <tr>\n",
       "      <th>3017433</th>\n",
       "      <td>B0017T7XCG</td>\n",
       "      <td>5.0</td>\n",
       "      <td>Title : Great value\\n Review : Meets my need</td>\n",
       "      <td>0</td>\n",
       "      <td>0</td>\n",
       "      <td>0</td>\n",
       "      <td>True</td>\n",
       "      <td>Musical Instruments</td>\n",
       "      <td>4.6</td>\n",
       "      <td>321.0</td>\n",
       "      <td>219.28</td>\n",
       "      <td>Other</td>\n",
       "    </tr>\n",
       "    <tr>\n",
       "      <th>3017434</th>\n",
       "      <td>B0B4CQCHP7</td>\n",
       "      <td>5.0</td>\n",
       "      <td>Title : Review\\n Review : I absolutely love my...</td>\n",
       "      <td>0</td>\n",
       "      <td>0</td>\n",
       "      <td>0</td>\n",
       "      <td>True</td>\n",
       "      <td>Musical Instruments</td>\n",
       "      <td>4.3</td>\n",
       "      <td>244.0</td>\n",
       "      <td>35.99</td>\n",
       "      <td>Other</td>\n",
       "    </tr>\n",
       "  </tbody>\n",
       "</table>\n",
       "<p>1788161 rows × 12 columns</p>\n",
       "</div>"
      ],
      "text/plain": [
       "        parent_asin  rating  \\\n",
       "2        B0040FJ27S     4.0   \n",
       "3        B00WJ3HL5I     3.0   \n",
       "4        B07T9NM5QR     5.0   \n",
       "7        B0C5D8X3JT     5.0   \n",
       "8        B074VB2D2K     5.0   \n",
       "...             ...     ...   \n",
       "3017430  B0017T7XCG     4.0   \n",
       "3017431  B0B4SHB5T3     3.0   \n",
       "3017432  B0017T7XCG     5.0   \n",
       "3017433  B0017T7XCG     5.0   \n",
       "3017434  B0B4CQCHP7     5.0   \n",
       "\n",
       "                                                 full_text  as_image  \\\n",
       "2        Title : okay\\n Review : pretty good overall.  ...         0   \n",
       "3        Title : Easy to return.\\n Review : Too bad it ...         0   \n",
       "4        Title : Good product despite tight bolt.\\n Rev...         0   \n",
       "7        Title : Xlnt product\\n Review : Easy to use. G...         0   \n",
       "8        Title : Nice Karaoke machine\\n Review : My gra...         0   \n",
       "...                                                    ...       ...   \n",
       "3017430               Title : Four Stars\\n Review : Thanks         0   \n",
       "3017431  Title : Good harps, but\\n Review : Good harps,...         0   \n",
       "3017432  Title : Five Stars\\n Review : Great price for ...         0   \n",
       "3017433       Title : Great value\\n Review : Meets my need         0   \n",
       "3017434  Title : Review\\n Review : I absolutely love my...         0   \n",
       "\n",
       "         helpful_vote  as_helpful_vote  verified_purchase  \\\n",
       "2                   0                0               True   \n",
       "3                   0                0               True   \n",
       "4                   0                0              False   \n",
       "7                   0                0               True   \n",
       "8                   3                1               True   \n",
       "...               ...              ...                ...   \n",
       "3017430             0                0               True   \n",
       "3017431             3                1               True   \n",
       "3017432             0                0               True   \n",
       "3017433             0                0               True   \n",
       "3017434             0                0               True   \n",
       "\n",
       "               main_category  average_rating  rating_number   price  \\\n",
       "2        Musical Instruments             4.5         1763.0   28.99   \n",
       "3        Musical Instruments             4.6        15012.0   10.99   \n",
       "4        Musical Instruments             4.7         2032.0   48.39   \n",
       "7        Musical Instruments             4.6         6408.0   26.99   \n",
       "8        Musical Instruments             4.5          861.0   44.88   \n",
       "...                      ...             ...            ...     ...   \n",
       "3017430  Musical Instruments             4.6          321.0  219.28   \n",
       "3017431  Musical Instruments             4.4          687.0   53.39   \n",
       "3017432  Musical Instruments             4.6          321.0  219.28   \n",
       "3017433  Musical Instruments             4.6          321.0  219.28   \n",
       "3017434  Musical Instruments             4.3          244.0   35.99   \n",
       "\n",
       "                 categories_grp  \n",
       "2                         Other  \n",
       "3        Instrument Accessories  \n",
       "4                         Other  \n",
       "7        Instrument Accessories  \n",
       "8                         Other  \n",
       "...                         ...  \n",
       "3017430                   Other  \n",
       "3017431                   Other  \n",
       "3017432                   Other  \n",
       "3017433                   Other  \n",
       "3017434                   Other  \n",
       "\n",
       "[1788161 rows x 12 columns]"
      ]
     },
     "execution_count": 13,
     "metadata": {},
     "output_type": "execute_result"
    }
   ],
   "source": [
    "df_final"
   ]
  },
  {
   "cell_type": "code",
   "execution_count": 14,
   "metadata": {},
   "outputs": [],
   "source": [
    "#df_final.iloc[1]['full_text']"
   ]
  },
  {
   "cell_type": "markdown",
   "metadata": {},
   "source": [
    "### Save\n"
   ]
  },
  {
   "cell_type": "code",
   "execution_count": 128,
   "metadata": {},
   "outputs": [],
   "source": [
    "df_final = df_final.drop(df_final.index[[821653, 1394260, 1394261, 1394262, 1394263, 1394264, 1394265, 1394266, 1394267, 1394268, 1394269, 1394270, 1394271, 1394272, 1394273, 1394274]])"
   ]
  },
  {
   "cell_type": "code",
   "execution_count": null,
   "metadata": {},
   "outputs": [],
   "source": [
    "## Save data\n",
    "df_final.to_csv('./../data/musical_instruments.csv')"
   ]
  },
  {
   "cell_type": "markdown",
   "metadata": {},
   "source": [
    "#### OLD - trouver les erreurs pour le to_csv"
   ]
  },
  {
   "cell_type": "code",
   "execution_count": 62,
   "metadata": {},
   "outputs": [
    {
     "data": {
      "text/plain": [
       "'Title : Nice mixer for basic purposes.\\n Review : No switch, no big deal for me. Do not have any heat issues some have reported. I use to mix electronic drums/guitar for jamming along as well as occasional DJ/Recording. Excellent sound, low noise, great for my purposes.'"
      ]
     },
     "execution_count": 62,
     "metadata": {},
     "output_type": "execute_result"
    }
   ],
   "source": [
    "df_final.iloc[821654]['full_text']"
   ]
  },
  {
   "cell_type": "code",
   "execution_count": 124,
   "metadata": {},
   "outputs": [],
   "source": [
    "test = pd.read_csv('./../data/musical_instruments.csv')"
   ]
  },
  {
   "cell_type": "code",
   "execution_count": 125,
   "metadata": {},
   "outputs": [
    {
     "data": {
      "text/plain": [
       "Unnamed: 0           1394259\n",
       "parent_asin          1394259\n",
       "rating               1394259\n",
       "full_text            1394259\n",
       "as_image             1394259\n",
       "helpful_vote         1394259\n",
       "as_helpful_vote      1394259\n",
       "verified_purchase    1394259\n",
       "main_category        1394259\n",
       "average_rating       1394259\n",
       "rating_number        1394259\n",
       "price                1394259\n",
       "categories_grp       1394259\n",
       "dtype: int64"
      ]
     },
     "execution_count": 125,
     "metadata": {},
     "output_type": "execute_result"
    }
   ],
   "source": [
    "test.count()"
   ]
  },
  {
   "cell_type": "code",
   "execution_count": 112,
   "metadata": {},
   "outputs": [
    {
     "ename": "IndexError",
     "evalue": "single positional indexer is out-of-bounds",
     "output_type": "error",
     "traceback": [
      "\u001b[1;31m---------------------------------------------------------------------------\u001b[0m",
      "\u001b[1;31mIndexError\u001b[0m                                Traceback (most recent call last)",
      "Cell \u001b[1;32mIn[112], line 1\u001b[0m\n\u001b[1;32m----> 1\u001b[0m \u001b[43mtest\u001b[49m\u001b[38;5;241;43m.\u001b[39;49m\u001b[43miloc\u001b[49m\u001b[43m[\u001b[49m\u001b[38;5;241;43m1394270\u001b[39;49m\u001b[43m]\u001b[49m[\u001b[38;5;124m'\u001b[39m\u001b[38;5;124mfull_text\u001b[39m\u001b[38;5;124m'\u001b[39m]\n",
      "File \u001b[1;32m~\\AppData\\Local\\Packages\\PythonSoftwareFoundation.Python.3.10_qbz5n2kfra8p0\\LocalCache\\local-packages\\Python310\\site-packages\\pandas\\core\\indexing.py:1073\u001b[0m, in \u001b[0;36m_LocationIndexer.__getitem__\u001b[1;34m(self, key)\u001b[0m\n\u001b[0;32m   1070\u001b[0m axis \u001b[38;5;241m=\u001b[39m \u001b[38;5;28mself\u001b[39m\u001b[38;5;241m.\u001b[39maxis \u001b[38;5;129;01mor\u001b[39;00m \u001b[38;5;241m0\u001b[39m\n\u001b[0;32m   1072\u001b[0m maybe_callable \u001b[38;5;241m=\u001b[39m com\u001b[38;5;241m.\u001b[39mapply_if_callable(key, \u001b[38;5;28mself\u001b[39m\u001b[38;5;241m.\u001b[39mobj)\n\u001b[1;32m-> 1073\u001b[0m \u001b[38;5;28;01mreturn\u001b[39;00m \u001b[38;5;28;43mself\u001b[39;49m\u001b[38;5;241;43m.\u001b[39;49m\u001b[43m_getitem_axis\u001b[49m\u001b[43m(\u001b[49m\u001b[43mmaybe_callable\u001b[49m\u001b[43m,\u001b[49m\u001b[43m \u001b[49m\u001b[43maxis\u001b[49m\u001b[38;5;241;43m=\u001b[39;49m\u001b[43maxis\u001b[49m\u001b[43m)\u001b[49m\n",
      "File \u001b[1;32m~\\AppData\\Local\\Packages\\PythonSoftwareFoundation.Python.3.10_qbz5n2kfra8p0\\LocalCache\\local-packages\\Python310\\site-packages\\pandas\\core\\indexing.py:1625\u001b[0m, in \u001b[0;36m_iLocIndexer._getitem_axis\u001b[1;34m(self, key, axis)\u001b[0m\n\u001b[0;32m   1622\u001b[0m     \u001b[38;5;28;01mraise\u001b[39;00m \u001b[38;5;167;01mTypeError\u001b[39;00m(\u001b[38;5;124m\"\u001b[39m\u001b[38;5;124mCannot index by location index with a non-integer key\u001b[39m\u001b[38;5;124m\"\u001b[39m)\n\u001b[0;32m   1624\u001b[0m \u001b[38;5;66;03m# validate the location\u001b[39;00m\n\u001b[1;32m-> 1625\u001b[0m \u001b[38;5;28;43mself\u001b[39;49m\u001b[38;5;241;43m.\u001b[39;49m\u001b[43m_validate_integer\u001b[49m\u001b[43m(\u001b[49m\u001b[43mkey\u001b[49m\u001b[43m,\u001b[49m\u001b[43m \u001b[49m\u001b[43maxis\u001b[49m\u001b[43m)\u001b[49m\n\u001b[0;32m   1627\u001b[0m \u001b[38;5;28;01mreturn\u001b[39;00m \u001b[38;5;28mself\u001b[39m\u001b[38;5;241m.\u001b[39mobj\u001b[38;5;241m.\u001b[39m_ixs(key, axis\u001b[38;5;241m=\u001b[39maxis)\n",
      "File \u001b[1;32m~\\AppData\\Local\\Packages\\PythonSoftwareFoundation.Python.3.10_qbz5n2kfra8p0\\LocalCache\\local-packages\\Python310\\site-packages\\pandas\\core\\indexing.py:1557\u001b[0m, in \u001b[0;36m_iLocIndexer._validate_integer\u001b[1;34m(self, key, axis)\u001b[0m\n\u001b[0;32m   1555\u001b[0m len_axis \u001b[38;5;241m=\u001b[39m \u001b[38;5;28mlen\u001b[39m(\u001b[38;5;28mself\u001b[39m\u001b[38;5;241m.\u001b[39mobj\u001b[38;5;241m.\u001b[39m_get_axis(axis))\n\u001b[0;32m   1556\u001b[0m \u001b[38;5;28;01mif\u001b[39;00m key \u001b[38;5;241m>\u001b[39m\u001b[38;5;241m=\u001b[39m len_axis \u001b[38;5;129;01mor\u001b[39;00m key \u001b[38;5;241m<\u001b[39m \u001b[38;5;241m-\u001b[39mlen_axis:\n\u001b[1;32m-> 1557\u001b[0m     \u001b[38;5;28;01mraise\u001b[39;00m \u001b[38;5;167;01mIndexError\u001b[39;00m(\u001b[38;5;124m\"\u001b[39m\u001b[38;5;124msingle positional indexer is out-of-bounds\u001b[39m\u001b[38;5;124m\"\u001b[39m)\n",
      "\u001b[1;31mIndexError\u001b[0m: single positional indexer is out-of-bounds"
     ]
    }
   ],
   "source": [
    "test.iloc[1394270]['full_text']"
   ]
  },
  {
   "cell_type": "code",
   "execution_count": 106,
   "metadata": {},
   "outputs": [
    {
     "data": {
      "text/plain": [
       "'Title : Punching 2 to 3 times Its Price!\\n Review : So I got this microphone with no particular expectations, but I did need a microphone to have at a secondary location. However, my budget would not allow me to get what I use for the content I normally correct which is Marantz MPM-2000u Microphone. The TLDR is I am beyond impressed with the sound quality of this microphone for the price of admission. So lets get into the list of pros and cons!<br /><br />Pros:<br />-Universal Plug and Play- Plug in and just works (tested on MacOS Catalina, Windows 10, and Manjaro Linux)<br />-Solid build quality (has a nice metal feel and weight to it even though its much smaller than my Marantz)<br />-Sound quality- I could rant and rave for hours about this but my expectation were low and I have now had to  readjust what my expectations of the sound quality of lower cost mics do to this one. ( I would put the sound quality just slightly behind the Blue Yeti)<br />-Price- The barrier to entry for Podcasting, Gaming, content creation etc just got lowered. This is hands down a great starting microphone for any new content creator, or gamer looking for a low cost streaming microphone.<br />-Physical Volume Control- This has a physical volume button on the actual microphone which is a great thing to have if you have ever done any audio recordings (this is something my 100+ dollar Marantz mic doesnt even have)<br /><br />Cons<br />-No headphone jack- So you cant monitor your own audio but given the price it is understandable<br />-USB cord- The USB cord is built into the mic so it is not replaceable cord is decent length but could be maybe just a bit longer though at this price for the microphone does it really matter?<br />-Sound quality- I know i put this as a pro a very big one this is more for audiophiles etc. While this mic punches in a weight class 2 to 3 times its price in sound quality, this mic will pick up some background noise that those more expensive mic more than likely wont.<br /><br />Those are really the only \"Cons\" and they are not really cons more critiques for Fifine for when they do their next version of this mic. This is a quality microphone hitting well above its weight class.'"
      ]
     },
     "execution_count": 106,
     "metadata": {},
     "output_type": "execute_result"
    }
   ],
   "source": [
    "df_final.iloc[1394271]['full_text']"
   ]
  },
  {
   "cell_type": "code",
   "execution_count": 126,
   "metadata": {},
   "outputs": [],
   "source": [
    "test2 = df_final.drop(df_final.index[[821653, 1394260, 1394261, 1394262, 1394263, 1394264, 1394265, 1394266, 1394267, 1394268, 1394269, 1394270, 1394271, 1394272, 1394273, 1394274]])"
   ]
  },
  {
   "cell_type": "code",
   "execution_count": 94,
   "metadata": {},
   "outputs": [
    {
     "data": {
      "text/plain": [
       "parent_asin          1788161\n",
       "rating               1788161\n",
       "full_text            1788161\n",
       "as_image             1788161\n",
       "helpful_vote         1788161\n",
       "as_helpful_vote      1788161\n",
       "verified_purchase    1788161\n",
       "main_category        1788161\n",
       "average_rating       1788161\n",
       "rating_number        1788161\n",
       "price                1788161\n",
       "categories_grp       1788161\n",
       "dtype: int64"
      ]
     },
     "execution_count": 94,
     "metadata": {},
     "output_type": "execute_result"
    }
   ],
   "source": [
    "df_final.count()"
   ]
  },
  {
   "cell_type": "code",
   "execution_count": 95,
   "metadata": {},
   "outputs": [
    {
     "data": {
      "text/plain": [
       "parent_asin          1788160\n",
       "rating               1788160\n",
       "full_text            1788160\n",
       "as_image             1788160\n",
       "helpful_vote         1788160\n",
       "as_helpful_vote      1788160\n",
       "verified_purchase    1788160\n",
       "main_category        1788160\n",
       "average_rating       1788160\n",
       "rating_number        1788160\n",
       "price                1788160\n",
       "categories_grp       1788160\n",
       "dtype: int64"
      ]
     },
     "execution_count": 95,
     "metadata": {},
     "output_type": "execute_result"
    }
   ],
   "source": [
    "test2.count()"
   ]
  },
  {
   "cell_type": "code",
   "execution_count": 97,
   "metadata": {},
   "outputs": [
    {
     "data": {
      "text/plain": [
       "'Title : highly recommend!!!💞💞\\n Review : 😃Very beautiful instrument. Me and my two kids 👧👦👩love our ukulele.  I start to learn strumming in first 3 days.🎶🎵🎼 It comes with everything  you need. Highly recommend it to anyone . Great buy !!<br />💖💖约3:16 \\u3000神爱世人、甚至将他的独生子赐给他们、叫一切信他的、不至灭亡、反得永生。\\x00<br />🌺🌺For God so loved the world, that he gave his one and only Son, that whoever believes in him should not perish, but have eternal life.'"
      ]
     },
     "execution_count": 97,
     "metadata": {},
     "output_type": "execute_result"
    }
   ],
   "source": [
    "df_final.iloc[821653]['full_text']"
   ]
  },
  {
   "cell_type": "code",
   "execution_count": 114,
   "metadata": {},
   "outputs": [
    {
     "data": {
      "text/plain": [
       "'Title : Get for $40 what others charge $200 for\\n Review : First off, this product was given to me for review. Now, onto the actual review! So I had the chance to review this mic over the last week or 2. I have used this to record 5 of my YouTube channel videos, and did a few livestreams with them as well.  So for me, the biggest thing that I require out of any piece of audio equipment is that it works on Linux. The reason for this is all my content is shot edited and recorded on Manjaro KDE, but I am also a Windows, and MacOS user. So it is imperative that my audio equipment play well in all 3. To which, I can say that the K031B does just that.<br /><br />Pros-<br />+UPnP Audio device<br />+Works in Linux,Windows, and MacOS<br />+Sound quality for the price is fantastic from both headset and Lav Mic<br />+Build of the USB receiver, headset mic and lapel mic, and transmitter is good<br />+Headset (great for livestreaming)<br />+Lav Mic<br />+Transmission range is quite good again for the price<br />+User Replaceable Batteries<br />+Good Battery Life (I was getting about 7 hours on cheap dollar tree batteries)<br /><br />Cons:<br />-USB receiver is a little large so if your computer has all your ports crammed tight together could be a problem<br />-Finding the right position for headset microphone will take some experimenting for best audio<br />-Does not come with batteries for receiver<br />-Uses a Mini XLR connector which could be a problem for some people.<br /><br />Overall, I am more than satisfied with the Fifine K031B. If you are looking for an affordable wireless lav or headset setup for interviews, livestreaming, church, or conferences this is a great affordable starting point. \\x00Those 200 dollar plus microphones just made it a lot harder to justify their cost.'"
      ]
     },
     "execution_count": 114,
     "metadata": {},
     "output_type": "execute_result"
    }
   ],
   "source": [
    "test2.iloc[1394270]['full_text']"
   ]
  }
 ],
 "metadata": {
  "kernelspec": {
   "display_name": "Python 3",
   "language": "python",
   "name": "python3"
  },
  "language_info": {
   "codemirror_mode": {
    "name": "ipython",
    "version": 3
   },
   "file_extension": ".py",
   "mimetype": "text/x-python",
   "name": "python",
   "nbconvert_exporter": "python",
   "pygments_lexer": "ipython3",
   "version": "3.10.11"
  }
 },
 "nbformat": 4,
 "nbformat_minor": 2
}
