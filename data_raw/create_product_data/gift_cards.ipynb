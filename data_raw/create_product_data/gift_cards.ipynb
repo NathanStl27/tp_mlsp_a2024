{
 "cells": [
  {
   "cell_type": "markdown",
   "metadata": {},
   "source": [
    "## Code pour prendre des revues de différents produits\n",
    "* Importer les données\n",
    "    * Appliances\n",
    "    * Automotive\n",
    "    * CDs_and_Vinyl\n",
    "    * Digital_Music\n",
    "    * Gift_Cards\n",
    "    * Handmade_Products\n",
    "    * Musical_Instruments\n",
    "    * Video_Games\n",
    "* Filtrer celles que je souhaite conserver (quantité, équilibre des notes, présence d'informations pour xgboost [ex : prix, ...])\n",
    "    * Ne pas oublier le set.seed\n",
    "* Enregistrer les données"
   ]
  },
  {
   "cell_type": "markdown",
   "metadata": {},
   "source": [
    "## Pipeline de données\n"
   ]
  },
  {
   "cell_type": "code",
   "execution_count": 1,
   "metadata": {},
   "outputs": [],
   "source": [
    "### Packages de base\n",
    "import numpy as np\n",
    "import pandas as pd\n",
    "from datasets import load_dataset"
   ]
  },
  {
   "cell_type": "markdown",
   "metadata": {},
   "source": [
    "### Gift Cards\n",
    "#### Importation"
   ]
  },
  {
   "cell_type": "code",
   "execution_count": 2,
   "metadata": {},
   "outputs": [],
   "source": [
    "## Load User Reviews\n",
    "dataset_reviews = load_dataset(\"McAuley-Lab/Amazon-Reviews-2023\", \"raw_review_Gift_Cards\", split=\"full\", trust_remote_code=True)\n",
    "\n",
    "## Load Item Metadata - Test avec All_Beauty\n",
    "dataset_items = load_dataset(\"McAuley-Lab/Amazon-Reviews-2023\", \"raw_meta_Gift_Cards\", split=\"full\", trust_remote_code=True)\n"
   ]
  },
  {
   "cell_type": "markdown",
   "metadata": {},
   "source": [
    "#### Reviews"
   ]
  },
  {
   "cell_type": "code",
   "execution_count": 3,
   "metadata": {},
   "outputs": [],
   "source": [
    "## Convert to df (plus à l'aise pour certaines manip et EDA)\n",
    "df_reviews = pd.DataFrame(dataset_reviews)"
   ]
  },
  {
   "cell_type": "code",
   "execution_count": 4,
   "metadata": {},
   "outputs": [],
   "source": [
    "### Data manipulation\n",
    "## Concat title and text\n",
    "df_reviews['full_text'] = \"Title : \" + df_reviews['title'].astype(str) + \"\\n Review : \" + df_reviews['text'].astype(str)\n",
    "\n",
    "## Create variable as_image\n",
    "df_reviews['as_image'] = np.where(df_reviews['images'].str.len() == 0, 0, 1)\n",
    "\n",
    "## Create variable as_helpful_vote\n",
    "df_reviews['as_helpful_vote'] = np.where(df_reviews['helpful_vote'] == 0, 0, 1)"
   ]
  },
  {
   "cell_type": "markdown",
   "metadata": {},
   "source": [
    "#### Items"
   ]
  },
  {
   "cell_type": "code",
   "execution_count": 5,
   "metadata": {},
   "outputs": [],
   "source": [
    "## Convert to pandas df\n",
    "df_items = pd.DataFrame(dataset_items)"
   ]
  },
  {
   "cell_type": "code",
   "execution_count": 6,
   "metadata": {},
   "outputs": [
    {
     "name": "stdout",
     "output_type": "stream",
     "text": [
      "Gift Cards                926\n",
      "Amazon Home                 9\n",
      "Health & Personal Care      9\n",
      "Office Products             8\n",
      "Video Games                 3\n",
      "Software                    2\n",
      "Sports & Outdoors           2\n",
      "Grocery                     2\n",
      "Toys & Games                1\n",
      "All Beauty                  1\n",
      "AMAZON FASHION              1\n",
      "All Electronics             1\n",
      "Arts, Crafts & Sewing       1\n",
      "Books                       1\n",
      "Name: main_category, dtype: int64\n"
     ]
    }
   ],
   "source": [
    "## Main category (filtrer pour conserver seulement \"Gift Cards\")\n",
    "print(df_items['main_category'].value_counts())\n",
    "df_items_cat = df_items[df_items['main_category'] == \"Gift Cards\"]"
   ]
  },
  {
   "cell_type": "code",
   "execution_count": 7,
   "metadata": {},
   "outputs": [
    {
     "name": "stdout",
     "output_type": "stream",
     "text": [
      "926\n",
      "368\n"
     ]
    },
    {
     "data": {
      "text/plain": [
       "count     368.000000\n",
       "mean       52.768207\n",
       "std       109.047580\n",
       "min         3.990000\n",
       "25%        25.000000\n",
       "50%        45.000000\n",
       "75%        50.000000\n",
       "max      2000.000000\n",
       "Name: price, dtype: float64"
      ]
     },
     "execution_count": 7,
     "metadata": {},
     "output_type": "execute_result"
    }
   ],
   "source": [
    "## Filtrer pour conserver seulement les produits avec un prix\n",
    "print(df_items_cat['price'].count())\n",
    "print(df_items_cat[df_items_cat['price'] != 'None']['price'].count())\n",
    "df_items_price = df_items_cat[df_items_cat['price'] != 'None']\n",
    "df_items_price['price'].astype(float).describe()"
   ]
  },
  {
   "cell_type": "code",
   "execution_count": 8,
   "metadata": {},
   "outputs": [
    {
     "name": "stdout",
     "output_type": "stream",
     "text": [
      "[Gift Cards, Gift Card Categories, Restaurants]                      157\n",
      "[Gift Cards, Gift Card Categories, Specialty Cards]                   63\n",
      "[Gift Cards, Gift Card Categories, Clothing, Shoes & Accessories]     44\n",
      "[Gift Cards, Gift Card Categories, Books, Movies & Music]             19\n",
      "[Gift Cards, Gift Card Recipients, For Him]                            7\n",
      "[Gift Cards, Gift Card Categories, Electronics & Office]               7\n",
      "[Gift Cards, Gift Card Categories, Grocery, Gourmet & Floral]          7\n",
      "[Gift Cards, Gift Card Categories, Travel & Leisure]                   7\n",
      "[]                                                                     6\n",
      "[Gift Cards, Gift Card Categories, Video Games & Online Games]         6\n",
      "[Gift Cards, Gift Cards]                                               5\n",
      "[Gift Cards, Gift Card Categories, Health & Beauty]                    3\n",
      "[Gift Cards, Gift Card Categories, Home Improvement]                   3\n",
      "[Gift Cards, Gift Card Categories, Automotive & Industrial]            3\n",
      "[Gift Cards, Amazon Incentives Brand Guidelines]                       3\n",
      "[Gift Cards, Occasions, Christmas]                                     3\n",
      "[Gift Cards, Occasions, Birthday]                                      2\n",
      "[Gift Cards, Gift Card Categories, Home & Decor]                       2\n",
      "[Gift Cards, Gift Cards for New Baby]                                  2\n",
      "[Gift Cards, Gift Card Categories, Toys, Kids & Baby]                  2\n",
      "[Gift Cards, Gift Cards: Amazon Shipping]                              2\n",
      "[Gift Cards, Gift Card Categories, Sports, Outdoors & Fitness]         2\n",
      "[Gift Cards, Occasions, Baby & Expecting]                              2\n",
      "[Gift Cards, Occasions, Mother's Day]                                  2\n",
      "[Gift Cards, Gift Card Categories, Spa & Salon]                        1\n",
      "[Gift Cards, Occasions, Chanukah]                                      1\n",
      "[Gift Cards, Gift Cards: Non-Amazon Branded]                           1\n",
      "[Gift Cards, Gift Card Recipients, For Her]                            1\n",
      "[Gift Cards, Gift Card Categories, Pet Supplies]                       1\n",
      "[Gift Cards, Gift Card Holders]                                        1\n",
      "[Gift Cards, Occasions, Wedding & Engagement]                          1\n",
      "[Gift Cards, Holiday Gift Cards]                                       1\n",
      "[Gift Cards, Amazon Incentives Prime Brand Guidelines]                 1\n",
      "Name: categories, dtype: int64\n"
     ]
    }
   ],
   "source": [
    "## Aperçu des catégories\n",
    "print(df_items_price['categories'].value_counts())\n"
   ]
  },
  {
   "cell_type": "code",
   "execution_count": 9,
   "metadata": {},
   "outputs": [
    {
     "name": "stderr",
     "output_type": "stream",
     "text": [
      "C:\\Users\\natha\\AppData\\Local\\Temp\\ipykernel_27136\\165211501.py:2: SettingWithCopyWarning: \n",
      "A value is trying to be set on a copy of a slice from a DataFrame.\n",
      "Try using .loc[row_indexer,col_indexer] = value instead\n",
      "\n",
      "See the caveats in the documentation: https://pandas.pydata.org/pandas-docs/stable/user_guide/indexing.html#returning-a-view-versus-a-copy\n",
      "  df_items_price['categories_single'] = df_items_price['categories'].apply(lambda x : (x or [None])[-1])\n"
     ]
    },
    {
     "data": {
      "text/plain": [
       "Restaurants                                 157\n",
       "Specialty Cards                              63\n",
       "Clothing, Shoes & Accessories                44\n",
       "Books, Movies & Music                        19\n",
       "For Him                                       7\n",
       "Electronics & Office                          7\n",
       "Grocery, Gourmet & Floral                     7\n",
       "Travel & Leisure                              7\n",
       "Video Games & Online Games                    6\n",
       "Gift Cards                                    5\n",
       "Health & Beauty                               3\n",
       "Home Improvement                              3\n",
       "Automotive & Industrial                       3\n",
       "Amazon Incentives Brand Guidelines            3\n",
       "Christmas                                     3\n",
       "Birthday                                      2\n",
       "Home & Decor                                  2\n",
       "Gift Cards for New Baby                       2\n",
       "Toys, Kids & Baby                             2\n",
       "Gift Cards: Amazon Shipping                   2\n",
       "Sports, Outdoors & Fitness                    2\n",
       "Baby & Expecting                              2\n",
       "Mother's Day                                  2\n",
       "Spa & Salon                                   1\n",
       "Chanukah                                      1\n",
       "Gift Cards: Non-Amazon Branded                1\n",
       "For Her                                       1\n",
       "Pet Supplies                                  1\n",
       "Gift Card Holders                             1\n",
       "Wedding & Engagement                          1\n",
       "Holiday Gift Cards                            1\n",
       "Amazon Incentives Prime Brand Guidelines      1\n",
       "Name: categories_single, dtype: int64"
      ]
     },
     "execution_count": 9,
     "metadata": {},
     "output_type": "execute_result"
    }
   ],
   "source": [
    "## Isoler les catégories importantes\n",
    "df_items_price['categories_single'] = df_items_price['categories'].apply(lambda x : (x or [None])[-1])\n",
    "\n",
    "## Aperçu des options\n",
    "df_items_price['categories_single'].value_counts()\n",
    "\n",
    "## À grouper\n",
    "#\n"
   ]
  },
  {
   "cell_type": "code",
   "execution_count": 10,
   "metadata": {},
   "outputs": [
    {
     "name": "stderr",
     "output_type": "stream",
     "text": [
      "C:\\Users\\natha\\AppData\\Local\\Temp\\ipykernel_27136\\2422519520.py:2: SettingWithCopyWarning: \n",
      "A value is trying to be set on a copy of a slice from a DataFrame.\n",
      "Try using .loc[row_indexer,col_indexer] = value instead\n",
      "\n",
      "See the caveats in the documentation: https://pandas.pydata.org/pandas-docs/stable/user_guide/indexing.html#returning-a-view-versus-a-copy\n",
      "  df_items_price['categories_grp'] = np.where(\n"
     ]
    },
    {
     "data": {
      "text/plain": [
       "Restaurants        157\n",
       "Other               65\n",
       "Specialty Cards     63\n",
       "Clothing            51\n",
       "Office-Gaming       32\n",
       "Name: categories_grp, dtype: int64"
      ]
     },
     "execution_count": 10,
     "metadata": {},
     "output_type": "execute_result"
    }
   ],
   "source": [
    "## Grouper les catégories\n",
    "df_items_price['categories_grp'] = np.where(\n",
    "        df_items_price['categories_single'] == \"Restaurants\", \"Restaurants\",\n",
    "        np.where(\n",
    "            df_items_price['categories_single'] == \"Specialty Cards\", \"Specialty Cards\",\n",
    "        np.where(\n",
    "            np.isin(df_items_price['categories_single'], [\"Clothing, Shoes & Accessories\", \"For Him\"]), \"Clothing\",\n",
    "        np.where(\n",
    "            np.isin(df_items_price['categories_single'], [\"Books, Movies & Music\", \"Electronics & Office\", \"Video Games & Online Games\"]), \"Office-Gaming\",\n",
    "            \"Other\"\n",
    "        ))))\n",
    "\n",
    "df_items_price['categories_grp'].value_counts()"
   ]
  },
  {
   "cell_type": "code",
   "execution_count": 11,
   "metadata": {},
   "outputs": [],
   "source": [
    "### Potentiel pour XGBoost\n",
    "## Reviews\n",
    "# Création variable presence_image (as_image)\n",
    "# verified_purchase\n",
    "# helpful_vote (as_helpful_votes)\n",
    "\n",
    "## Items\n",
    "# Sure : main_category, average_rating, rating_number, price\n",
    "# catgories_grp\n",
    "# Potentiel : \n",
    "#   XTitle? De quoi à faire avec ça?\n",
    "#   *store name? dequoi à faire avec ça?\n",
    "#   **categories (potentiellement qqch à faire avec ça!) (extraire du dictionnaire!)\n",
    "# rating_number (number of ratings for average)\n"
   ]
  },
  {
   "cell_type": "markdown",
   "metadata": {},
   "source": [
    "#### Merge Items to Reviews"
   ]
  },
  {
   "cell_type": "code",
   "execution_count": 12,
   "metadata": {},
   "outputs": [],
   "source": [
    "# Keep only necessary variables before mergeing\n",
    "df_reviews_f = df_reviews[['rating', 'full_text', 'as_image', 'parent_asin', 'as_helpful_vote', 'helpful_vote', 'verified_purchase']]\n",
    "df_items_f = df_items_price[['main_category', 'average_rating', 'rating_number', 'price', 'parent_asin', 'categories_grp']]\n",
    "\n",
    "# Merge Items on Reviews\n",
    "df_full = df_reviews_f.merge(df_items_f, on='parent_asin', how='left')\n",
    "\n",
    "# Filter Price\n",
    "df_full_price = df_full[df_full['price'] != 'None']\n",
    "\n",
    "# Keep only necessary variables\n",
    "df_final = df_full_price[['parent_asin', # both\n",
    "               'rating', 'full_text', 'as_image', 'helpful_vote', 'as_helpful_vote', 'verified_purchase', # reviews\n",
    "               'main_category', 'average_rating', 'rating_number', 'price', 'categories_grp']] # items\n",
    "\n",
    "# Filter main_categoy and price\n",
    "df_final = df_final.dropna()"
   ]
  },
  {
   "cell_type": "code",
   "execution_count": 13,
   "metadata": {},
   "outputs": [
    {
     "data": {
      "text/html": [
       "<div>\n",
       "<style scoped>\n",
       "    .dataframe tbody tr th:only-of-type {\n",
       "        vertical-align: middle;\n",
       "    }\n",
       "\n",
       "    .dataframe tbody tr th {\n",
       "        vertical-align: top;\n",
       "    }\n",
       "\n",
       "    .dataframe thead th {\n",
       "        text-align: right;\n",
       "    }\n",
       "</style>\n",
       "<table border=\"1\" class=\"dataframe\">\n",
       "  <thead>\n",
       "    <tr style=\"text-align: right;\">\n",
       "      <th></th>\n",
       "      <th>parent_asin</th>\n",
       "      <th>rating</th>\n",
       "      <th>full_text</th>\n",
       "      <th>as_image</th>\n",
       "      <th>helpful_vote</th>\n",
       "      <th>as_helpful_vote</th>\n",
       "      <th>verified_purchase</th>\n",
       "      <th>main_category</th>\n",
       "      <th>average_rating</th>\n",
       "      <th>rating_number</th>\n",
       "      <th>price</th>\n",
       "      <th>categories_grp</th>\n",
       "    </tr>\n",
       "  </thead>\n",
       "  <tbody>\n",
       "    <tr>\n",
       "      <th>2</th>\n",
       "      <td>B005S28ZES</td>\n",
       "      <td>5.0</td>\n",
       "      <td>Title : perfect gift\\n Review : When you have ...</td>\n",
       "      <td>0</td>\n",
       "      <td>27</td>\n",
       "      <td>1</td>\n",
       "      <td>True</td>\n",
       "      <td>Gift Cards</td>\n",
       "      <td>4.9</td>\n",
       "      <td>4918.0</td>\n",
       "      <td>25.0</td>\n",
       "      <td>Clothing</td>\n",
       "    </tr>\n",
       "    <tr>\n",
       "      <th>3</th>\n",
       "      <td>B00ADR2LV6</td>\n",
       "      <td>5.0</td>\n",
       "      <td>Title : Nice looking\\n Review : The tin is a n...</td>\n",
       "      <td>0</td>\n",
       "      <td>0</td>\n",
       "      <td>0</td>\n",
       "      <td>False</td>\n",
       "      <td>Gift Cards</td>\n",
       "      <td>4.9</td>\n",
       "      <td>185606.0</td>\n",
       "      <td>25.0</td>\n",
       "      <td>Other</td>\n",
       "    </tr>\n",
       "    <tr>\n",
       "      <th>4</th>\n",
       "      <td>B00FTGTIOE</td>\n",
       "      <td>1.0</td>\n",
       "      <td>Title : Not $10 Gift Cards\\n Review : I bought...</td>\n",
       "      <td>0</td>\n",
       "      <td>2</td>\n",
       "      <td>1</td>\n",
       "      <td>True</td>\n",
       "      <td>Gift Cards</td>\n",
       "      <td>4.9</td>\n",
       "      <td>13066.0</td>\n",
       "      <td>40.0</td>\n",
       "      <td>Other</td>\n",
       "    </tr>\n",
       "    <tr>\n",
       "      <th>5</th>\n",
       "      <td>B00ADR2LV6</td>\n",
       "      <td>5.0</td>\n",
       "      <td>Title : Cute!\\n Review : That snowman tin is a...</td>\n",
       "      <td>0</td>\n",
       "      <td>0</td>\n",
       "      <td>0</td>\n",
       "      <td>True</td>\n",
       "      <td>Gift Cards</td>\n",
       "      <td>4.9</td>\n",
       "      <td>185606.0</td>\n",
       "      <td>25.0</td>\n",
       "      <td>Other</td>\n",
       "    </tr>\n",
       "    <tr>\n",
       "      <th>7</th>\n",
       "      <td>B00ADR2LV6</td>\n",
       "      <td>5.0</td>\n",
       "      <td>Title : Great gift\\n Review : Super cute nice ...</td>\n",
       "      <td>0</td>\n",
       "      <td>0</td>\n",
       "      <td>0</td>\n",
       "      <td>True</td>\n",
       "      <td>Gift Cards</td>\n",
       "      <td>4.9</td>\n",
       "      <td>185606.0</td>\n",
       "      <td>25.0</td>\n",
       "      <td>Other</td>\n",
       "    </tr>\n",
       "    <tr>\n",
       "      <th>...</th>\n",
       "      <td>...</td>\n",
       "      <td>...</td>\n",
       "      <td>...</td>\n",
       "      <td>...</td>\n",
       "      <td>...</td>\n",
       "      <td>...</td>\n",
       "      <td>...</td>\n",
       "      <td>...</td>\n",
       "      <td>...</td>\n",
       "      <td>...</td>\n",
       "      <td>...</td>\n",
       "      <td>...</td>\n",
       "    </tr>\n",
       "    <tr>\n",
       "      <th>152394</th>\n",
       "      <td>B00ADR2LV6</td>\n",
       "      <td>4.0</td>\n",
       "      <td>Title : Super cute\\n Review : Super cute</td>\n",
       "      <td>0</td>\n",
       "      <td>0</td>\n",
       "      <td>0</td>\n",
       "      <td>True</td>\n",
       "      <td>Gift Cards</td>\n",
       "      <td>4.9</td>\n",
       "      <td>185606.0</td>\n",
       "      <td>25.0</td>\n",
       "      <td>Other</td>\n",
       "    </tr>\n",
       "    <tr>\n",
       "      <th>152398</th>\n",
       "      <td>B077N4CNVJ</td>\n",
       "      <td>5.0</td>\n",
       "      <td>Title : Winner winner!\\n Review : Boxes was a ...</td>\n",
       "      <td>0</td>\n",
       "      <td>1</td>\n",
       "      <td>1</td>\n",
       "      <td>True</td>\n",
       "      <td>Gift Cards</td>\n",
       "      <td>4.9</td>\n",
       "      <td>104005.0</td>\n",
       "      <td>25.0</td>\n",
       "      <td>Other</td>\n",
       "    </tr>\n",
       "    <tr>\n",
       "      <th>152400</th>\n",
       "      <td>B077N4CNVJ</td>\n",
       "      <td>5.0</td>\n",
       "      <td>Title : Perfect gift\\n Review : Perfect gift</td>\n",
       "      <td>0</td>\n",
       "      <td>0</td>\n",
       "      <td>0</td>\n",
       "      <td>True</td>\n",
       "      <td>Gift Cards</td>\n",
       "      <td>4.9</td>\n",
       "      <td>104005.0</td>\n",
       "      <td>25.0</td>\n",
       "      <td>Other</td>\n",
       "    </tr>\n",
       "    <tr>\n",
       "      <th>152404</th>\n",
       "      <td>B00FTGEQCI</td>\n",
       "      <td>5.0</td>\n",
       "      <td>Title : Five Stars\\n Review : Who doesn't love...</td>\n",
       "      <td>0</td>\n",
       "      <td>1</td>\n",
       "      <td>1</td>\n",
       "      <td>True</td>\n",
       "      <td>Gift Cards</td>\n",
       "      <td>4.9</td>\n",
       "      <td>1013.0</td>\n",
       "      <td>30.0</td>\n",
       "      <td>Restaurants</td>\n",
       "    </tr>\n",
       "    <tr>\n",
       "      <th>152405</th>\n",
       "      <td>B075MZKGRL</td>\n",
       "      <td>5.0</td>\n",
       "      <td>Title : I gave it to my sister and she immedia...</td>\n",
       "      <td>0</td>\n",
       "      <td>0</td>\n",
       "      <td>0</td>\n",
       "      <td>True</td>\n",
       "      <td>Gift Cards</td>\n",
       "      <td>4.9</td>\n",
       "      <td>8929.0</td>\n",
       "      <td>50.0</td>\n",
       "      <td>Other</td>\n",
       "    </tr>\n",
       "  </tbody>\n",
       "</table>\n",
       "<p>78658 rows × 12 columns</p>\n",
       "</div>"
      ],
      "text/plain": [
       "       parent_asin  rating                                          full_text  \\\n",
       "2       B005S28ZES     5.0  Title : perfect gift\\n Review : When you have ...   \n",
       "3       B00ADR2LV6     5.0  Title : Nice looking\\n Review : The tin is a n...   \n",
       "4       B00FTGTIOE     1.0  Title : Not $10 Gift Cards\\n Review : I bought...   \n",
       "5       B00ADR2LV6     5.0  Title : Cute!\\n Review : That snowman tin is a...   \n",
       "7       B00ADR2LV6     5.0  Title : Great gift\\n Review : Super cute nice ...   \n",
       "...            ...     ...                                                ...   \n",
       "152394  B00ADR2LV6     4.0           Title : Super cute\\n Review : Super cute   \n",
       "152398  B077N4CNVJ     5.0  Title : Winner winner!\\n Review : Boxes was a ...   \n",
       "152400  B077N4CNVJ     5.0       Title : Perfect gift\\n Review : Perfect gift   \n",
       "152404  B00FTGEQCI     5.0  Title : Five Stars\\n Review : Who doesn't love...   \n",
       "152405  B075MZKGRL     5.0  Title : I gave it to my sister and she immedia...   \n",
       "\n",
       "        as_image  helpful_vote  as_helpful_vote  verified_purchase  \\\n",
       "2              0            27                1               True   \n",
       "3              0             0                0              False   \n",
       "4              0             2                1               True   \n",
       "5              0             0                0               True   \n",
       "7              0             0                0               True   \n",
       "...          ...           ...              ...                ...   \n",
       "152394         0             0                0               True   \n",
       "152398         0             1                1               True   \n",
       "152400         0             0                0               True   \n",
       "152404         0             1                1               True   \n",
       "152405         0             0                0               True   \n",
       "\n",
       "       main_category  average_rating  rating_number price categories_grp  \n",
       "2         Gift Cards             4.9         4918.0  25.0       Clothing  \n",
       "3         Gift Cards             4.9       185606.0  25.0          Other  \n",
       "4         Gift Cards             4.9        13066.0  40.0          Other  \n",
       "5         Gift Cards             4.9       185606.0  25.0          Other  \n",
       "7         Gift Cards             4.9       185606.0  25.0          Other  \n",
       "...              ...             ...            ...   ...            ...  \n",
       "152394    Gift Cards             4.9       185606.0  25.0          Other  \n",
       "152398    Gift Cards             4.9       104005.0  25.0          Other  \n",
       "152400    Gift Cards             4.9       104005.0  25.0          Other  \n",
       "152404    Gift Cards             4.9         1013.0  30.0    Restaurants  \n",
       "152405    Gift Cards             4.9         8929.0  50.0          Other  \n",
       "\n",
       "[78658 rows x 12 columns]"
      ]
     },
     "execution_count": 13,
     "metadata": {},
     "output_type": "execute_result"
    }
   ],
   "source": [
    "df_final"
   ]
  },
  {
   "cell_type": "code",
   "execution_count": 14,
   "metadata": {},
   "outputs": [],
   "source": [
    "#df_final.iloc[1]['full_text']"
   ]
  },
  {
   "cell_type": "markdown",
   "metadata": {},
   "source": [
    "### Save\n"
   ]
  },
  {
   "cell_type": "code",
   "execution_count": 15,
   "metadata": {},
   "outputs": [],
   "source": [
    "## Save data\n",
    "df_final.to_csv('./../data/gift_cards.csv')"
   ]
  }
 ],
 "metadata": {
  "kernelspec": {
   "display_name": "Python 3",
   "language": "python",
   "name": "python3"
  },
  "language_info": {
   "codemirror_mode": {
    "name": "ipython",
    "version": 3
   },
   "file_extension": ".py",
   "mimetype": "text/x-python",
   "name": "python",
   "nbconvert_exporter": "python",
   "pygments_lexer": "ipython3",
   "version": "3.10.11"
  }
 },
 "nbformat": 4,
 "nbformat_minor": 2
}
