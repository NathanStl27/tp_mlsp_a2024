{
 "cells": [
  {
   "cell_type": "markdown",
   "metadata": {},
   "source": [
    "## Code pour prendre des revues de différents produits\n",
    "* Importer les données\n",
    "    * Appliances\n",
    "    * Automotive\n",
    "    * CDs_and_Vinyl\n",
    "    * Digital_Music\n",
    "    * Gift_Cards\n",
    "    * Handmade_Products\n",
    "    * Musical_Instruments\n",
    "    * Video_Games\n",
    "* Filtrer celles que je souhaite conserver (quantité, équilibre des notes, présence d'informations pour xgboost [ex : prix, ...])\n",
    "    * Ne pas oublier le set.seed\n",
    "* Enregistrer les données"
   ]
  },
  {
   "cell_type": "markdown",
   "metadata": {},
   "source": [
    "## Pipeline de données\n"
   ]
  },
  {
   "cell_type": "code",
   "execution_count": 1,
   "metadata": {},
   "outputs": [],
   "source": [
    "### Packages de base\n",
    "import numpy as np\n",
    "import pandas as pd\n",
    "from datasets import load_dataset"
   ]
  },
  {
   "cell_type": "markdown",
   "metadata": {},
   "source": [
    "### CDs and Vinyl\n",
    "#### Importation"
   ]
  },
  {
   "cell_type": "code",
   "execution_count": 2,
   "metadata": {},
   "outputs": [
    {
     "data": {
      "application/vnd.jupyter.widget-view+json": {
       "model_id": "23786bc69e5a40d8bb9f01dfce9ff717",
       "version_major": 2,
       "version_minor": 0
      },
      "text/plain": [
       "CDs_and_Vinyl.jsonl:   0%|          | 0.00/3.29G [00:00<?, ?B/s]"
      ]
     },
     "metadata": {},
     "output_type": "display_data"
    },
    {
     "name": "stderr",
     "output_type": "stream",
     "text": [
      "C:\\Users\\natha\\AppData\\Local\\Packages\\PythonSoftwareFoundation.Python.3.10_qbz5n2kfra8p0\\LocalCache\\local-packages\\Python310\\site-packages\\huggingface_hub\\file_download.py:139: UserWarning: `huggingface_hub` cache-system uses symlinks by default to efficiently store duplicated files but your machine does not support them in C:\\Users\\natha\\.cache\\huggingface\\hub\\datasets--McAuley-Lab--Amazon-Reviews-2023. Caching files will still work but in a degraded version that might require more space on your disk. This warning can be disabled by setting the `HF_HUB_DISABLE_SYMLINKS_WARNING` environment variable. For more details, see https://huggingface.co/docs/huggingface_hub/how-to-cache#limitations.\n",
      "To support symlinks on Windows, you either need to activate Developer Mode or to run Python as an administrator. In order to activate developer mode, see this article: https://docs.microsoft.com/en-us/windows/apps/get-started/enable-your-device-for-development\n",
      "  warnings.warn(message)\n"
     ]
    },
    {
     "data": {
      "application/vnd.jupyter.widget-view+json": {
       "model_id": "cb8288e19efd46188c5f503661b87b0b",
       "version_major": 2,
       "version_minor": 0
      },
      "text/plain": [
       "Generating full split: 0 examples [00:00, ? examples/s]"
      ]
     },
     "metadata": {},
     "output_type": "display_data"
    },
    {
     "data": {
      "application/vnd.jupyter.widget-view+json": {
       "model_id": "89dcd38ba2184b098a603cee06aec258",
       "version_major": 2,
       "version_minor": 0
      },
      "text/plain": [
       "meta_CDs_and_Vinyl.jsonl:   0%|          | 0.00/949M [00:00<?, ?B/s]"
      ]
     },
     "metadata": {},
     "output_type": "display_data"
    },
    {
     "data": {
      "application/vnd.jupyter.widget-view+json": {
       "model_id": "01ef6f09548c4e169eb49dba1473aaef",
       "version_major": 2,
       "version_minor": 0
      },
      "text/plain": [
       "Generating full split: 0 examples [00:00, ? examples/s]"
      ]
     },
     "metadata": {},
     "output_type": "display_data"
    }
   ],
   "source": [
    "## Load User Reviews\n",
    "dataset_reviews = load_dataset(\"McAuley-Lab/Amazon-Reviews-2023\", \"raw_review_CDs_and_Vinyl\", split=\"full\", trust_remote_code=True)\n",
    "\n",
    "## Load Item Metadata - Test avec All_Beauty\n",
    "dataset_items = load_dataset(\"McAuley-Lab/Amazon-Reviews-2023\", \"raw_meta_CDs_and_Vinyl\", split=\"full\", trust_remote_code=True)\n"
   ]
  },
  {
   "cell_type": "markdown",
   "metadata": {},
   "source": [
    "#### Reviews"
   ]
  },
  {
   "cell_type": "code",
   "execution_count": 3,
   "metadata": {},
   "outputs": [],
   "source": [
    "## Convert to df (plus à l'aise pour certaines manip et EDA)\n",
    "df_reviews = pd.DataFrame(dataset_reviews)"
   ]
  },
  {
   "cell_type": "code",
   "execution_count": 11,
   "metadata": {},
   "outputs": [
    {
     "name": "stdout",
     "output_type": "stream",
     "text": [
      "rating               4827273\n",
      "title                4827273\n",
      "text                 4827273\n",
      "images               4827273\n",
      "asin                 4827273\n",
      "parent_asin          4827273\n",
      "user_id              4827273\n",
      "timestamp            4827273\n",
      "helpful_vote         4827273\n",
      "verified_purchase    4827273\n",
      "full_text            4827273\n",
      "as_image             4827273\n",
      "as_helpful_vote      4827273\n",
      "dtype: int64\n"
     ]
    }
   ],
   "source": [
    "print(df_reviews.count())"
   ]
  },
  {
   "cell_type": "code",
   "execution_count": 5,
   "metadata": {},
   "outputs": [],
   "source": [
    "### Data manipulation\n",
    "## Concat title and text\n",
    "df_reviews['full_text'] = \"Title : \" + df_reviews['title'].astype(str) + \"\\n Review : \" + df_reviews['text'].astype(str)\n",
    "\n",
    "## Create variable as_image\n",
    "df_reviews['as_image'] = np.where(df_reviews['images'].str.len() == 0, 0, 1)\n",
    "\n",
    "## Create variable as_helpful_vote\n",
    "df_reviews['as_helpful_vote'] = np.where(df_reviews['helpful_vote'] == 0, 0, 1)"
   ]
  },
  {
   "cell_type": "markdown",
   "metadata": {},
   "source": [
    "#### Items"
   ]
  },
  {
   "cell_type": "code",
   "execution_count": 4,
   "metadata": {},
   "outputs": [],
   "source": [
    "## Convert to pandas df\n",
    "df_items = pd.DataFrame(dataset_items)"
   ]
  },
  {
   "cell_type": "code",
   "execution_count": 7,
   "metadata": {},
   "outputs": [
    {
     "name": "stdout",
     "output_type": "stream",
     "text": [
      "Digital Music                690764\n",
      "Movies & TV                    9049\n",
      "Books                           770\n",
      "Tools & Home Improvement         88\n",
      "Amazon Home                      78\n",
      "Cell Phones & Accessories        51\n",
      "Musical Instruments              42\n",
      "All Electronics                  42\n",
      "Health & Personal Care           39\n",
      "Toys & Games                     35\n",
      "Video Games                      25\n",
      "Sports & Outdoors                21\n",
      "Software                         21\n",
      "Office Products                  20\n",
      "All Beauty                       15\n",
      "Industrial & Scientific          13\n",
      "Home Audio & Theater             11\n",
      "Grocery                          10\n",
      "Arts, Crafts & Sewing            10\n",
      "Baby                              4\n",
      "Computers                         4\n",
      "Audible Audiobooks                4\n",
      "Pet Supplies                      4\n",
      "AMAZON FASHION                    3\n",
      "Camera & Photo                    2\n",
      "Collectible Coins                 2\n",
      "Appliances                        1\n",
      "Entertainment                     1\n",
      "Automotive                        1\n",
      "Name: main_category, dtype: int64\n",
      "Digital Music    690764\n",
      "Name: main_category, dtype: int64\n"
     ]
    }
   ],
   "source": [
    "## Main category (filtrer pour conserver seulement \"Appliances\")\n",
    "print(df_items['main_category'].value_counts())\n",
    "df_items_cat = df_items[df_items['main_category'] == \"Digital Music\"]\n",
    "print(df_items_cat['main_category'].value_counts())"
   ]
  },
  {
   "cell_type": "code",
   "execution_count": 8,
   "metadata": {},
   "outputs": [
    {
     "name": "stdout",
     "output_type": "stream",
     "text": [
      "690764\n",
      "546175\n"
     ]
    },
    {
     "data": {
      "text/plain": [
       "count    546175.000000\n",
       "mean         29.287919\n",
       "std          49.383735\n",
       "min           0.010000\n",
       "25%          10.730000\n",
       "50%          16.980000\n",
       "75%          29.980000\n",
       "max        2949.450000\n",
       "Name: price, dtype: float64"
      ]
     },
     "execution_count": 8,
     "metadata": {},
     "output_type": "execute_result"
    }
   ],
   "source": [
    "## Filtrer pour conserver seulement les produits avec un prix\n",
    "print(df_items_cat['price'].count())\n",
    "print(df_items_cat[df_items_cat['price'] != 'None']['price'].count())\n",
    "df_items_price = df_items_cat[df_items_cat['price'] != 'None']\n",
    "df_items_price['price'].astype(float).describe()"
   ]
  },
  {
   "cell_type": "code",
   "execution_count": 9,
   "metadata": {},
   "outputs": [
    {
     "name": "stdout",
     "output_type": "stream",
     "text": [
      "[CDs & Vinyl, Pop]                                                             43741\n",
      "[CDs & Vinyl, Jazz]                                                            14899\n",
      "[CDs & Vinyl, Rock]                                                            13484\n",
      "[CDs & Vinyl, Classical, Chamber Music]                                        11956\n",
      "[CDs & Vinyl, Classical]                                                       11268\n",
      "                                                                               ...  \n",
      "[CDs & Vinyl, Customized Children's Music, All]                                    1\n",
      "[CDs & Vinyl, Today's Deals in Music, Opera & Vocal, Opera & Vocal General]        1\n",
      "[CDs & Vinyl, Hannibal Records]                                                    1\n",
      "[CDs & Vinyl, Today's Deals in Music, R&B, R&B General]                            1\n",
      "[CDs & Vinyl, Today's Deals in Music, Miscellaneous, Instructional]                1\n",
      "Name: categories, Length: 835, dtype: int64\n"
     ]
    }
   ],
   "source": [
    "## Aperçu des catégories\n",
    "print(df_items_price['categories'].value_counts())\n"
   ]
  },
  {
   "cell_type": "code",
   "execution_count": 10,
   "metadata": {},
   "outputs": [
    {
     "name": "stdout",
     "output_type": "stream",
     "text": [
      "Pop                                                            83921\n",
      "Classical                                                      56828\n",
      "International Music                                            44337\n",
      "Jazz                                                           41587\n",
      "Indie & Alternative                                            39240\n",
      "                                                               ...  \n",
      "Music Coupons                                                      1\n",
      "Hannibal Records                                                   1\n",
      "Amazon Exclusives in CDs & Vinyl                                   1\n",
      "TurboTax Refund Bonus Exclusive: $20 off Select CD Box Sets        1\n",
      "2014 Best of the Year So Far- CDs & Vinyl                          1\n",
      "Name: categories_single, Length: 72, dtype: int64\n"
     ]
    },
    {
     "name": "stderr",
     "output_type": "stream",
     "text": [
      "C:\\Users\\natha\\AppData\\Local\\Temp\\ipykernel_20948\\3939727900.py:3: SettingWithCopyWarning: \n",
      "A value is trying to be set on a copy of a slice from a DataFrame.\n",
      "Try using .loc[row_indexer,col_indexer] = value instead\n",
      "\n",
      "See the caveats in the documentation: https://pandas.pydata.org/pandas-docs/stable/user_guide/indexing.html#returning-a-view-versus-a-copy\n",
      "  df_items_price['categories_single'] = df_items_price['categories'].apply(lambda x : (x or [None, None])[1])\n"
     ]
    }
   ],
   "source": [
    "## Isoler les catégories importantes\n",
    "#df_items_price['categories_single'] = df_items_price['categories'].apply(lambda x : (x or [None])[-1])\n",
    "df_items_price['categories_single'] = df_items_price['categories'].apply(lambda x : (x or [None, None])[1])\n",
    "\n",
    "## Aperçu des options\n",
    "print(df_items_price['categories_single'].value_counts())\n",
    "\n",
    "## À grouper\n",
    "# Parts & Accessories\n",
    "# Other\n"
   ]
  },
  {
   "cell_type": "code",
   "execution_count": 20,
   "metadata": {},
   "outputs": [
    {
     "data": {
      "text/plain": [
       "Pop                       83921\n",
       "Classical                 56828\n",
       "International Music       44337\n",
       "Jazz                      41587\n",
       "Indie & Alternative       39240\n",
       "Rock                      38388\n",
       "Today's Deals in Music    26980\n",
       "Country                   20173\n",
       "Dance & Electronic        20060\n",
       "Christian & Gospel        15946\n",
       "Metal                     14863\n",
       "Blues                     13843\n",
       "Classic Rock              12901\n",
       "R&B                       12756\n",
       "Folk                      10796\n",
       "Vinyl Store               10627\n",
       "Name: categories_single, dtype: int64"
      ]
     },
     "execution_count": 20,
     "metadata": {},
     "output_type": "execute_result"
    }
   ],
   "source": [
    "#value_counts = df_items_price['categories_single'].value_counts()\n",
    "#values_to_keep = value_counts[value_counts > 10000].index\n",
    "df_items_price['categories_single'][df_items_price['categories_single'].isin(values_to_keep)].value_counts()"
   ]
  },
  {
   "cell_type": "code",
   "execution_count": 21,
   "metadata": {},
   "outputs": [
    {
     "name": "stderr",
     "output_type": "stream",
     "text": [
      "C:\\Users\\natha\\AppData\\Local\\Temp\\ipykernel_20948\\1758998326.py:2: SettingWithCopyWarning: \n",
      "A value is trying to be set on a copy of a slice from a DataFrame.\n",
      "Try using .loc[row_indexer,col_indexer] = value instead\n",
      "\n",
      "See the caveats in the documentation: https://pandas.pydata.org/pandas-docs/stable/user_guide/indexing.html#returning-a-view-versus-a-copy\n",
      "  df_items_price['categories_grp'] = np.where(\n"
     ]
    },
    {
     "data": {
      "text/plain": [
       "Other        193575\n",
       "Classical    112258\n",
       "Pop          103981\n",
       "Country       70209\n",
       "Rock          66152\n",
       "Name: categories_grp, dtype: int64"
      ]
     },
     "execution_count": 21,
     "metadata": {},
     "output_type": "execute_result"
    }
   ],
   "source": [
    "## Grouper les catégories\n",
    "df_items_price['categories_grp'] = np.where(\n",
    "    np.isin(df_items_price['categories_single'], [\"Pop\", \"Dance & Electronic\"]), \"Pop\", \n",
    "    np.where(\n",
    "        np.isin(df_items_price['categories_single'], [\"Classical\", \"Jazz\", \"Blues\"]), \"Classical\",\n",
    "        np.where(\n",
    "            np.isin(df_items_price['categories_single'], [\"Rock\", \"Metal\", \"Classic Rock\"]), \"Rock\",\n",
    "        np.where(\n",
    "            np.isin(df_items_price['categories_single'], [\"Country\", \"Folk\", \"Indie & Alternative\"]), \"Country\", \"Other\"\n",
    "        ))))\n",
    "\n",
    "df_items_price['categories_grp'].value_counts()"
   ]
  },
  {
   "cell_type": "code",
   "execution_count": 11,
   "metadata": {},
   "outputs": [],
   "source": [
    "### Potentiel pour XGBoost\n",
    "## Reviews\n",
    "# Création variable presence_image (as_image)\n",
    "# verified_purchase\n",
    "# helpful_vote (as_helpful_votes)\n",
    "\n",
    "## Items\n",
    "# Sure : main_category, average_rating, rating_number, price\n",
    "# catgories_grp\n",
    "# Potentiel : \n",
    "#   XTitle? De quoi à faire avec ça?\n",
    "#   *store name? dequoi à faire avec ça?\n",
    "#   **categories (potentiellement qqch à faire avec ça!) (extraire du dictionnaire!)\n",
    "# rating_number (number of ratings for average)\n"
   ]
  },
  {
   "cell_type": "markdown",
   "metadata": {},
   "source": [
    "#### Merge Items to Reviews"
   ]
  },
  {
   "cell_type": "code",
   "execution_count": 22,
   "metadata": {},
   "outputs": [],
   "source": [
    "# Keep only necessary variables before mergeing\n",
    "df_reviews_f = df_reviews[['rating', 'full_text', 'as_image', 'parent_asin', 'as_helpful_vote', 'helpful_vote', 'verified_purchase']]\n",
    "df_items_f = df_items_price[['main_category', 'average_rating', 'rating_number', 'price', 'parent_asin', 'categories_grp']]\n",
    "\n",
    "# Merge Items on Reviews\n",
    "df_full = df_reviews_f.merge(df_items_f, on='parent_asin', how='left')\n",
    "\n",
    "# Filter Price\n",
    "df_full_price = df_full[df_full['price'] != 'None']\n",
    "\n",
    "# Keep only necessary variables\n",
    "df_final = df_full_price[['parent_asin', # both\n",
    "               'rating', 'full_text', 'as_image', 'helpful_vote', 'as_helpful_vote', 'verified_purchase', # reviews\n",
    "               'main_category', 'average_rating', 'rating_number', 'price', 'categories_grp']] # items\n",
    "\n",
    "# Filter main_categoy and price\n",
    "df_final = df_final.dropna()"
   ]
  },
  {
   "cell_type": "code",
   "execution_count": 23,
   "metadata": {},
   "outputs": [
    {
     "data": {
      "text/html": [
       "<div>\n",
       "<style scoped>\n",
       "    .dataframe tbody tr th:only-of-type {\n",
       "        vertical-align: middle;\n",
       "    }\n",
       "\n",
       "    .dataframe tbody tr th {\n",
       "        vertical-align: top;\n",
       "    }\n",
       "\n",
       "    .dataframe thead th {\n",
       "        text-align: right;\n",
       "    }\n",
       "</style>\n",
       "<table border=\"1\" class=\"dataframe\">\n",
       "  <thead>\n",
       "    <tr style=\"text-align: right;\">\n",
       "      <th></th>\n",
       "      <th>parent_asin</th>\n",
       "      <th>rating</th>\n",
       "      <th>full_text</th>\n",
       "      <th>as_image</th>\n",
       "      <th>helpful_vote</th>\n",
       "      <th>as_helpful_vote</th>\n",
       "      <th>verified_purchase</th>\n",
       "      <th>main_category</th>\n",
       "      <th>average_rating</th>\n",
       "      <th>rating_number</th>\n",
       "      <th>price</th>\n",
       "      <th>categories_grp</th>\n",
       "    </tr>\n",
       "  </thead>\n",
       "  <tbody>\n",
       "    <tr>\n",
       "      <th>0</th>\n",
       "      <td>B002MW50JA</td>\n",
       "      <td>5.0</td>\n",
       "      <td>Title : Five Stars\\n Review : LOVE IT!</td>\n",
       "      <td>0</td>\n",
       "      <td>0</td>\n",
       "      <td>0</td>\n",
       "      <td>True</td>\n",
       "      <td>Digital Music</td>\n",
       "      <td>4.6</td>\n",
       "      <td>186.0</td>\n",
       "      <td>19.61</td>\n",
       "      <td>Other</td>\n",
       "    </tr>\n",
       "    <tr>\n",
       "      <th>1</th>\n",
       "      <td>B008XNPN0S</td>\n",
       "      <td>5.0</td>\n",
       "      <td>Title : Five Stars\\n Review : LOVE!!</td>\n",
       "      <td>0</td>\n",
       "      <td>0</td>\n",
       "      <td>0</td>\n",
       "      <td>True</td>\n",
       "      <td>Digital Music</td>\n",
       "      <td>4.5</td>\n",
       "      <td>49.0</td>\n",
       "      <td>14.38</td>\n",
       "      <td>Other</td>\n",
       "    </tr>\n",
       "    <tr>\n",
       "      <th>2</th>\n",
       "      <td>B00IKM5N02</td>\n",
       "      <td>3.0</td>\n",
       "      <td>Title : Three Stars\\n Review : Sad there is no...</td>\n",
       "      <td>0</td>\n",
       "      <td>0</td>\n",
       "      <td>0</td>\n",
       "      <td>True</td>\n",
       "      <td>Digital Music</td>\n",
       "      <td>4.6</td>\n",
       "      <td>5324.0</td>\n",
       "      <td>7.76</td>\n",
       "      <td>Other</td>\n",
       "    </tr>\n",
       "    <tr>\n",
       "      <th>5</th>\n",
       "      <td>B07Z76Y18X</td>\n",
       "      <td>5.0</td>\n",
       "      <td>Title : Magnificent movie &amp; music score!\\n Rev...</td>\n",
       "      <td>0</td>\n",
       "      <td>5</td>\n",
       "      <td>1</td>\n",
       "      <td>True</td>\n",
       "      <td>Digital Music</td>\n",
       "      <td>4.4</td>\n",
       "      <td>276.0</td>\n",
       "      <td>14.98</td>\n",
       "      <td>Other</td>\n",
       "    </tr>\n",
       "    <tr>\n",
       "      <th>6</th>\n",
       "      <td>B00004NKAK</td>\n",
       "      <td>5.0</td>\n",
       "      <td>Title : Five Stars\\n Review : beautiful music!</td>\n",
       "      <td>0</td>\n",
       "      <td>0</td>\n",
       "      <td>0</td>\n",
       "      <td>True</td>\n",
       "      <td>Digital Music</td>\n",
       "      <td>4.6</td>\n",
       "      <td>80.0</td>\n",
       "      <td>5.99</td>\n",
       "      <td>Other</td>\n",
       "    </tr>\n",
       "    <tr>\n",
       "      <th>...</th>\n",
       "      <td>...</td>\n",
       "      <td>...</td>\n",
       "      <td>...</td>\n",
       "      <td>...</td>\n",
       "      <td>...</td>\n",
       "      <td>...</td>\n",
       "      <td>...</td>\n",
       "      <td>...</td>\n",
       "      <td>...</td>\n",
       "      <td>...</td>\n",
       "      <td>...</td>\n",
       "      <td>...</td>\n",
       "    </tr>\n",
       "    <tr>\n",
       "      <th>4827268</th>\n",
       "      <td>B000002VPH</td>\n",
       "      <td>5.0</td>\n",
       "      <td>Title : good cd\\n Review : I love this cd and ...</td>\n",
       "      <td>0</td>\n",
       "      <td>0</td>\n",
       "      <td>0</td>\n",
       "      <td>True</td>\n",
       "      <td>Digital Music</td>\n",
       "      <td>4.8</td>\n",
       "      <td>1046.0</td>\n",
       "      <td>7.25</td>\n",
       "      <td>Other</td>\n",
       "    </tr>\n",
       "    <tr>\n",
       "      <th>4827269</th>\n",
       "      <td>B000084T18</td>\n",
       "      <td>5.0</td>\n",
       "      <td>Title : hot cd\\n Review : I love the cd it pla...</td>\n",
       "      <td>0</td>\n",
       "      <td>0</td>\n",
       "      <td>0</td>\n",
       "      <td>True</td>\n",
       "      <td>Digital Music</td>\n",
       "      <td>4.6</td>\n",
       "      <td>2834.0</td>\n",
       "      <td>13.98</td>\n",
       "      <td>Other</td>\n",
       "    </tr>\n",
       "    <tr>\n",
       "      <th>4827270</th>\n",
       "      <td>B004OFWLO0</td>\n",
       "      <td>5.0</td>\n",
       "      <td>Title : Superb sounding remaster\\n Review : Su...</td>\n",
       "      <td>0</td>\n",
       "      <td>1</td>\n",
       "      <td>1</td>\n",
       "      <td>True</td>\n",
       "      <td>Digital Music</td>\n",
       "      <td>4.8</td>\n",
       "      <td>847.0</td>\n",
       "      <td>15.98</td>\n",
       "      <td>Rock</td>\n",
       "    </tr>\n",
       "    <tr>\n",
       "      <th>4827271</th>\n",
       "      <td>B000GIXIAK</td>\n",
       "      <td>1.0</td>\n",
       "      <td>Title : Very, very disappointing.\\n Review : W...</td>\n",
       "      <td>0</td>\n",
       "      <td>6</td>\n",
       "      <td>1</td>\n",
       "      <td>False</td>\n",
       "      <td>Digital Music</td>\n",
       "      <td>4.3</td>\n",
       "      <td>205.0</td>\n",
       "      <td>10.0</td>\n",
       "      <td>Pop</td>\n",
       "    </tr>\n",
       "    <tr>\n",
       "      <th>4827272</th>\n",
       "      <td>B0001ADALU</td>\n",
       "      <td>5.0</td>\n",
       "      <td>Title : Unexpectedly Good!\\n Review : I am VER...</td>\n",
       "      <td>0</td>\n",
       "      <td>6</td>\n",
       "      <td>1</td>\n",
       "      <td>False</td>\n",
       "      <td>Digital Music</td>\n",
       "      <td>4.5</td>\n",
       "      <td>216.0</td>\n",
       "      <td>12.79</td>\n",
       "      <td>Pop</td>\n",
       "    </tr>\n",
       "  </tbody>\n",
       "</table>\n",
       "<p>4210454 rows × 12 columns</p>\n",
       "</div>"
      ],
      "text/plain": [
       "        parent_asin  rating  \\\n",
       "0        B002MW50JA     5.0   \n",
       "1        B008XNPN0S     5.0   \n",
       "2        B00IKM5N02     3.0   \n",
       "5        B07Z76Y18X     5.0   \n",
       "6        B00004NKAK     5.0   \n",
       "...             ...     ...   \n",
       "4827268  B000002VPH     5.0   \n",
       "4827269  B000084T18     5.0   \n",
       "4827270  B004OFWLO0     5.0   \n",
       "4827271  B000GIXIAK     1.0   \n",
       "4827272  B0001ADALU     5.0   \n",
       "\n",
       "                                                 full_text  as_image  \\\n",
       "0                   Title : Five Stars\\n Review : LOVE IT!         0   \n",
       "1                     Title : Five Stars\\n Review : LOVE!!         0   \n",
       "2        Title : Three Stars\\n Review : Sad there is no...         0   \n",
       "5        Title : Magnificent movie & music score!\\n Rev...         0   \n",
       "6           Title : Five Stars\\n Review : beautiful music!         0   \n",
       "...                                                    ...       ...   \n",
       "4827268  Title : good cd\\n Review : I love this cd and ...         0   \n",
       "4827269  Title : hot cd\\n Review : I love the cd it pla...         0   \n",
       "4827270  Title : Superb sounding remaster\\n Review : Su...         0   \n",
       "4827271  Title : Very, very disappointing.\\n Review : W...         0   \n",
       "4827272  Title : Unexpectedly Good!\\n Review : I am VER...         0   \n",
       "\n",
       "         helpful_vote  as_helpful_vote  verified_purchase  main_category  \\\n",
       "0                   0                0               True  Digital Music   \n",
       "1                   0                0               True  Digital Music   \n",
       "2                   0                0               True  Digital Music   \n",
       "5                   5                1               True  Digital Music   \n",
       "6                   0                0               True  Digital Music   \n",
       "...               ...              ...                ...            ...   \n",
       "4827268             0                0               True  Digital Music   \n",
       "4827269             0                0               True  Digital Music   \n",
       "4827270             1                1               True  Digital Music   \n",
       "4827271             6                1              False  Digital Music   \n",
       "4827272             6                1              False  Digital Music   \n",
       "\n",
       "         average_rating  rating_number  price categories_grp  \n",
       "0                   4.6          186.0  19.61          Other  \n",
       "1                   4.5           49.0  14.38          Other  \n",
       "2                   4.6         5324.0   7.76          Other  \n",
       "5                   4.4          276.0  14.98          Other  \n",
       "6                   4.6           80.0   5.99          Other  \n",
       "...                 ...            ...    ...            ...  \n",
       "4827268             4.8         1046.0   7.25          Other  \n",
       "4827269             4.6         2834.0  13.98          Other  \n",
       "4827270             4.8          847.0  15.98           Rock  \n",
       "4827271             4.3          205.0   10.0            Pop  \n",
       "4827272             4.5          216.0  12.79            Pop  \n",
       "\n",
       "[4210454 rows x 12 columns]"
      ]
     },
     "execution_count": 23,
     "metadata": {},
     "output_type": "execute_result"
    }
   ],
   "source": [
    "df_final"
   ]
  },
  {
   "cell_type": "code",
   "execution_count": 14,
   "metadata": {},
   "outputs": [],
   "source": [
    "#df_final.iloc[1]['full_text']"
   ]
  },
  {
   "cell_type": "markdown",
   "metadata": {},
   "source": [
    "### Save\n"
   ]
  },
  {
   "cell_type": "code",
   "execution_count": 24,
   "metadata": {},
   "outputs": [],
   "source": [
    "## Save data\n",
    "df_final.to_csv('./../data/cds_and_vinyl.csv')"
   ]
  }
 ],
 "metadata": {
  "kernelspec": {
   "display_name": "Python 3",
   "language": "python",
   "name": "python3"
  },
  "language_info": {
   "codemirror_mode": {
    "name": "ipython",
    "version": 3
   },
   "file_extension": ".py",
   "mimetype": "text/x-python",
   "name": "python",
   "nbconvert_exporter": "python",
   "pygments_lexer": "ipython3",
   "version": "3.10.11"
  }
 },
 "nbformat": 4,
 "nbformat_minor": 2
}
