{
 "cells": [
  {
   "cell_type": "markdown",
   "metadata": {},
   "source": [
    "## Code pour préparer les train/valid/test sets\n",
    "* Importer et buncher tous les produits\n",
    "* Séparer en train/valid/test avec strate (sur rating, main_category ou sur categories??)\n",
    "* Filtrer les valeurs aberrantes\n",
    "* Enregistrer les données en 3 fichiers séparés"
   ]
  },
  {
   "cell_type": "code",
   "execution_count": 103,
   "metadata": {},
   "outputs": [],
   "source": [
    "### Packages de base\n",
    "import numpy as np\n",
    "import pandas as pd\n",
    "from sklearn.model_selection import train_test_split"
   ]
  },
  {
   "cell_type": "markdown",
   "metadata": {},
   "source": [
    "### Importer et buncher tous les produits\n"
   ]
  },
  {
   "cell_type": "code",
   "execution_count": 104,
   "metadata": {},
   "outputs": [],
   "source": [
    "## Loader les données\n",
    "appliances = pd.read_csv('./../data/appliances.csv', )\n",
    "cds_and_vinyl = pd.read_csv('./../data/cds_and_vinyl.csv')\n",
    "#digital_music = pd.read_csv('./../data/digital_music.csv')\n",
    "gift_cards = pd.read_csv('./../data/gift_cards.csv')\n",
    "handmade_products = pd.read_csv('./../data/handmade_products.csv')\n",
    "musical_instruments = pd.read_csv('./../data/musical_instruments.csv')\n",
    "video_games = pd.read_csv('./../data/video_games.csv')\n"
   ]
  },
  {
   "cell_type": "code",
   "execution_count": 105,
   "metadata": {},
   "outputs": [],
   "source": [
    "## Buncher ensemble\n",
    "df_full = pd.concat([appliances, cds_and_vinyl, gift_cards, handmade_products, musical_instruments, video_games]) #, digital_music"
   ]
  },
  {
   "cell_type": "code",
   "execution_count": 106,
   "metadata": {},
   "outputs": [],
   "source": [
    "## Ajouter cvolonne ID\n",
    "df_full = df_full.drop(df_full.columns[0], axis=1)\n",
    "df_full['ID'] = range(1, len(df_full)+1)"
   ]
  },
  {
   "cell_type": "code",
   "execution_count": 52,
   "metadata": {},
   "outputs": [
    {
     "name": "stdout",
     "output_type": "stream",
     "text": [
      "(9676194, 13)\n",
      "Index(['parent_asin', 'rating', 'full_text', 'as_image', 'helpful_vote',\n",
      "       'as_helpful_vote', 'verified_purchase', 'main_category',\n",
      "       'average_rating', 'rating_number', 'price', 'categories_grp', 'ID'],\n",
      "      dtype='object')\n"
     ]
    }
   ],
   "source": [
    "print(df_full.shape)\n",
    "print(df_full.columns)"
   ]
  },
  {
   "cell_type": "code",
   "execution_count": 53,
   "metadata": {},
   "outputs": [
    {
     "data": {
      "text/plain": [
       "Digital Music               4210454\n",
       "Video Games                 2078246\n",
       "Musical Instruments         1788145\n",
       "Tools & Home Improvement     610495\n",
       "Handmade                     496372\n",
       "Appliances                   413824\n",
       "Gift Cards                    78658\n",
       "Name: main_category, dtype: int64"
      ]
     },
     "execution_count": 53,
     "metadata": {},
     "output_type": "execute_result"
    }
   ],
   "source": [
    "df_full['main_category'].value_counts()"
   ]
  },
  {
   "cell_type": "code",
   "execution_count": 54,
   "metadata": {},
   "outputs": [
    {
     "data": {
      "text/plain": [
       "Other                     3534024\n",
       "Games                     1138254\n",
       "Pop                        958156\n",
       "Accessories                939992\n",
       "Instrument Accessories     780629\n",
       "Country                    653421\n",
       "Rock                       646734\n",
       "Classical                  477624\n",
       "Looks                      218236\n",
       "Home & Kitchen             206643\n",
       "Parts & Accessories         90361\n",
       "Clothing                    12658\n",
       "Restaurants                 11071\n",
       "Specialty Cards              5433\n",
       "Office-Gaming                2958\n",
       "Name: categories_grp, dtype: int64"
      ]
     },
     "execution_count": 54,
     "metadata": {},
     "output_type": "execute_result"
    }
   ],
   "source": [
    "df_full['categories_grp'].value_counts()"
   ]
  },
  {
   "cell_type": "code",
   "execution_count": 55,
   "metadata": {},
   "outputs": [
    {
     "data": {
      "text/plain": [
       "5.0    6807164\n",
       "4.0    1232124\n",
       "1.0     706686\n",
       "3.0     581437\n",
       "2.0     348783\n",
       "Name: rating, dtype: int64"
      ]
     },
     "execution_count": 55,
     "metadata": {},
     "output_type": "execute_result"
    }
   ],
   "source": [
    "df_full['rating'].value_counts()"
   ]
  },
  {
   "cell_type": "markdown",
   "metadata": {},
   "source": [
    "### Séparer en train/valid/test split"
   ]
  },
  {
   "cell_type": "markdown",
   "metadata": {},
   "source": [
    "#### Test\n",
    "Cet échantillon est pour le test final (jamais vu auparavantr par aucun des 2 modèles) [250 000]"
   ]
  },
  {
   "cell_type": "code",
   "execution_count": 107,
   "metadata": {},
   "outputs": [],
   "source": [
    "train_temp, test = train_test_split(df_full, test_size=250000, random_state=3355, stratify=df_full['rating'])"
   ]
  },
  {
   "cell_type": "code",
   "execution_count": 80,
   "metadata": {},
   "outputs": [
    {
     "data": {
      "text/plain": [
       "Digital Music               108832\n",
       "Video Games                  53810\n",
       "Musical Instruments          45918\n",
       "Tools & Home Improvement     15842\n",
       "Handmade                     12864\n",
       "Appliances                   10642\n",
       "Gift Cards                    2092\n",
       "Name: main_category, dtype: int64"
      ]
     },
     "execution_count": 80,
     "metadata": {},
     "output_type": "execute_result"
    }
   ],
   "source": [
    "test['main_category'].value_counts()"
   ]
  },
  {
   "cell_type": "code",
   "execution_count": 81,
   "metadata": {},
   "outputs": [
    {
     "data": {
      "text/plain": [
       "Other                     91435\n",
       "Games                     29341\n",
       "Pop                       24671\n",
       "Accessories               24469\n",
       "Instrument Accessories    19901\n",
       "Country                   16892\n",
       "Rock                      16656\n",
       "Classical                 12416\n",
       "Looks                      5565\n",
       "Home & Kitchen             5351\n",
       "Parts & Accessories        2438\n",
       "Clothing                    357\n",
       "Restaurants                 280\n",
       "Specialty Cards             149\n",
       "Office-Gaming                79\n",
       "Name: categories_grp, dtype: int64"
      ]
     },
     "execution_count": 81,
     "metadata": {},
     "output_type": "execute_result"
    }
   ],
   "source": [
    "test['categories_grp'].value_counts()"
   ]
  },
  {
   "cell_type": "code",
   "execution_count": 82,
   "metadata": {},
   "outputs": [
    {
     "data": {
      "text/plain": [
       "5.0    175874\n",
       "4.0     31834\n",
       "1.0     18258\n",
       "3.0     15022\n",
       "2.0      9012\n",
       "Name: rating, dtype: int64"
      ]
     },
     "execution_count": 82,
     "metadata": {},
     "output_type": "execute_result"
    }
   ],
   "source": [
    "test['rating'].value_counts()"
   ]
  },
  {
   "cell_type": "code",
   "execution_count": 83,
   "metadata": {},
   "outputs": [
    {
     "name": "stdout",
     "output_type": "stream",
     "text": [
      "Index(['parent_asin', 'rating', 'full_text', 'as_image', 'helpful_vote',\n",
      "       'as_helpful_vote', 'verified_purchase', 'main_category',\n",
      "       'average_rating', 'rating_number', 'price', 'categories_grp', 'ID'],\n",
      "      dtype='object')\n",
      "-- rating --\n",
      "count    250000.000000\n",
      "mean          4.352216\n",
      "std           1.200422\n",
      "min           1.000000\n",
      "25%           4.000000\n",
      "50%           5.000000\n",
      "75%           5.000000\n",
      "max           5.000000\n",
      "Name: rating, dtype: float64\n",
      "-- average_rating --\n",
      "count    250000.000000\n",
      "mean          4.512680\n",
      "std           0.337397\n",
      "min           1.000000\n",
      "25%           4.400000\n",
      "50%           4.600000\n",
      "75%           4.700000\n",
      "max           5.000000\n",
      "Name: average_rating, dtype: float64\n",
      "-- rating_number --\n",
      "count    250000.000000\n",
      "mean       3820.423228\n",
      "std       15264.747721\n",
      "min           1.000000\n",
      "25%          85.000000\n",
      "50%         417.000000\n",
      "75%        1691.000000\n",
      "max      261278.000000\n",
      "Name: rating_number, dtype: float64\n",
      "-- as_image --\n",
      "count    250000.000000\n",
      "mean          0.030748\n",
      "std           0.172635\n",
      "min           0.000000\n",
      "25%           0.000000\n",
      "50%           0.000000\n",
      "75%           0.000000\n",
      "max           1.000000\n",
      "Name: as_image, dtype: float64\n",
      "-- as_helpful_vote --\n",
      "count    250000.000000\n",
      "mean          0.330872\n",
      "std           0.470528\n",
      "min           0.000000\n",
      "25%           0.000000\n",
      "50%           0.000000\n",
      "75%           1.000000\n",
      "max           1.000000\n",
      "Name: as_helpful_vote, dtype: float64\n",
      "-- price --\n",
      "count    250000.000000\n",
      "mean         47.486288\n",
      "std         107.451808\n",
      "min           0.000000\n",
      "25%          11.910000\n",
      "50%          19.980000\n",
      "75%          39.990000\n",
      "max        5600.000000\n",
      "Name: price, dtype: float64\n",
      "-- main_category --\n",
      "Digital Music               108832\n",
      "Video Games                  53810\n",
      "Musical Instruments          45918\n",
      "Tools & Home Improvement     15842\n",
      "Handmade                     12864\n",
      "Appliances                   10642\n",
      "Gift Cards                    2092\n",
      "Name: main_category, dtype: int64\n",
      "-- categories_grp --\n",
      "Other                     91435\n",
      "Games                     29341\n",
      "Pop                       24671\n",
      "Accessories               24469\n",
      "Instrument Accessories    19901\n",
      "Country                   16892\n",
      "Rock                      16656\n",
      "Classical                 12416\n",
      "Looks                      5565\n",
      "Home & Kitchen             5351\n",
      "Parts & Accessories        2438\n",
      "Clothing                    357\n",
      "Restaurants                 280\n",
      "Specialty Cards             149\n",
      "Office-Gaming                79\n",
      "Name: categories_grp, dtype: int64\n",
      "-- verified_purchase --\n",
      "True     199845\n",
      "False     50155\n",
      "Name: verified_purchase, dtype: int64\n"
     ]
    }
   ],
   "source": [
    "### Assurance qualité\n",
    "print(test.columns)\n",
    "\n",
    "print(\"-- rating --\")\n",
    "print(test['rating'].describe())\n",
    "print(\"-- average_rating --\")\n",
    "print(test['average_rating'].describe())\n",
    "print(\"-- rating_number --\")\n",
    "print(test['rating_number'].describe())\n",
    "\n",
    "print(\"-- as_image --\")\n",
    "print(test['as_image'].describe())\n",
    "print(\"-- as_helpful_vote --\")\n",
    "print(test['as_helpful_vote'].describe())\n",
    "\n",
    "print(\"-- price --\")\n",
    "print(test['price'].describe())\n",
    "\n",
    "print(\"-- main_category --\")\n",
    "print(test['main_category'].value_counts())\n",
    "print(\"-- categories_grp --\")\n",
    "print(test['categories_grp'].value_counts())\n",
    "print(\"-- verified_purchase --\")\n",
    "print(test['verified_purchase'].value_counts())"
   ]
  },
  {
   "cell_type": "code",
   "execution_count": 92,
   "metadata": {},
   "outputs": [],
   "source": [
    "## Conserver les variables importantes\n",
    "test_final = test[['ID', 'parent_asin', 'rating', 'full_text', 'as_image', 'helpful_vote',\n",
    "                             'as_helpful_vote', 'verified_purchase', 'main_category',\n",
    "                             'average_rating', 'rating_number', 'price', 'categories_grp']]"
   ]
  },
  {
   "cell_type": "code",
   "execution_count": 93,
   "metadata": {},
   "outputs": [],
   "source": [
    "## Enregistrer l'échantillon de test\n",
    "test_final.to_csv('./../data/test.csv', index=False)"
   ]
  },
  {
   "cell_type": "markdown",
   "metadata": {},
   "source": [
    "#### Valid\n",
    "1 échantillon de valid par modèle [150 000]"
   ]
  },
  {
   "cell_type": "code",
   "execution_count": 85,
   "metadata": {},
   "outputs": [
    {
     "name": "stdout",
     "output_type": "stream",
     "text": [
      "(9426194, 13)\n",
      "Index(['parent_asin', 'rating', 'full_text', 'as_image', 'helpful_vote',\n",
      "       'as_helpful_vote', 'verified_purchase', 'main_category',\n",
      "       'average_rating', 'rating_number', 'price', 'categories_grp', 'ID'],\n",
      "      dtype='object')\n"
     ]
    }
   ],
   "source": [
    "print(train_temp.shape)\n",
    "print(train_temp.columns)"
   ]
  },
  {
   "cell_type": "code",
   "execution_count": 108,
   "metadata": {},
   "outputs": [],
   "source": [
    "train, valid_temp = train_test_split(train_temp, test_size=300000, random_state=9999, stratify=train_temp['rating'])"
   ]
  },
  {
   "cell_type": "code",
   "execution_count": 109,
   "metadata": {},
   "outputs": [],
   "source": [
    "valid_llama, valid_xgb = train_test_split(valid_temp, test_size=0.5, random_state=1234, stratify=valid_temp['rating'])"
   ]
  },
  {
   "cell_type": "code",
   "execution_count": 89,
   "metadata": {},
   "outputs": [
    {
     "name": "stdout",
     "output_type": "stream",
     "text": [
      "(150000, 13)\n",
      "Index(['parent_asin', 'rating', 'full_text', 'as_image', 'helpful_vote',\n",
      "       'as_helpful_vote', 'verified_purchase', 'main_category',\n",
      "       'average_rating', 'rating_number', 'price', 'categories_grp', 'ID'],\n",
      "      dtype='object')\n",
      "(150000, 13)\n",
      "Index(['parent_asin', 'rating', 'full_text', 'as_image', 'helpful_vote',\n",
      "       'as_helpful_vote', 'verified_purchase', 'main_category',\n",
      "       'average_rating', 'rating_number', 'price', 'categories_grp', 'ID'],\n",
      "      dtype='object')\n"
     ]
    }
   ],
   "source": [
    "### Assurance qualité\n",
    "print(valid_xgb.shape)\n",
    "print(valid_xgb.columns)\n",
    "\n",
    "print(valid_llama.shape)\n",
    "print(valid_llama.columns)"
   ]
  },
  {
   "cell_type": "code",
   "execution_count": 90,
   "metadata": {},
   "outputs": [],
   "source": [
    "## Conserver les variables importantes\n",
    "valid_llama_final = valid_llama[['ID', 'rating', 'full_text']]\n",
    "valid_xgb_final = valid_xgb[['ID', 'parent_asin', 'rating', 'as_image', 'helpful_vote',\n",
    "                             'as_helpful_vote', 'verified_purchase', 'main_category',\n",
    "                             'average_rating', 'rating_number', 'price', 'categories_grp']]"
   ]
  },
  {
   "cell_type": "code",
   "execution_count": 91,
   "metadata": {},
   "outputs": [],
   "source": [
    "## Enregistrer les échantillons de valid\n",
    "valid_llama_final.to_csv('./../data/valid_llama.csv', index=False)\n",
    "valid_xgb_final.to_csv('./../data/valid_xgb.csv', index=False)"
   ]
  },
  {
   "cell_type": "markdown",
   "metadata": {},
   "source": [
    "#### Train\n",
    "1 échantillon par modèle [500 000]"
   ]
  },
  {
   "cell_type": "code",
   "execution_count": 94,
   "metadata": {},
   "outputs": [
    {
     "name": "stdout",
     "output_type": "stream",
     "text": [
      "(9126194, 13)\n",
      "Index(['parent_asin', 'rating', 'full_text', 'as_image', 'helpful_vote',\n",
      "       'as_helpful_vote', 'verified_purchase', 'main_category',\n",
      "       'average_rating', 'rating_number', 'price', 'categories_grp', 'ID'],\n",
      "      dtype='object')\n"
     ]
    }
   ],
   "source": [
    "print(train.shape)\n",
    "print(train.columns)"
   ]
  },
  {
   "cell_type": "code",
   "execution_count": 130,
   "metadata": {},
   "outputs": [],
   "source": [
    "train_both = train.sample(n=105000, replace=False, random_state=2024)"
   ]
  },
  {
   "cell_type": "code",
   "execution_count": 131,
   "metadata": {},
   "outputs": [
    {
     "name": "stdout",
     "output_type": "stream",
     "text": [
      "(105000, 13)\n",
      "Index(['parent_asin', 'rating', 'full_text', 'as_image', 'helpful_vote',\n",
      "       'as_helpful_vote', 'verified_purchase', 'main_category',\n",
      "       'average_rating', 'rating_number', 'price', 'categories_grp', 'ID'],\n",
      "      dtype='object')\n",
      "-- rating --\n",
      "count    105000.000000\n",
      "mean          4.356400\n",
      "std           1.194185\n",
      "min           1.000000\n",
      "25%           4.000000\n",
      "50%           5.000000\n",
      "75%           5.000000\n",
      "max           5.000000\n",
      "Name: rating, dtype: float64\n",
      "-- average_rating --\n",
      "count    105000.000000\n",
      "mean          4.514236\n",
      "std           0.334233\n",
      "min           1.000000\n",
      "25%           4.400000\n",
      "50%           4.600000\n",
      "75%           4.700000\n",
      "max           5.000000\n",
      "Name: average_rating, dtype: float64\n",
      "-- rating_number --\n",
      "count    105000.000000\n",
      "mean       3718.954286\n",
      "std       14567.312838\n",
      "min           1.000000\n",
      "25%          83.000000\n",
      "50%         416.000000\n",
      "75%        1704.000000\n",
      "max      261278.000000\n",
      "Name: rating_number, dtype: float64\n",
      "-- as_image --\n",
      "count    105000.000000\n",
      "mean          0.030076\n",
      "std           0.170798\n",
      "min           0.000000\n",
      "25%           0.000000\n",
      "50%           0.000000\n",
      "75%           0.000000\n",
      "max           1.000000\n",
      "Name: as_image, dtype: float64\n",
      "-- as_helpful_vote --\n",
      "count    105000.000000\n",
      "mean          0.332619\n",
      "std           0.471154\n",
      "min           0.000000\n",
      "25%           0.000000\n",
      "50%           0.000000\n",
      "75%           1.000000\n",
      "max           1.000000\n",
      "Name: as_helpful_vote, dtype: float64\n",
      "-- price --\n",
      "count    105000.000000\n",
      "mean         47.106029\n",
      "std         104.874177\n",
      "min           0.000000\n",
      "25%          11.880000\n",
      "50%          19.970000\n",
      "75%          39.990000\n",
      "max        5461.530000\n",
      "Name: price, dtype: float64\n",
      "-- main_category --\n",
      "Digital Music               45950\n",
      "Video Games                 22341\n",
      "Musical Instruments         19353\n",
      "Tools & Home Improvement     6617\n",
      "Handmade                     5374\n",
      "Appliances                   4535\n",
      "Gift Cards                    830\n",
      "Name: main_category, dtype: int64\n",
      "-- categories_grp --\n",
      "Other                     38511\n",
      "Games                     12393\n",
      "Pop                       10479\n",
      "Accessories                9948\n",
      "Instrument Accessories     8279\n",
      "Country                    7280\n",
      "Rock                       6947\n",
      "Classical                  5224\n",
      "Looks                      2387\n",
      "Home & Kitchen             2203\n",
      "Parts & Accessories        1002\n",
      "Clothing                    127\n",
      "Restaurants                 115\n",
      "Specialty Cards              69\n",
      "Office-Gaming                36\n",
      "Name: categories_grp, dtype: int64\n",
      "-- verified_purchase --\n",
      "True     83819\n",
      "False    21181\n",
      "Name: verified_purchase, dtype: int64\n"
     ]
    }
   ],
   "source": [
    "### Assurance qualité\n",
    "print(train_both.shape)\n",
    "print(train_both.columns)\n",
    "\n",
    "print(\"-- rating --\")\n",
    "print(train_both['rating'].describe())\n",
    "print(\"-- average_rating --\")\n",
    "print(train_both['average_rating'].describe())\n",
    "print(\"-- rating_number --\")\n",
    "print(train_both['rating_number'].describe())\n",
    "\n",
    "print(\"-- as_image --\")\n",
    "print(train_both['as_image'].describe())\n",
    "print(\"-- as_helpful_vote --\")\n",
    "print(train_both['as_helpful_vote'].describe())\n",
    "\n",
    "print(\"-- price --\")\n",
    "print(train_both['price'].describe())\n",
    "\n",
    "print(\"-- main_category --\")\n",
    "print(train_both['main_category'].value_counts())\n",
    "print(\"-- categories_grp --\")\n",
    "print(train_both['categories_grp'].value_counts())\n",
    "print(\"-- verified_purchase --\")\n",
    "print(train_both['verified_purchase'].value_counts())"
   ]
  },
  {
   "cell_type": "code",
   "execution_count": 132,
   "metadata": {},
   "outputs": [],
   "source": [
    "train_xgb, train_llama = train_test_split(train_both, test_size=50000, random_state=7190, stratify=train_both['rating'])"
   ]
  },
  {
   "cell_type": "code",
   "execution_count": 133,
   "metadata": {},
   "outputs": [
    {
     "name": "stdout",
     "output_type": "stream",
     "text": [
      "(55000, 13)\n",
      "(50000, 13)\n"
     ]
    }
   ],
   "source": [
    "print(train_xgb.shape)\n",
    "print(train_llama.shape)"
   ]
  },
  {
   "cell_type": "code",
   "execution_count": 134,
   "metadata": {},
   "outputs": [],
   "source": [
    "## Conserver les variables importantes\n",
    "train_llama_final = train_llama[['ID', 'rating', 'full_text']]\n",
    "train_xgb_final = train_xgb[['ID', 'parent_asin', 'rating', 'full_text', 'as_image', 'helpful_vote',\n",
    "                             'as_helpful_vote', 'verified_purchase', 'main_category',\n",
    "                             'average_rating', 'rating_number', 'price', 'categories_grp']]"
   ]
  },
  {
   "cell_type": "code",
   "execution_count": 135,
   "metadata": {},
   "outputs": [],
   "source": [
    "## Filtrer avant de saver\n",
    "train_xgb_final = train_xgb_final[train_xgb_final['rating_number'] <= 25000]\n",
    "train_xgb_final = train_xgb_final[train_xgb_final['helpful_vote'] <= 10]\n",
    "train_xgb_final = train_xgb_final[train_xgb_final['price'] <= 500]"
   ]
  },
  {
   "cell_type": "code",
   "execution_count": 136,
   "metadata": {},
   "outputs": [
    {
     "data": {
      "text/plain": [
       "(51541, 13)"
      ]
     },
     "execution_count": 136,
     "metadata": {},
     "output_type": "execute_result"
    }
   ],
   "source": [
    "train_xgb_final.shape"
   ]
  },
  {
   "cell_type": "code",
   "execution_count": 137,
   "metadata": {},
   "outputs": [],
   "source": [
    "## Enregistrer les échantillons de valid\n",
    "train_llama_final.to_csv('./../data/train_llama.csv', index=False)\n",
    "train_xgb_final.to_csv('./../data/train_xgb.csv', index=False)"
   ]
  }
 ],
 "metadata": {
  "kernelspec": {
   "display_name": "Python 3",
   "language": "python",
   "name": "python3"
  },
  "language_info": {
   "codemirror_mode": {
    "name": "ipython",
    "version": 3
   },
   "file_extension": ".py",
   "mimetype": "text/x-python",
   "name": "python",
   "nbconvert_exporter": "python",
   "pygments_lexer": "ipython3",
   "version": "3.10.11"
  }
 },
 "nbformat": 4,
 "nbformat_minor": 2
}
